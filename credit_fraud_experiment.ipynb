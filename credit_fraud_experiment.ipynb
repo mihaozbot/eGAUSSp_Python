{
 "cells": [
  {
   "cell_type": "code",
   "execution_count": null,
   "metadata": {},
   "outputs": [],
   "source": [
    "import pandas as pd\n",
    "import torch\n",
    "import numpy as np\n",
    "from torch.utils.data import DataLoader\n",
    "\n",
    "#%load_ext line_profiler"
   ]
  },
  {
   "cell_type": "code",
   "execution_count": null,
   "metadata": {},
   "outputs": [],
   "source": [
    "from model.eGauss_plus import eGAUSSp"
   ]
  },
  {
   "cell_type": "code",
   "execution_count": null,
   "metadata": {},
   "outputs": [],
   "source": [
    "# Load the dataset\n",
    "file_path = 'Datasets/creditcard.csv'\n",
    "data = pd.read_csv(file_path)\n"
   ]
  },
  {
   "cell_type": "code",
   "execution_count": null,
   "metadata": {},
   "outputs": [],
   "source": [
    "from utils.utils_dataset import balance_dataset\n",
    "from utils.utils_dataset import prepare_dataset\n",
    "\n",
    "device = torch.device(\"cpu\")\n",
    "\n",
    "num_clients = 4\n",
    "\n",
    "data = balance_dataset(data)\n",
    "X = data.iloc[:, :-1].values\n",
    "y = data.iloc[:, -1].values\n",
    "client_train, test_data, all_data = prepare_dataset(X, y, num_clients) \n"
   ]
  },
  {
   "cell_type": "code",
   "execution_count": null,
   "metadata": {},
   "outputs": [],
   "source": [
    "\n",
    "# Model parameters\n",
    "local_model_params = {\n",
    "    \"feature_dim\": 30,\n",
    "    \"num_classes\": 2,\n",
    "    \"N_max\": 1,\n",
    "    \"num_sigma\": 5,\n",
    "    \"kappa_join\": 3,\n",
    "    \"S_0\": 1e-8,\n",
    "    \"c_max\": 1,\n",
    "    \"device\": torch.device(\"cpu\")\n",
    "}\n",
    "federated_model_params = {\n",
    "    \"feature_dim\": 30,\n",
    "    \"num_classes\": 2,\n",
    "    \"N_max\": 1,\n",
    "    \"num_sigma\": 4,\n",
    "    \"kappa_join\": 3,\n",
    "    \"S_0\": 1e-8,\n",
    "    \"c_max\": 2,\n",
    "    \"device\": torch.device(\"cpu\")\n",
    "}\n",
    "\n",
    "# Initialize a model for each client\n",
    "local_models = [eGAUSSp(**local_model_params) for _ in range(num_clients)]\n",
    "federated_model = eGAUSSp(**federated_model_params)\n"
   ]
  },
  {
   "cell_type": "code",
   "execution_count": null,
   "metadata": {},
   "outputs": [],
   "source": [
    "from utils.utils_dataset import prepare_non_iid_dataset, plot_dataset_split, display_dataset_split\n",
    "\n",
    "display_dataset_split(client_train, test_data)\n",
    "plot_dataset_split(client_train, test_data)"
   ]
  },
  {
   "cell_type": "code",
   "execution_count": null,
   "metadata": {},
   "outputs": [],
   "source": [
    "import utils.utils_train\n",
    "from utils.utils_train import train_supervised, train_unsupervised\n",
    "from utils.utils_plots import plot_first_feature\n",
    "\n",
    "if False:\n",
    "\n",
    "    # Assuming models and client_data are already defined\n",
    "    for client_idx, client_model in enumerate(local_models):\n",
    "        print(f\"Training model for client {client_idx + 1}\")\n",
    "        train_supervised(client_model, client_train[client_idx]) \n",
    "        plot_first_feature(client_train[client_idx], model=client_model, num_sigma=2, N_max=1)  \n"
   ]
  },
  {
   "cell_type": "code",
   "execution_count": null,
   "metadata": {},
   "outputs": [],
   "source": [
    "import utils.utils_train\n",
    "from utils.utils_train import train_models_in_threads\n",
    "from utils.utils_plots import plot_first_feature\n",
    "\n",
    "# Assuming local_models and client_train are already defined\n",
    "# local_models is a list of models, client_train is a list of corresponding training datasets\n",
    "train_models_in_threads(local_models, client_train)\n"
   ]
  },
  {
   "cell_type": "code",
   "execution_count": null,
   "metadata": {},
   "outputs": [],
   "source": [
    "from utils.utils_train import test_model   \n",
    "\n",
    "# Testing each client's model on the global test dataset\n",
    "for client_idx, client_model in enumerate(local_models):\n",
    "    print(f\"\\nTesting model for client {client_idx + 1}\")\n",
    "    metrics = test_model(client_model, test_data)\n",
    "    #test_model(client_model, all_data)\n",
    "    print(f\"Test Metrics: {metrics}\")"
   ]
  },
  {
   "cell_type": "code",
   "execution_count": null,
   "metadata": {},
   "outputs": [],
   "source": [
    "\n",
    "for client_idx, client_model in enumerate(local_models):\n",
    "        print(f\"Merging client {client_idx + 1}\")\n",
    "        client_model.federal_agent.federated_merging() \n",
    "        print(f\"Number of client {client_idx + 1} clusters = {torch.sum(client_model.n[:client_model.c]>1)}\")\n",
    "        federated_model.federal_agent.merge_model_privately(client_model, 1)\n",
    "\n",
    "print(f\"Number of clusters after transfer = {federated_model.c}\")"
   ]
  },
  {
   "cell_type": "code",
   "execution_count": null,
   "metadata": {},
   "outputs": [],
   "source": [
    "from utils.utils_train import test_model\n",
    "\n",
    "federated_model.federal_agent.federated_merging()\n",
    "print(f\"Number of clusters after merging = {federated_model.c}\")\n",
    "\n",
    "plot_first_feature(all_data, model=federated_model, num_sigma=2, N_max=1)   \n",
    "\n",
    "print(f\"\\nTesting federated model\")   \n",
    "\n",
    "test_model(federated_model, test_data)\n",
    "#test_model(federated_model, all_data)"
   ]
  }
 ],
 "metadata": {
  "kernelspec": {
   "display_name": "Python 3",
   "language": "python",
   "name": "python3"
  },
  "language_info": {
   "codemirror_mode": {
    "name": "ipython",
    "version": 3
   },
   "file_extension": ".py",
   "mimetype": "text/x-python",
   "name": "python",
   "nbconvert_exporter": "python",
   "pygments_lexer": "ipython3",
   "version": "3.11.6"
  }
 },
 "nbformat": 4,
 "nbformat_minor": 2
}
