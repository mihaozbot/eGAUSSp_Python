{
 "cells": [
  {
   "cell_type": "code",
   "execution_count": 12,
   "metadata": {},
   "outputs": [],
   "source": [
    "import pandas as pd\n",
    "import torch\n",
    "from sklearn.preprocessing import StandardScaler\n",
    "from utils.utils_train import train_supervised, train_models_in_threads, test_model_in_batches\n",
    "from utils.utils_plots import plot_first_feature\n",
    "from utils.utils_dataset import balance_dataset, prepare_dataset\n",
    "from utils.utils_dataset import prepare_non_iid_dataset, plot_dataset_split, display_dataset_split\n",
    "from utils.utils_metrics import calculate_metrics, plot_confusion_matrix, calculate_roc_auc\n",
    "#%load_ext line_profiler"
   ]
  },
  {
   "cell_type": "code",
   "execution_count": 13,
   "metadata": {},
   "outputs": [],
   "source": [
    "from model.eGauss_plus import eGAUSSp"
   ]
  },
  {
   "cell_type": "code",
   "execution_count": 14,
   "metadata": {},
   "outputs": [
    {
     "data": {
      "text/plain": [
       "\"\\n# Initialize the StandardScaler\\nscaler = StandardScaler()\\n\\n# Select the columns to normalize - all except 'Class'\\ncols_to_normalize = [col for col in data.columns if col != 'Class']\\n\\n# Apply the normalization\\ndata[cols_to_normalize] = scaler.fit_transform(data[cols_to_normalize])\\n\""
      ]
     },
     "execution_count": 14,
     "metadata": {},
     "output_type": "execute_result"
    }
   ],
   "source": [
    "# Load the dataset\n",
    "file_path = 'Datasets/creditcard.csv'\n",
    "data = pd.read_csv(file_path)\n",
    "\n",
    "'''\n",
    "# Initialize the StandardScaler\n",
    "scaler = StandardScaler()\n",
    "\n",
    "# Select the columns to normalize - all except 'Class'\n",
    "cols_to_normalize = [col for col in data.columns if col != 'Class']\n",
    "\n",
    "# Apply the normalization\n",
    "data[cols_to_normalize] = scaler.fit_transform(data[cols_to_normalize])\n",
    "'''"
   ]
  },
  {
   "cell_type": "code",
   "execution_count": 15,
   "metadata": {},
   "outputs": [
    {
     "name": "stdout",
     "output_type": "stream",
     "text": [
      "False\n"
     ]
    }
   ],
   "source": [
    "print(f\"{torch.cuda.is_available()}\")\n",
    "device =  torch.device(\"cuda\" if torch.cuda.is_available() else \"cpu\")"
   ]
  },
  {
   "cell_type": "code",
   "execution_count": 16,
   "metadata": {},
   "outputs": [],
   "source": [
    "# Model parameters\n",
    "local_model_params = {\n",
    "    \"feature_dim\": 30,\n",
    "    \"num_classes\": 2,\n",
    "    \"kappa_n\": 1,\n",
    "    \"num_sigma\": 1,\n",
    "    \"kappa_join\": 0.7,\n",
    "    \"S_0\": 1e-10,\n",
    "    \"N_r\": 10,\n",
    "    \"c_max\": 100,\n",
    "    \"num_samples\": 200,\n",
    "    \"device\": device\n",
    "}\n",
    "\n",
    "federated_model_params = {\n",
    "    \"feature_dim\": 30,\n",
    "    \"num_classes\": 2,\n",
    "    \"kappa_n\": 1,\n",
    "    \"num_sigma\": 1,\n",
    "    \"kappa_join\": 0.7,\n",
    "    \"S_0\": 1e-10,\n",
    "    \"N_r\": 10,\n",
    "    \"c_max\": 100,\n",
    "    \"num_samples\": 200,\n",
    "    \"device\": device\n",
    "}"
   ]
  },
  {
   "cell_type": "code",
   "execution_count": 17,
   "metadata": {},
   "outputs": [],
   "source": [
    "\n",
    "#display_dataset_split(client_train, test_data)\n",
    "#plot_dataset_split(client_train, test_data)"
   ]
  },
  {
   "cell_type": "code",
   "execution_count": 18,
   "metadata": {},
   "outputs": [
    {
     "name": "stdout",
     "output_type": "stream",
     "text": [
      "The line_profiler extension is already loaded. To reload it, use:\n",
      "  %reload_ext line_profiler\n"
     ]
    }
   ],
   "source": [
    "\n",
    "import cProfile\n",
    "%load_ext line_profiler\n",
    "\n",
    "\n",
    "#plot_first_feature(client_train[client_idx], model=client_model, num_sigma=2, N_max=1)  \n",
    "\n"
   ]
  },
  {
   "cell_type": "code",
   "execution_count": 19,
   "metadata": {},
   "outputs": [],
   "source": [
    "if False:\n",
    "       data, labels = client_train[0]\n",
    "       model = local_models[0]\n",
    "\n",
    "       %lprun -f model.forward\\\n",
    "              -f model.merging_mech.compute_kappa_matrix \\\n",
    "              -f model.merging_mech.merging_mechanism \\\n",
    "              -f model.merging_mech.update_merging_condition \\\n",
    "              -f model.merging_mech.compute_merging_condition\\\n",
    "              -f model.merging_mech.perform_merge\\\n",
    "              train_supervised(model, client_train[0])"
   ]
  },
  {
   "cell_type": "code",
   "execution_count": 20,
   "metadata": {},
   "outputs": [],
   "source": [
    "def compare_models(model1, model2):\n",
    "    differences = []\n",
    "\n",
    "    # Function to find differing indices within the overlapping range\n",
    "    def find_differing_indices(tensor1, tensor2):\n",
    "        min_length = min(tensor1.size(0), tensor2.size(0))\n",
    "        differing = (tensor1[:min_length] != tensor2[:min_length]).nonzero(as_tuple=False)\n",
    "        if differing.nelement() == 0:\n",
    "            return \"No differences\"\n",
    "        else:\n",
    "            return differing.view(-1).tolist()  # Flatten and convert to list\n",
    "\n",
    "    # Compare mu parameter and find differing indices\n",
    "    mu_equal = torch.equal(model1.mu[:model1.c], model2.mu[:model2.c])\n",
    "    if not mu_equal:\n",
    "        differing_indices_mu = find_differing_indices(model1.mu[:model1.c], model2.mu[:model2.c])\n",
    "        differences.append(f\"mu parameter differs at indices {differing_indices_mu}\")\n",
    "\n",
    "    # Compare S parameter and find differing indices\n",
    "    S_equal = torch.equal(model1.S[:model1.c], model2.S[:model2.c])\n",
    "    if not S_equal:\n",
    "        differing_indices_S = find_differing_indices(model1.S[:model1.c], model2.S[:model2.c])\n",
    "        differences.append(f\"S parameter differs at indices {differing_indices_S}\")\n",
    "\n",
    "    # Compare n parameter and find differing indices\n",
    "    n_equal = torch.equal(model1.n[:model1.c], model2.n[:model2.c])\n",
    "    if not n_equal:\n",
    "        differing_indices_n = find_differing_indices(model1.n[:model1.c], model2.n[:model2.c])\n",
    "        differences.append(f\"n parameter differs at indices {differing_indices_n}\")\n",
    "\n",
    "    # Check if there are any differences\n",
    "    if differences:\n",
    "        difference_str = \", \".join(differences)\n",
    "        return False, f\"Differences found in: {difference_str}\"\n",
    "    else:\n",
    "        return True, \"Models are identical\"\n"
   ]
  },
  {
   "cell_type": "code",
   "execution_count": 21,
   "metadata": {},
   "outputs": [],
   "source": [
    "import torch.nn as nn\n",
    "\n",
    "def run_experiment(num_clients, num_rounds, clients_data, test_data):\n",
    "        \n",
    "    # Initialize a model for each client\n",
    "    local_models = [eGAUSSp(**local_model_params) for _ in range(num_clients)]\n",
    "    federated_model = eGAUSSp(**federated_model_params)\n",
    "\n",
    "    # Initialize a list to store the metrics for each round\n",
    "    round_metrics = []\n",
    "\n",
    "    if False:\n",
    "        # Assuming models and client_data are already defined\n",
    "        #for client_idx, client_model in enumerate(local_models)\n",
    "        model = local_models[0]\n",
    "        pr = cProfile.Profile()\n",
    "        pr.enable()\n",
    "        train_supervised(model, client_train[0])\n",
    "        pr.disable()\n",
    "        pr.print_stats(sort='cumtime')\n",
    "\n",
    "    for round in range(num_rounds):\n",
    "        print(f\"--- Communication Round {round + 1} ---\")\n",
    "\n",
    "        aggregated_model = eGAUSSp(**federated_model_params)\n",
    "        federated_model = eGAUSSp(**federated_model_params)\n",
    "\n",
    "        # Train local models\n",
    "        #train_models_in_threads(local_models, clients_data)\n",
    "        for local_model, client_data in zip(local_models, clients_data):\n",
    "            train_supervised(local_model, client_data)\n",
    "\n",
    "            all_scores, pred_max, _ = test_model_in_batches(local_model, test_data)\n",
    "            binary = calculate_metrics(pred_max, test_data, \"binary\")\n",
    "            roc_auc = calculate_roc_auc(all_scores, test_data)\n",
    "            print(f\"Test Metrics: {binary}\")\n",
    "            print(f\"Test ROC AUC: {roc_auc}\")\n",
    "            plot_confusion_matrix(pred_max, test_data)\n",
    "\n",
    "        # Update federated model with local models\n",
    "        for client_idx, client_model in enumerate(local_models):\n",
    "            #client_model.federal_agent.federated_merging()\n",
    "            print(f\"Updating agreggated model with client {client_idx + 1}\")\n",
    "\n",
    "            aggregated_model.federal_agent.merge_model_privately(client_model, client_model.kappa_n)\n",
    "            print(f\"Number of agreggated clusters after transfer = {sum(aggregated_model.n[0:aggregated_model.c]> aggregated_model.kappa_n)}\")\n",
    "            aggregated_model.federal_agent.federated_merging()\n",
    "            print(f\"Number of federated clusters after merging = {sum(aggregated_model.n[0:federated_model.c]> federated_model.kappa_n)}\")\n",
    "\n",
    "            \n",
    "                   \n",
    "        #client_model.score = 0*client_model.score  \n",
    "        #aggregated_model.S_glo = client_model.S_glo\n",
    "        #aggregated_model.mu_glo = client_model.mu_glo     \n",
    "\n",
    "        '''\n",
    "        if round>1:\n",
    "            with torch.no_grad():\n",
    "                aggregated_model.S = nn.Parameter(aggregated_model.S/2)\n",
    "                aggregated_model.n = nn.Parameter(aggregated_model.n/2)\n",
    "\n",
    "                aggregated_model.S_glo = aggregated_model.S_glo/2\n",
    "                aggregated_model.n_glo = aggregated_model.n_glo/2\n",
    "        '''\n",
    "        \n",
    "        # New code for comparison using the updated compare_models function\n",
    "        #are_models_same, comparison_message = compare_models(client_model, aggregated_model)\n",
    "        #print(f\"Comparison details: {comparison_message}\")\n",
    "\n",
    "        # Update federated model with local models\n",
    "        print(f\"Updating federated model with agreggated model\")\n",
    "        federated_model = aggregated_model #.federal_agent.merge_model_privately(aggregated_model, federated_model.kappa_n)\n",
    "        print(f\"Number of federated clusters after transfer = {sum(federated_model.n[0:federated_model.c]> federated_model.kappa_n)}\")\n",
    "\n",
    " \n",
    "        # Perform federated merging and removal mechanism on the federated model\n",
    "        if any(federated_model.n[0:federated_model.c]> federated_model.kappa_n):\n",
    "\n",
    "            # Evaluate federated model\n",
    "            all_scores_fed, pred_max_fed, _ = test_model_in_batches(federated_model, test_data)\n",
    "            binary_fed = calculate_metrics(pred_max_fed, test_data, \"binary\")\n",
    "            roc_auc_fed = calculate_roc_auc(all_scores_fed, test_data)\n",
    "            print(f\"Test Metrics: {binary_fed}\")\n",
    "            print(f\"Test ROC AUC: {roc_auc_fed}\")\n",
    "\n",
    "            plot_confusion_matrix(pred_max_fed, test_data)\n",
    "\n",
    "            # Append metrics to the list\n",
    "            round_metrics.append({\n",
    "                'round': round + 1,\n",
    "                'clusters': federated_model.c,\n",
    "                'binary': binary_fed,\n",
    "                'roc_auc': roc_auc_fed\n",
    "            })\n",
    "            \n",
    "        local_models = [eGAUSSp(**local_model_params) for _ in range(num_clients)]  \n",
    "        # Return the updated federated model to each client\n",
    "        for client_idx in range(len(local_models)):\n",
    "            print(f\"Returning updated model to client {client_idx + 1}\")\n",
    "            #local_models[client_idx] = federated_model\n",
    "            \n",
    "            local_models[client_idx].federal_agent.merge_model_privately(federated_model, federated_model.kappa_n)\n",
    "            #local_models[client_idx].score = torch.zeros_like(local_models[client_idx].score)\n",
    "\n",
    "            '''\n",
    "            # Return the updated federated model to each client\n",
    "            for client_idx, client_model in enumerate(local_models):\n",
    "                print(f\"Returning updated model to client {client_idx + 1}\")\n",
    "                client_model.federal_agent.merge_model_privately(federated_model, federated_model.kappa_n)\n",
    "                client_model.federal_agent.federated_merging()\n",
    "            '''\n",
    "            \n",
    "        print(f\"--- End of Round {round + 1} ---\\n\")\n",
    "        if  round == (num_rounds-1):\n",
    "            plot_first_feature(test_data, model=federated_model, num_sigma=2, N_max = federated_model.kappa_n)   \n",
    "    \n",
    "    # After all rounds\n",
    "    print(\"All Rounds Completed. Metrics Collected:\")\n",
    "    for metric in round_metrics:\n",
    "        print(f\"Round {metric['round']}: Metrics: {metric['binary']}, ROC AUC: {metric['roc_auc']}\")\n",
    "        #print(f\"                         Weighted: {metric['weighted']}\")\n",
    "\n",
    "\n",
    "    return round_metrics"
   ]
  },
  {
   "cell_type": "code",
   "execution_count": 22,
   "metadata": {},
   "outputs": [
    {
     "name": "stdout",
     "output_type": "stream",
     "text": [
      "Client 1: {0: 66346, 1: 109}\n",
      "Client 2: {0: 66331, 1: 124}\n",
      "Client 3: {0: 66354, 1: 100}\n",
      "Test Set: {0: 85284, 1: 159}\n",
      "\n",
      "Combined Number of Samples per Class:\n",
      "Class 0: 284315 samples\n",
      "Class 1: 492 samples\n",
      "\n",
      "Total Number of Samples Across All Datasets: 284807\n",
      "Running experiment with 3 clients and data configuration 3\n",
      "--- Communication Round 1 ---\n",
      "Evolving has been enabled.\n",
      "Evolving has been disabled.\n"
     ]
    },
    {
     "data": {
      "image/png": "[encoded data removed]",
      "text/plain": [
       "<Figure size 800x600 with 1 Axes>"
      ]
     },
     "metadata": {},
     "output_type": "display_data"
    },
    {
     "name": "stdout",
     "output_type": "stream",
     "text": [
      "Test Metrics: {'accuracy': 0.6630502206149128, 'precision': 0.005355723713762482, 'recall': 0.9748427672955975, 'f1_score': 0.010652920962199313}\n",
      "Test ROC AUC: 0.9727855269511648\n"
     ]
    },
    {
     "data": {
      "image/png": "[encoded data removed]",
      "text/plain": [
       "<Figure size 400x300 with 2 Axes>"
      ]
     },
     "metadata": {},
     "output_type": "display_data"
    },
    {
     "name": "stdout",
     "output_type": "stream",
     "text": [
      "Evolving has been enabled.\n"
     ]
    },
    {
     "ename": "KeyboardInterrupt",
     "evalue": "",
     "output_type": "error",
     "traceback": [
      "\u001b[1;31m---------------------------------------------------------------------------\u001b[0m",
      "\u001b[1;31mKeyboardInterrupt\u001b[0m                         Traceback (most recent call last)",
      "Cell \u001b[1;32mIn[22], line 32\u001b[0m\n\u001b[0;32m     29\u001b[0m display_dataset_split(client_train, test_data)\n\u001b[0;32m     31\u001b[0m \u001b[38;5;28mprint\u001b[39m(\u001b[38;5;124mf\u001b[39m\u001b[38;5;124m\"\u001b[39m\u001b[38;5;124mRunning experiment with \u001b[39m\u001b[38;5;132;01m{\u001b[39;00mnum_clients\u001b[38;5;132;01m}\u001b[39;00m\u001b[38;5;124m clients and data configuration \u001b[39m\u001b[38;5;132;01m{\u001b[39;00mdata_config_index\u001b[38;5;132;01m}\u001b[39;00m\u001b[38;5;124m\"\u001b[39m)\n\u001b[1;32m---> 32\u001b[0m metrics \u001b[38;5;241m=\u001b[39m \u001b[43mrun_experiment\u001b[49m\u001b[43m(\u001b[49m\u001b[43mnum_clients\u001b[49m\u001b[43m,\u001b[49m\u001b[43m \u001b[49m\u001b[43mnum_rounds\u001b[49m\u001b[43m,\u001b[49m\u001b[43m \u001b[49m\u001b[43mclient_train\u001b[49m\u001b[43m,\u001b[49m\u001b[43m \u001b[49m\u001b[43mtest_data\u001b[49m\u001b[43m)\u001b[49m\n\u001b[0;32m     33\u001b[0m experiments\u001b[38;5;241m.\u001b[39mappend(metrics)\n",
      "Cell \u001b[1;32mIn[21], line 31\u001b[0m, in \u001b[0;36mrun_experiment\u001b[1;34m(num_clients, num_rounds, clients_data, test_data)\u001b[0m\n\u001b[0;32m     28\u001b[0m \u001b[38;5;66;03m# Train local models\u001b[39;00m\n\u001b[0;32m     29\u001b[0m \u001b[38;5;66;03m#train_models_in_threads(local_models, clients_data)\u001b[39;00m\n\u001b[0;32m     30\u001b[0m \u001b[38;5;28;01mfor\u001b[39;00m local_model, client_data \u001b[38;5;129;01min\u001b[39;00m \u001b[38;5;28mzip\u001b[39m(local_models, clients_data):\n\u001b[1;32m---> 31\u001b[0m     \u001b[43mtrain_supervised\u001b[49m\u001b[43m(\u001b[49m\u001b[43mlocal_model\u001b[49m\u001b[43m,\u001b[49m\u001b[43m \u001b[49m\u001b[43mclient_data\u001b[49m\u001b[43m)\u001b[49m\n\u001b[0;32m     33\u001b[0m     all_scores, pred_max, _ \u001b[38;5;241m=\u001b[39m test_model_in_batches(local_model, test_data)\n\u001b[0;32m     34\u001b[0m     binary \u001b[38;5;241m=\u001b[39m calculate_metrics(pred_max, test_data, \u001b[38;5;124m\"\u001b[39m\u001b[38;5;124mbinary\u001b[39m\u001b[38;5;124m\"\u001b[39m)\n",
      "File \u001b[1;32mc:\\Users\\Miha\\OneDrive - Univerza v Ljubljani\\Doktorski_studij\\Delo\\eGAUSSp_Python\\utils\\utils_train.py:16\u001b[0m, in \u001b[0;36mtrain_supervised\u001b[1;34m(model, client_data)\u001b[0m\n\u001b[0;32m     13\u001b[0m data, labels \u001b[38;5;241m=\u001b[39m data\u001b[38;5;241m.\u001b[39mto(model\u001b[38;5;241m.\u001b[39mdevice), labels\u001b[38;5;241m.\u001b[39mto(model\u001b[38;5;241m.\u001b[39mdevice)\n\u001b[0;32m     15\u001b[0m \u001b[38;5;66;03m# Training loop\u001b[39;00m\n\u001b[1;32m---> 16\u001b[0m \u001b[43mmodel\u001b[49m\u001b[38;5;241;43m.\u001b[39;49m\u001b[43mclustering\u001b[49m\u001b[43m(\u001b[49m\u001b[43mdata\u001b[49m\u001b[43m,\u001b[49m\u001b[43m \u001b[49m\u001b[43mlabels\u001b[49m\u001b[43m)\u001b[49m\n",
      "File \u001b[1;32mc:\\Users\\Miha\\OneDrive - Univerza v Ljubljani\\Doktorski_studij\\Delo\\eGAUSSp_Python\\model\\eGauss_plus.py:100\u001b[0m, in \u001b[0;36meGAUSSp.clustering\u001b[1;34m(self, data, labels)\u001b[0m\n\u001b[0;32m     97\u001b[0m \u001b[38;5;28mself\u001b[39m\u001b[38;5;241m.\u001b[39mmatching_clusters \u001b[38;5;241m=\u001b[39m torch\u001b[38;5;241m.\u001b[39marange(\u001b[38;5;28mself\u001b[39m\u001b[38;5;241m.\u001b[39mc, dtype\u001b[38;5;241m=\u001b[39mtorch\u001b[38;5;241m.\u001b[39mint64, device\u001b[38;5;241m=\u001b[39m\u001b[38;5;28mself\u001b[39m\u001b[38;5;241m.\u001b[39mdevice)\n\u001b[0;32m     99\u001b[0m \u001b[38;5;66;03m# Compute activation\u001b[39;00m\n\u001b[1;32m--> 100\u001b[0m \u001b[38;5;28mself\u001b[39m\u001b[38;5;241m.\u001b[39mGamma \u001b[38;5;241m=\u001b[39m \u001b[38;5;28;43mself\u001b[39;49m\u001b[38;5;241;43m.\u001b[39;49m\u001b[43mmathematician\u001b[49m\u001b[38;5;241;43m.\u001b[39;49m\u001b[43mcompute_activation\u001b[49m\u001b[43m(\u001b[49m\u001b[43mz\u001b[49m\u001b[43m)\u001b[49m\n\u001b[0;32m    102\u001b[0m \u001b[38;5;66;03m# In training mode, match clusters based on the label\u001b[39;00m\n\u001b[0;32m    103\u001b[0m \u001b[38;5;28mself\u001b[39m\u001b[38;5;241m.\u001b[39mmatching_clusters \u001b[38;5;241m=\u001b[39m torch\u001b[38;5;241m.\u001b[39mwhere(\u001b[38;5;28mself\u001b[39m\u001b[38;5;241m.\u001b[39mcluster_labels[:\u001b[38;5;28mself\u001b[39m\u001b[38;5;241m.\u001b[39mc][:, label] \u001b[38;5;241m==\u001b[39m \u001b[38;5;241m1\u001b[39m)[\u001b[38;5;241m0\u001b[39m]\n",
      "File \u001b[1;32mc:\\Users\\Miha\\OneDrive - Univerza v Ljubljani\\Doktorski_studij\\Delo\\eGAUSSp_Python\\model\\math_operations.py:55\u001b[0m, in \u001b[0;36mMathOps.compute_activation\u001b[1;34m(self, z)\u001b[0m\n\u001b[0;32m     33\u001b[0m \u001b[38;5;66;03m# Mask for clusters with a single sample\u001b[39;00m\n\u001b[0;32m     34\u001b[0m \u001b[38;5;250m\u001b[39m\u001b[38;5;124;03m'''\u001b[39;00m\n\u001b[0;32m     35\u001b[0m \u001b[38;5;124;03msingle_sample_mask = n == 1\u001b[39;00m\n\u001b[0;32m     36\u001b[0m \n\u001b[1;32m   (...)\u001b[0m\n\u001b[0;32m     52\u001b[0m \u001b[38;5;124;03m    d2[non_single_sample_mask] = d2_mahalanobis\u001b[39;00m\n\u001b[0;32m     53\u001b[0m \u001b[38;5;124;03m'''\u001b[39;00m\n\u001b[1;32m---> 55\u001b[0m S_inv \u001b[38;5;241m=\u001b[39m \u001b[43mtorch\u001b[49m\u001b[38;5;241;43m.\u001b[39;49m\u001b[43mlinalg\u001b[49m\u001b[38;5;241;43m.\u001b[39;49m\u001b[43minv\u001b[49m\u001b[43m(\u001b[49m\u001b[43mSigma\u001b[49m\u001b[43m)\u001b[49m\n\u001b[0;32m     56\u001b[0m diff \u001b[38;5;241m=\u001b[39m (z_expanded \u001b[38;5;241m-\u001b[39m mu)\u001b[38;5;241m.\u001b[39munsqueeze(\u001b[38;5;241m-\u001b[39m\u001b[38;5;241m1\u001b[39m)\n\u001b[0;32m     57\u001b[0m d2 \u001b[38;5;241m=\u001b[39m torch\u001b[38;5;241m.\u001b[39mbmm(torch\u001b[38;5;241m.\u001b[39mbmm(diff\u001b[38;5;241m.\u001b[39mtranspose(\u001b[38;5;241m1\u001b[39m, \u001b[38;5;241m2\u001b[39m), S_inv), diff)\u001b[38;5;241m.\u001b[39msqueeze()\n",
      "\u001b[1;31mKeyboardInterrupt\u001b[0m: "
     ]
    }
   ],
   "source": [
    "# List of client counts and data configuration indices\n",
    "client_counts = [3, 10]\n",
    "data_config_indices = [3]  # Replace with your actual data configuration indices\n",
    "\n",
    "# Assuming local_models, client_train, federated_model, and test_data are already defined\n",
    "# Number of communication rounds\n",
    "num_rounds = 10\n",
    "experiments = []\n",
    "# Running the experiment\n",
    "for num_clients in client_counts:\n",
    "    for data_config_index in data_config_indices:\n",
    "        if data_config_index == 1:\n",
    "            proportion = 1\n",
    "            data_partitioned = balance_dataset(data, proportion)\n",
    "            X = data_partitioned.iloc[:, :-1].values\n",
    "            y = data_partitioned.iloc[:, -1].values\n",
    "            client_train, test_data, all_data = prepare_dataset(X, y, num_clients, smote = False) \n",
    "        if data_config_index == 2:\n",
    "            proportion = 10\n",
    "            data_partitioned = balance_dataset(data, proportion)\n",
    "            X = data_partitioned.iloc[:, :-1].values\n",
    "            y = data_partitioned.iloc[:, -1].values\n",
    "            client_train, test_data, all_data = prepare_dataset(X, y, num_clients, smote = False) \n",
    "        if data_config_index == 3:\n",
    "            X = data.iloc[:, :-1].values\n",
    "            y = data.iloc[:, -1].values\n",
    "            client_train, test_data, all_data = prepare_dataset(X, y, num_clients, smote = False) \n",
    "\n",
    "        display_dataset_split(client_train, test_data)\n",
    "\n",
    "        print(f\"Running experiment with {num_clients} clients and data configuration {data_config_index}\")\n",
    "        metrics = run_experiment(num_clients, num_rounds, client_train, test_data)\n",
    "        experiments.append(metrics)"
   ]
  },
  {
   "cell_type": "code",
   "execution_count": null,
   "metadata": {},
   "outputs": [],
   "source": [
    "print(\"All Rounds Completed. Metrics Collected:\")\n",
    "for metric in metrics:\n",
    "    print(f\"Round {metric['round']}: Metrics: {metric['binary']}, ROC AUC: {metric['roc_auc']}\")\n",
    "    print(f\"                         Weighted: {metric['weighted']}\")"
   ]
  },
  {
   "cell_type": "code",
   "execution_count": null,
   "metadata": {},
   "outputs": [],
   "source": [
    "'''\n",
    "for client_idx, client_model in enumerate(local_models):\n",
    "        print(f\"Merging client {client_idx + 1}\")\n",
    "        #print(f\"Number of client {client_idx + 1} clusters before merging = {torch.sum(client_model.n[:client_model.c]>client_model.kappa_n)}\")\n",
    "        #client_model.federal_agent.federated_merging() \n",
    "        print(f\"Number of client {client_idx + 1} after merging = {torch.sum(client_model.n[:client_model.c]>client_model.kappa_n)}\")\n",
    "        federated_model.federal_agent.merge_model_privately(client_model, client_model.kappa_n)\n",
    "\n",
    "print(f\"Number of clusters after transfer = {federated_model.c}\")\n",
    "'''"
   ]
  },
  {
   "cell_type": "code",
   "execution_count": null,
   "metadata": {},
   "outputs": [],
   "source": [
    "'''\n",
    "federated_model.federal_agent.federated_merging()\n",
    "federated_model.removal_mech.removal_mechanism()\n",
    "print(f\"Number of clusters after merging = {federated_model.c}\")\n",
    "'''"
   ]
  },
  {
   "cell_type": "code",
   "execution_count": null,
   "metadata": {},
   "outputs": [],
   "source": [
    "\n",
    "'''\n",
    "print(f\"\\nTesting federated model\")   \n",
    "\n",
    "all_scores, pred_max, _ = test_model(federated_model, test_data)\n",
    "metrics = calculate_metrics(pred_max, test_data, \"binary\")\n",
    "print(f\"Test Metrics: {metrics}\")\n",
    "roc_auc = calculate_roc_auc(all_scores, test_data)\n",
    "print(f\"Test ROC AUC: {roc_auc}\")\n",
    "\n",
    "plot_confusion_matrix(pred_max, test_data)\n",
    "'''"
   ]
  },
  {
   "cell_type": "code",
   "execution_count": null,
   "metadata": {},
   "outputs": [],
   "source": [
    "\n",
    "'''\n",
    "from sklearn.metrics import confusion_matrix, accuracy_score, precision_score, recall_score, f1_score\n",
    "\n",
    "# Confusion matrix values\n",
    "tn = 135\n",
    "fn = 10\n",
    "tp = 132\n",
    "fp = 19\n",
    "\n",
    "# Creating the confusion matrix\n",
    "y_true = [0]*tn + [1]*fn + [1]*tp + [0]*fp  # 0 for negative class, 1 for positive class\n",
    "y_pred = [0]*(tn+fn) + [1]*(fp+tp)  # Predictions\n",
    "\n",
    "# Calculating metrics\n",
    "accuracy = accuracy_score(y_true, y_pred)\n",
    "precision = precision_score(y_true, y_pred)\n",
    "recall = recall_score(y_true, y_pred)\n",
    "f1 = f1_score(y_true, y_pred)\n",
    "\n",
    "print(accuracy, precision, recall, f1)\n",
    "'''"
   ]
  }
 ],
 "metadata": {
  "kernelspec": {
   "display_name": "Python 3",
   "language": "python",
   "name": "python3"
  },
  "language_info": {
   "codemirror_mode": {
    "name": "ipython",
    "version": 3
   },
   "file_extension": ".py",
   "mimetype": "text/x-python",
   "name": "python",
   "nbconvert_exporter": "python",
   "pygments_lexer": "ipython3",
   "version": "3.11.6"
  }
 },
 "nbformat": 4,
 "nbformat_minor": 2
}
