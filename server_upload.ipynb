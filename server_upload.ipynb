{
 "cells": [
  {
   "cell_type": "code",
   "execution_count": 1,
   "metadata": {},
   "outputs": [],
   "source": [
    "# Parameters for clearing the directory\n",
    "hostname = 'ec2-16-171-138-161.eu-north-1.compute.amazonaws.com'\n",
    "port = 22\n",
    "username = 'ec2-user'\n",
    "key_file = r'C:\\Users\\Miha\\efedgauss.pem'\n",
    "directory_to_clear = '/home/ec2-user'\n"
   ]
  },
  {
   "cell_type": "code",
   "execution_count": 2,
   "metadata": {},
   "outputs": [],
   "source": [
    "#jupyter nbconvert --to script credit_fraud_experiment.ipynb   "
   ]
  },
  {
   "cell_type": "code",
   "execution_count": 3,
   "metadata": {},
   "outputs": [],
   "source": [
    "import tarfile\n",
    "import os\n",
    "\n",
    "def make_tarfile(output_filename, source_dir):\n",
    "    with tarfile.open(output_filename, \"w:gz\") as tar:\n",
    "        for root, dirs, files in os.walk(source_dir):\n",
    "            # Filter out directories starting with '.' and '__pycache__'\n",
    "            dirs[:] = [d for d in dirs if not d.startswith('.') and d != '__pycache__']\n",
    "            for file in files:\n",
    "                # Filter out files starting with '.' and '.pyc' files\n",
    "                if not file.startswith('.') and not file.endswith('.pyc'):\n",
    "                    file_path = os.path.join(root, file)\n",
    "                    tar.add(file_path, arcname=os.path.relpath(file_path, start=source_dir))\n",
    "\n",
    "source_folder = r'C:\\Users\\Miha\\OneDrive - Univerza v Ljubljani\\Doktorski_studij\\Delo\\eGAUSSp_Python'\n",
    "output_tarball = 'eFedGauss.tar.gz'\n",
    "\n",
    "make_tarfile(output_tarball, source_folder)\n"
   ]
  },
  {
   "cell_type": "code",
   "execution_count": 4,
   "metadata": {},
   "outputs": [
    {
     "name": "stdout",
     "output_type": "stream",
     "text": [
      "Current working directory: c:\\Users\\Miha\\OneDrive - Univerza v Ljubljani\\Doktorski_studij\\Delo\\eGAUSSp_Python\n",
      "Does the file exist? True\n"
     ]
    }
   ],
   "source": [
    "import os\n",
    "\n",
    "print(\"Current working directory:\", os.getcwd())\n",
    "print(\"Does the file exist?\", os.path.exists(output_tarball))\n"
   ]
  },
  {
   "cell_type": "code",
   "execution_count": 5,
   "metadata": {},
   "outputs": [],
   "source": [
    "def clear_remote_directory(hostname, port, username, key_file, directory_to_clear):\n",
    "    ssh = paramiko.SSHClient()\n",
    "    ssh.set_missing_host_key_policy(paramiko.AutoAddPolicy())\n",
    "    ssh.connect(hostname, port=port, username=username, key_filename=key_file)\n",
    "\n",
    "    # Command to clear the contents of the directory\n",
    "    command = f\"rm -rf {directory_to_clear}/*\"\n",
    "\n",
    "    stdin, stdout, stderr = ssh.exec_command(command)\n",
    "    print(stdout.read().decode())\n",
    "    err = stderr.read().decode()\n",
    "    if err:\n",
    "        print(\"Error:\", err)\n",
    "\n",
    "    ssh.close()"
   ]
  },
  {
   "cell_type": "code",
   "execution_count": 6,
   "metadata": {},
   "outputs": [],
   "source": [
    "# Execute the command on the server\n",
    "#clear_remote_directory(hostname, port, username, key_file, directory_to_clear)"
   ]
  },
  {
   "cell_type": "code",
   "execution_count": 7,
   "metadata": {},
   "outputs": [
    {
     "name": "stdout",
     "output_type": "stream",
     "text": [
      "Transfer Progress: 100.00%\r"
     ]
    }
   ],
   "source": [
    "import paramiko\n",
    "import os\n",
    "import sys\n",
    "\n",
    "def print_progress(transferred, total):\n",
    "    progress_percentage = (transferred / total) * 100\n",
    "    sys.stdout.write(f\"Transfer Progress: {progress_percentage:.2f}%\\r\")\n",
    "    sys.stdout.flush()\n",
    "\n",
    "def transfer_file(local_path, remote_path, hostname, port, username, key_file):\n",
    "    ssh = paramiko.SSHClient()\n",
    "    ssh.set_missing_host_key_policy(paramiko.AutoAddPolicy())\n",
    "    ssh.connect(hostname, port=port, username=username, key_filename=key_file)\n",
    "    \n",
    "    sftp = ssh.open_sftp()\n",
    "    sftp.put(local_path, remote_path, callback=print_progress)\n",
    "    sftp.close()\n",
    "    ssh.close()\n",
    "\n",
    "remote_path = '/home/ec2-user/eFedGauss.tar.gz'\n",
    "output_tarball = 'eFedGauss.tar.gz'  # Assuming this is the name of your local tarball\n",
    "\n",
    "transfer_file(output_tarball, remote_path, hostname, port, username, key_file)"
   ]
  },
  {
   "cell_type": "code",
   "execution_count": 8,
   "metadata": {},
   "outputs": [
    {
     "name": "stdout",
     "output_type": "stream",
     "text": [
      "\n",
      "credit_fraud_experiment.ipynb\n",
      "credit_fraud_experiment.py\n",
      "eFedGauss.tar.gz\n",
      "experiment_results.txt\n",
      "iris_experiment.ipynb\n",
      "README.md\n",
      "requirements.txt\n",
      "server_upload.ipynb\n",
      "synthetic_experiment.ipynb\n",
      "Datasets/creditcard.csv\n",
      "model/clustering_operations.py\n",
      "model/consequence_operations.py\n",
      "model/eGauss_plus.py\n",
      "model/federated_operations.py\n",
      "model/math_operations.py\n",
      "model/merging_mechanism.py\n",
      "model/model_operations.py\n",
      "model/removal_mechanism.py\n",
      "utils/utils_dataset.py\n",
      "utils/utils_metrics.py\n",
      "utils/utils_plots.py\n",
      "utils/utils_tables.py\n",
      "utils/utils_train.py\n",
      "\n"
     ]
    }
   ],
   "source": [
    "def execute_commands_on_server(hostname, port, username, key_file, remote_path):\n",
    "    ssh = paramiko.SSHClient()\n",
    "    ssh.set_missing_host_key_policy(paramiko.AutoAddPolicy())\n",
    "    ssh.connect(hostname, port=port, username=username, key_filename=key_file)\n",
    "\n",
    "    # Correct directory path construction\n",
    "    extraction_directory = '/home/ec2-user/eFedGauss'\n",
    "\n",
    "    commands = [\n",
    "        f\"mkdir -p {extraction_directory}\",  # Create the directory if it doesn't exist\n",
    "        f\"tar -xvzf {remote_path} -C {extraction_directory}\",  # Extract into the eFedGauss directory\n",
    "    ]\n",
    "\n",
    "    for command in commands:\n",
    "        stdin, stdout, stderr = ssh.exec_command(command)\n",
    "        print(stdout.read().decode())  # Optionally print output of each command\n",
    "        err = stderr.read().decode()\n",
    "        if err:\n",
    "            print(\"Error:\", err)\n",
    "\n",
    "    ssh.close()\n",
    "\n",
    "# Parameters for execution\n",
    "python_script = 'credit_fraud_experiment.py'\n",
    "\n",
    "# Execute commands on the server\n",
    "execute_commands_on_server(hostname, port, username, key_file, remote_path)\n"
   ]
  },
  {
   "cell_type": "markdown",
   "metadata": {},
   "source": [
    "wget https://repo.anaconda.com/miniconda/Miniconda3-latest-Linux-x86_64.sh\n",
    "chmod +x Miniconda3-latest-Linux-x86_64.sh\n",
    "./Miniconda3-latest-Linux-x86_64.sh\n",
    "conda init\n",
    "source ~/.bashrc\n",
    "\n",
    "mkdir ~/tempdir\n",
    "export TMPDIR=~/tempdir\n",
    "cd eFedGauss\n",
    "pip install -r requirements.txt"
   ]
  }
 ],
 "metadata": {
  "kernelspec": {
   "display_name": "pytorch_env",
   "language": "python",
   "name": "python3"
  },
  "language_info": {
   "codemirror_mode": {
    "name": "ipython",
    "version": 3
   },
   "file_extension": ".py",
   "mimetype": "text/x-python",
   "name": "python",
   "nbconvert_exporter": "python",
   "pygments_lexer": "ipython3",
   "version": "3.11.7"
  }
 },
 "nbformat": 4,
 "nbformat_minor": 2
}
