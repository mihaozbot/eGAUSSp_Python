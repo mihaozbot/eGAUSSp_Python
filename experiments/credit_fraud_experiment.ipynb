{
 "cells": [
  {
   "cell_type": "code",
   "execution_count": 6,
   "metadata": {},
   "outputs": [],
   "source": [
    "import pandas as pd\n",
    "import torch\n",
    "import importlib\n",
    "from torch.utils.data import TensorDataset, DataLoader\n",
    "from sklearn.model_selection import train_test_split\n",
    "from sklearn.preprocessing import StandardScaler\n",
    "\n",
    "#%load_ext line_profiler"
   ]
  },
  {
   "cell_type": "code",
   "execution_count": 7,
   "metadata": {},
   "outputs": [
    {
     "ename": "ModuleNotFoundError",
     "evalue": "No module named 'model'",
     "output_type": "error",
     "traceback": [
      "\u001b[1;31m---------------------------------------------------------------------------\u001b[0m",
      "\u001b[1;31mModuleNotFoundError\u001b[0m                       Traceback (most recent call last)",
      "\u001b[1;32mc:\\Users\\mihao\\OneDrive - Univerza v Ljubljani\\Doktorski_studij\\Delo\\eGAUSSp_Python\\experiments\\credit_fraud_experiment.ipynb Cell 2\u001b[0m line \u001b[0;36m1\n\u001b[1;32m----> <a href='vscode-notebook-cell:/c%3A/Users/mihao/OneDrive%20-%20Univerza%20v%20Ljubljani/Doktorski_studij/Delo/eGAUSSp_Python/experiments/credit_fraud_experiment.ipynb#W1sZmlsZQ%3D%3D?line=0'>1</a>\u001b[0m \u001b[39mfrom\u001b[39;00m \u001b[39mmodel\u001b[39;00m\u001b[39m.\u001b[39;00m\u001b[39meGauss_plus\u001b[39;00m \u001b[39mimport\u001b[39;00m eGAUSSp\n",
      "\u001b[1;31mModuleNotFoundError\u001b[0m: No module named 'model'"
     ]
    }
   ],
   "source": [
    "from model.eGauss_plus import eGAUSSp"
   ]
  },
  {
   "cell_type": "code",
   "execution_count": null,
   "metadata": {},
   "outputs": [
    {
     "name": "stdout",
     "output_type": "stream",
     "text": [
      "Client 1: {1: 11, 2: 12}\n",
      "Client 2: {0: 26, 2: 11}\n",
      "Client 3: {0: 9, 1: 25, 2: 11}\n",
      "Test Set: {0: 15, 1: 14, 2: 16}\n",
      "\n",
      "Combined Number of Samples per Class:\n",
      "Class 0: 50 samples\n",
      "Class 1: 50 samples\n",
      "Class 2: 50 samples\n",
      "\n",
      "Total Number of Samples Across All Datasets: 150\n"
     ]
    },
    {
     "data": {
      "image/png": "[encoded data removed]",
      "text/plain": [
       "<Figure size 640x480 with 1 Axes>"
      ]
     },
     "metadata": {},
     "output_type": "display_data"
    }
   ],
   "source": [
    "# Load the dataset\n",
    "file_path = 'Datasets/creditcard.csv'\n",
    "data = pd.read_csv(file_path)\n",
    "\n",
    "# Separate features and target\n",
    "X = data.drop('Class', axis=1).values\n",
    "y = data['Class'].values\n",
    "\n",
    "# Scaling the 'Time' and 'Amount' features\n",
    "#scaler = StandardScaler()\n",
    "#X[:, [0, -1]] = scaler.fit_transform(X[:, [0, -1]])  # Assuming 'Time' is the first and 'Amount' is the last feature in the DataFrame\n",
    "\n",
    "# Convert to PyTorch tensors\n",
    "X = torch.tensor(X, dtype=torch.float32)\n",
    "y = torch.tensor(y, dtype=torch.float32)\n",
    "\n",
    "# Split the dataset into training and testing sets\n",
    "X_train, X_test, y_train, y_test = train_test_split(X, y, test_size=0.2, random_state=42, stratify=y)\n",
    "\n",
    "# Create TensorDatasets for both training and testing data\n",
    "train_dataset = TensorDataset(X_train, y_train.unsqueeze(1))\n",
    "test_dataset = TensorDataset(X_test, y_test.unsqueeze(1))\n",
    "\n",
    "# Create DataLoaders for both datasets\n",
    "train_loader = DataLoader(dataset=train_dataset, batch_size=1, shuffle=True)\n",
    "test_loader = DataLoader(dataset=test_dataset, batch_size=1, shuffle=False)\n",
    "\n",
    "num_clients = 3\n",
    "client_data, X_test, y_test, X_all, y_all = prepare_non_iid_dataset(X, y, num_clients)\n",
    "\n",
    "display_dataset_split(client_data, y_test)\n",
    "plot_dataset_split(client_data, y_test)"
   ]
  },
  {
   "cell_type": "code",
   "execution_count": null,
   "metadata": {},
   "outputs": [],
   "source": [
    "import numpy as np\n",
    "import pandas as pd\n",
    "import torch\n",
    "from torch.utils.data import DataLoader, Dataset, TensorDataset\n",
    "from sklearn.utils import shuffle\n",
    "\n",
    "# Define the number of clients dynamically\n",
    "num_clients = 4  # or any other number\n",
    "\n",
    "# Determine the total amount of data from the dataset\n",
    "total_data = len(data)  # Total number of data points in the dataset\n",
    "\n",
    "# Total number of fraud and non-fraud cases\n",
    "total_frauds = sum(data['Class'] == 1)\n",
    "total_non_frauds = total_data - total_frauds\n",
    "\n",
    "# Generate dynamic data amounts for each client\n",
    "data_amount = np.random.randint(10, total_data, num_clients)\n",
    "data_amount = (data_amount / data_amount.sum()) * total_data  # Normalize to sum to total_data\n",
    "data_amount = data_amount.astype(int)\n",
    "data_amount[-1] = total_data - data_amount[:-1].sum()  # Adjust the last element\n",
    "\n",
    "# Separate fraud and non-fraud indices\n",
    "fraud_indices = data[data['Class'] == 1].index.tolist()\n",
    "non_fraud_indices = data[data['Class'] == 0].index.tolist()\n",
    "\n",
    "# Shuffle indices\n",
    "np.random.shuffle(fraud_indices)\n",
    "np.random.shuffle(non_fraud_indices)\n",
    "\n",
    "# Partitioning data\n",
    "partitions = {i: pd.DataFrame() for i in range(num_clients)}\n",
    "fraud_counter = non_fraud_counter = 0\n",
    "\n",
    "for i in range(num_clients):\n",
    "    num_frauds_client = int((data_amount[i] / total_data) * total_frauds)\n",
    "    num_non_frauds_client = data_amount[i] - num_frauds_client\n",
    "\n",
    "    # Select indices for this client\n",
    "    client_fraud_indices = fraud_indices[fraud_counter:fraud_counter + num_frauds_client]\n",
    "    client_non_fraud_indices = non_fraud_indices[non_fraud_counter:non_fraud_counter + num_non_frauds_client]\n",
    "\n",
    "    fraud_counter += num_frauds_client\n",
    "    non_fraud_counter += num_non_frauds_client\n",
    "\n",
    "    subset_indices = np.concatenate([client_fraud_indices, client_non_fraud_indices])\n",
    "    subset_indices = shuffle(subset_indices, random_state=42)\n",
    "\n",
    "    partitions[i] = data.loc[subset_indices]\n",
    "\n",
    "# Convert partitions to PyTorch datasets\n",
    "datasets = {}\n",
    "for i in range(num_clients):\n",
    "    features = torch.tensor(partitions[i].drop('Class', axis=1).values, dtype=torch.float32)\n",
    "    labels = torch.tensor(partitions[i]['Class'].values, dtype=torch.int64)\n",
    "    datasets[i] = TensorDataset(features, labels.unsqueeze(1))\n",
    "\n",
    "# Initialize models for each client\n",
    "local_models = {i: eGAUSSp(feature_dim=30, num_classes=2, N_max=30, num_sigma=2, kappa_join=1.5, S_0=1e-10, c_max=4, device=device) for i in range(num_clients)}"
   ]
  },
  {
   "cell_type": "code",
   "execution_count": null,
   "metadata": {},
   "outputs": [],
   "source": [
    "\n",
    "import threading\n",
    "\n",
    "def training_loop(dataloader, model, device, num_sigma, N_max):\n",
    "    viewed_samples = []\n",
    "    viewed_labels = []\n",
    "\n",
    "    for idx, (point, label) in enumerate(dataloader):\n",
    "        point, label = point.to(device).squeeze(0), label.to(device).squeeze(0)\n",
    "        model(point, label)  # Assuming model(point, label) updates the model\n",
    "\n",
    "        # Collect the viewed samples and labels\n",
    "        viewed_samples.append(point.cpu())\n",
    "        viewed_labels.append(label.cpu())\n",
    "\n",
    "        if (idx + 1) % 100 == 0 or (idx + 1) == len(dataloader):\n",
    "            print(f\"** Processed {idx + 1} points. **\")\n",
    "            print(f\"Number of clusters so far: {model.c}\")\n",
    "\n",
    "        if (idx + 1) % 10000 == 0 or (idx + 1) == len(dataloader):\n",
    "            # Convert the collected samples and labels to a NumPy array\n",
    "            samples_np = torch.vstack(viewed_samples).numpy()\n",
    "            labels_np = torch.hstack(viewed_labels).numpy()\n",
    "\n",
    "            # Plot the samples (assuming you have a defined function plot_pairwise_against_first_feature)\n",
    "            plot_first_feature(data=samples_np, labels=labels_np, model=model, num_sigma=num_sigma, N_max=N_max)\n",
    "\n",
    "\n",
    "def train_model_thread(datasets, local_model, device, num_sigma, N_max):\n",
    "    print(f\"Starting training for local model {i}\")\n",
    "\n",
    "    # Create a DataLoader for the local dataset\n",
    "    local_dataloader = DataLoader(datasets, batch_size=1, shuffle=True)  # Adjust batch_size as needed\n",
    "\n",
    "    # Run the training loop for the local model\n",
    "    training_loop(local_dataloader, local_model, device, num_sigma, N_max)\n",
    "\n",
    "    print(f\"Finished training for local model {i}\")\n",
    "\n",
    "threads = []\n",
    "for i, local_model in local_models.items():\n",
    "    thread = threading.Thread(target=train_model_thread, args=(datasets[i], local_model, device, num_sigma, N_max))\n",
    "    threads.append(thread)\n",
    "    thread.start()\n",
    "\n",
    "# Wait for all threads to complete\n",
    "for thread in threads:\n",
    "    thread.join()\n"
   ]
  }
 ],
 "metadata": {
  "kernelspec": {
   "display_name": "Python 3",
   "language": "python",
   "name": "python3"
  },
  "language_info": {
   "codemirror_mode": {
    "name": "ipython",
    "version": 3
   },
   "file_extension": ".py",
   "mimetype": "text/x-python",
   "name": "python",
   "nbconvert_exporter": "python",
   "pygments_lexer": "ipython3",
   "version": "3.11.5"
  }
 },
 "nbformat": 4,
 "nbformat_minor": 2
}
