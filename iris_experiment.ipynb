{
 "cells": [
  {
   "cell_type": "code",
   "execution_count": 1,
   "metadata": {},
   "outputs": [],
   "source": [
    "import pandas as pd\n",
    "import numpy as np\n",
    "import torch\n",
    "import importlib\n",
    "from utils.utils_dataset import prepare_k_fold_non_iid_dataset, plot_dataset_split, display_dataset_split\n",
    "from sklearn import datasets\n",
    "from sklearn.model_selection import KFold\n",
    "from utils.utils_train import train_supervised, test_model\n",
    "from utils.utils_plots import plot_first_feature_horizontal, save_figure\n",
    "from utils.utils_metrics import calculate_metrics_statistics, calculate_cluster_stats, calculate_metrics, plot_confusion_matrix\n"
   ]
  },
  {
   "cell_type": "code",
   "execution_count": 2,
   "metadata": {},
   "outputs": [
    {
     "name": "stdout",
     "output_type": "stream",
     "text": [
      "PyTorch Version: 2.1.2\n",
      "CUDA Version: None\n",
      "CUDA not available. Using CPU.\n"
     ]
    }
   ],
   "source": [
    "from model.eGauss_plus import eGAUSSp\n",
    "\n",
    "print(\"PyTorch Version:\", torch.__version__)\n",
    "print(\"CUDA Version:\", torch.version.cuda)\n",
    "\n",
    "# Check if CUDA is available\n",
    "#if torch.cuda.is_available():\n",
    "    #device = torch.device(\"cuda\")\n",
    "    #print(\"CUDA is available. Using GPU.\")\n",
    "#else:\n",
    "device = torch.device(\"cpu\")\n",
    "print(\"CUDA not available. Using CPU.\")\n",
    "\n",
    "feature_dim = 4\n",
    "num_classes = 3\n",
    "\n",
    "# Model parameters\n",
    "local_model_params = {\n",
    "    \"feature_dim\": feature_dim,\n",
    "    \"num_classes\": num_classes,\n",
    "    \"kappa_n\": 1,\n",
    "    \"num_sigma\": 1,\n",
    "    \"kappa_join\": 1,\n",
    "    \"S_0\": 1e-8,\n",
    "    \"N_r\": 8,\n",
    "    \"c_max\": 1000,\n",
    "    \"device\": device\n",
    "}\n",
    "federated_model_params = {\n",
    "    \"feature_dim\": feature_dim,\n",
    "    \"num_classes\": num_classes,\n",
    "    \"kappa_n\": 1,\n",
    "    \"num_sigma\": 5,\n",
    "    \"kappa_join\": 5,\n",
    "    \"S_0\": 1e-8,\n",
    "    \"N_r\": 8,\n",
    "    \"c_max\": 1000,\n",
    "    \"device\": device\n",
    "}"
   ]
  },
  {
   "cell_type": "code",
   "execution_count": 3,
   "metadata": {},
   "outputs": [
    {
     "name": "stdout",
     "output_type": "stream",
     "text": [
      "Evolving has been enabled.\n",
      "Evolving has been disabled.\n",
      "Evolving has been enabled.\n",
      "Evolving has been disabled.\n",
      "Evolving has been enabled.\n",
      "Evolving has been disabled.\n",
      "Evolving has been enabled.\n",
      "Evolving has been disabled.\n",
      "Evolving has been disabled.\n"
     ]
    },
    {
     "name": "stderr",
     "output_type": "stream",
     "text": [
      "c:\\Users\\mihao\\OneDrive - Univerza v Ljubljani\\Doktorski_studij\\Delo\\eGAUSSp_Python\\.conda\\Lib\\site-packages\\sklearn\\metrics\\_classification.py:1471: UndefinedMetricWarning: Precision is ill-defined and being set to 0.0 in labels with no predicted samples. Use `zero_division` parameter to control this behavior.\n",
      "  _warn_prf(average, modifier, msg_start, len(result))\n",
      "c:\\Users\\mihao\\OneDrive - Univerza v Ljubljani\\Doktorski_studij\\Delo\\eGAUSSp_Python\\.conda\\Lib\\site-packages\\sklearn\\metrics\\_classification.py:1471: UndefinedMetricWarning: Precision is ill-defined and being set to 0.0 in labels with no predicted samples. Use `zero_division` parameter to control this behavior.\n",
      "  _warn_prf(average, modifier, msg_start, len(result))\n",
      "c:\\Users\\mihao\\OneDrive - Univerza v Ljubljani\\Doktorski_studij\\Delo\\eGAUSSp_Python\\.conda\\Lib\\site-packages\\sklearn\\metrics\\_classification.py:1471: UndefinedMetricWarning: Precision is ill-defined and being set to 0.0 in labels with no predicted samples. Use `zero_division` parameter to control this behavior.\n",
      "  _warn_prf(average, modifier, msg_start, len(result))\n"
     ]
    },
    {
     "name": "stdout",
     "output_type": "stream",
     "text": [
      "Evolving has been enabled.\n",
      "Evolving has been disabled.\n",
      "Evolving has been enabled.\n",
      "Evolving has been disabled.\n",
      "Evolving has been enabled.\n",
      "Evolving has been disabled.\n",
      "Evolving has been enabled.\n",
      "Evolving has been disabled.\n"
     ]
    },
    {
     "name": "stderr",
     "output_type": "stream",
     "text": [
      "c:\\Users\\mihao\\OneDrive - Univerza v Ljubljani\\Doktorski_studij\\Delo\\eGAUSSp_Python\\.conda\\Lib\\site-packages\\sklearn\\metrics\\_classification.py:1471: UndefinedMetricWarning: Precision is ill-defined and being set to 0.0 in labels with no predicted samples. Use `zero_division` parameter to control this behavior.\n",
      "  _warn_prf(average, modifier, msg_start, len(result))\n",
      "c:\\Users\\mihao\\OneDrive - Univerza v Ljubljani\\Doktorski_studij\\Delo\\eGAUSSp_Python\\.conda\\Lib\\site-packages\\sklearn\\metrics\\_classification.py:1471: UndefinedMetricWarning: Precision is ill-defined and being set to 0.0 in labels with no predicted samples. Use `zero_division` parameter to control this behavior.\n",
      "  _warn_prf(average, modifier, msg_start, len(result))\n"
     ]
    },
    {
     "name": "stdout",
     "output_type": "stream",
     "text": [
      "Evolving has been disabled.\n",
      "Evolving has been enabled.\n",
      "Evolving has been disabled.\n",
      "Evolving has been enabled.\n",
      "Evolving has been disabled.\n",
      "Evolving has been enabled.\n",
      "Evolving has been disabled.\n",
      "Evolving has been enabled.\n",
      "Evolving has been disabled.\n"
     ]
    },
    {
     "name": "stderr",
     "output_type": "stream",
     "text": [
      "c:\\Users\\mihao\\OneDrive - Univerza v Ljubljani\\Doktorski_studij\\Delo\\eGAUSSp_Python\\.conda\\Lib\\site-packages\\sklearn\\metrics\\_classification.py:1471: UndefinedMetricWarning: Precision is ill-defined and being set to 0.0 in labels with no predicted samples. Use `zero_division` parameter to control this behavior.\n",
      "  _warn_prf(average, modifier, msg_start, len(result))\n",
      "c:\\Users\\mihao\\OneDrive - Univerza v Ljubljani\\Doktorski_studij\\Delo\\eGAUSSp_Python\\.conda\\Lib\\site-packages\\sklearn\\metrics\\_classification.py:1471: UndefinedMetricWarning: Precision is ill-defined and being set to 0.0 in labels with no predicted samples. Use `zero_division` parameter to control this behavior.\n",
      "  _warn_prf(average, modifier, msg_start, len(result))\n"
     ]
    },
    {
     "name": "stdout",
     "output_type": "stream",
     "text": [
      "Evolving has been disabled.\n",
      "Evolving has been enabled.\n",
      "Evolving has been disabled.\n",
      "Evolving has been enabled.\n",
      "Evolving has been disabled.\n",
      "Evolving has been enabled.\n",
      "Evolving has been disabled.\n",
      "Evolving has been enabled.\n",
      "Evolving has been disabled.\n"
     ]
    },
    {
     "name": "stderr",
     "output_type": "stream",
     "text": [
      "c:\\Users\\mihao\\OneDrive - Univerza v Ljubljani\\Doktorski_studij\\Delo\\eGAUSSp_Python\\.conda\\Lib\\site-packages\\sklearn\\metrics\\_classification.py:1471: UndefinedMetricWarning: Precision is ill-defined and being set to 0.0 in labels with no predicted samples. Use `zero_division` parameter to control this behavior.\n",
      "  _warn_prf(average, modifier, msg_start, len(result))\n",
      "c:\\Users\\mihao\\OneDrive - Univerza v Ljubljani\\Doktorski_studij\\Delo\\eGAUSSp_Python\\.conda\\Lib\\site-packages\\sklearn\\metrics\\_classification.py:1471: UndefinedMetricWarning: Precision is ill-defined and being set to 0.0 in labels with no predicted samples. Use `zero_division` parameter to control this behavior.\n",
      "  _warn_prf(average, modifier, msg_start, len(result))\n"
     ]
    },
    {
     "name": "stdout",
     "output_type": "stream",
     "text": [
      "Evolving has been disabled.\n",
      "Evolving has been enabled.\n",
      "Evolving has been disabled.\n",
      "Evolving has been enabled.\n",
      "Evolving has been disabled.\n",
      "Evolving has been enabled.\n",
      "Evolving has been disabled.\n",
      "Evolving has been enabled.\n",
      "Evolving has been disabled.\n"
     ]
    },
    {
     "name": "stderr",
     "output_type": "stream",
     "text": [
      "c:\\Users\\mihao\\OneDrive - Univerza v Ljubljani\\Doktorski_studij\\Delo\\eGAUSSp_Python\\.conda\\Lib\\site-packages\\sklearn\\metrics\\_classification.py:1471: UndefinedMetricWarning: Precision is ill-defined and being set to 0.0 in labels with no predicted samples. Use `zero_division` parameter to control this behavior.\n",
      "  _warn_prf(average, modifier, msg_start, len(result))\n",
      "c:\\Users\\mihao\\OneDrive - Univerza v Ljubljani\\Doktorski_studij\\Delo\\eGAUSSp_Python\\.conda\\Lib\\site-packages\\sklearn\\metrics\\_classification.py:1471: UndefinedMetricWarning: Precision is ill-defined and being set to 0.0 in labels with no predicted samples. Use `zero_division` parameter to control this behavior.\n",
      "  _warn_prf(average, modifier, msg_start, len(result))\n"
     ]
    },
    {
     "name": "stdout",
     "output_type": "stream",
     "text": [
      "Evolving has been disabled.\n",
      "Evolving has been enabled.\n",
      "Evolving has been disabled.\n",
      "Evolving has been enabled.\n",
      "Evolving has been disabled.\n",
      "Evolving has been enabled.\n",
      "Evolving has been disabled.\n",
      "Evolving has been enabled.\n",
      "Evolving has been disabled.\n"
     ]
    },
    {
     "name": "stderr",
     "output_type": "stream",
     "text": [
      "c:\\Users\\mihao\\OneDrive - Univerza v Ljubljani\\Doktorski_studij\\Delo\\eGAUSSp_Python\\.conda\\Lib\\site-packages\\sklearn\\metrics\\_classification.py:1471: UndefinedMetricWarning: Precision is ill-defined and being set to 0.0 in labels with no predicted samples. Use `zero_division` parameter to control this behavior.\n",
      "  _warn_prf(average, modifier, msg_start, len(result))\n",
      "c:\\Users\\mihao\\OneDrive - Univerza v Ljubljani\\Doktorski_studij\\Delo\\eGAUSSp_Python\\.conda\\Lib\\site-packages\\sklearn\\metrics\\_classification.py:1471: UndefinedMetricWarning: Precision is ill-defined and being set to 0.0 in labels with no predicted samples. Use `zero_division` parameter to control this behavior.\n",
      "  _warn_prf(average, modifier, msg_start, len(result))\n",
      "c:\\Users\\mihao\\OneDrive - Univerza v Ljubljani\\Doktorski_studij\\Delo\\eGAUSSp_Python\\.conda\\Lib\\site-packages\\sklearn\\metrics\\_classification.py:1471: UndefinedMetricWarning: Precision is ill-defined and being set to 0.0 in labels with no predicted samples. Use `zero_division` parameter to control this behavior.\n",
      "  _warn_prf(average, modifier, msg_start, len(result))\n"
     ]
    },
    {
     "name": "stdout",
     "output_type": "stream",
     "text": [
      "Evolving has been disabled.\n",
      "Evolving has been enabled.\n",
      "Evolving has been disabled.\n",
      "Evolving has been enabled.\n",
      "Evolving has been disabled.\n",
      "Evolving has been enabled.\n",
      "Evolving has been disabled.\n",
      "Evolving has been enabled.\n",
      "Evolving has been disabled.\n",
      "Evolving has been disabled.\n",
      "Evolving has been enabled.\n",
      "Evolving has been disabled.\n",
      "Evolving has been enabled.\n",
      "Evolving has been disabled.\n",
      "Evolving has been enabled.\n",
      "Evolving has been disabled.\n",
      "Evolving has been enabled.\n",
      "Evolving has been disabled.\n"
     ]
    },
    {
     "name": "stderr",
     "output_type": "stream",
     "text": [
      "c:\\Users\\mihao\\OneDrive - Univerza v Ljubljani\\Doktorski_studij\\Delo\\eGAUSSp_Python\\.conda\\Lib\\site-packages\\sklearn\\metrics\\_classification.py:1471: UndefinedMetricWarning: Precision is ill-defined and being set to 0.0 in labels with no predicted samples. Use `zero_division` parameter to control this behavior.\n",
      "  _warn_prf(average, modifier, msg_start, len(result))\n",
      "c:\\Users\\mihao\\OneDrive - Univerza v Ljubljani\\Doktorski_studij\\Delo\\eGAUSSp_Python\\.conda\\Lib\\site-packages\\sklearn\\metrics\\_classification.py:1471: UndefinedMetricWarning: Precision is ill-defined and being set to 0.0 in labels with no predicted samples. Use `zero_division` parameter to control this behavior.\n",
      "  _warn_prf(average, modifier, msg_start, len(result))\n"
     ]
    },
    {
     "name": "stdout",
     "output_type": "stream",
     "text": [
      "Evolving has been disabled.\n",
      "Evolving has been enabled.\n",
      "Evolving has been disabled.\n",
      "Evolving has been enabled.\n",
      "Evolving has been disabled.\n",
      "Evolving has been enabled.\n",
      "Evolving has been disabled.\n",
      "Evolving has been enabled.\n",
      "Evolving has been disabled.\n",
      "Evolving has been disabled.\n"
     ]
    },
    {
     "name": "stderr",
     "output_type": "stream",
     "text": [
      "c:\\Users\\mihao\\OneDrive - Univerza v Ljubljani\\Doktorski_studij\\Delo\\eGAUSSp_Python\\.conda\\Lib\\site-packages\\sklearn\\metrics\\_classification.py:1471: UndefinedMetricWarning: Precision is ill-defined and being set to 0.0 in labels with no predicted samples. Use `zero_division` parameter to control this behavior.\n",
      "  _warn_prf(average, modifier, msg_start, len(result))\n",
      "c:\\Users\\mihao\\OneDrive - Univerza v Ljubljani\\Doktorski_studij\\Delo\\eGAUSSp_Python\\.conda\\Lib\\site-packages\\sklearn\\metrics\\_classification.py:1471: UndefinedMetricWarning: Precision is ill-defined and being set to 0.0 in labels with no predicted samples. Use `zero_division` parameter to control this behavior.\n",
      "  _warn_prf(average, modifier, msg_start, len(result))\n",
      "c:\\Users\\mihao\\OneDrive - Univerza v Ljubljani\\Doktorski_studij\\Delo\\eGAUSSp_Python\\.conda\\Lib\\site-packages\\sklearn\\metrics\\_classification.py:1471: UndefinedMetricWarning: Precision is ill-defined and being set to 0.0 in labels with no predicted samples. Use `zero_division` parameter to control this behavior.\n",
      "  _warn_prf(average, modifier, msg_start, len(result))\n"
     ]
    },
    {
     "name": "stdout",
     "output_type": "stream",
     "text": [
      "Evolving has been enabled.\n",
      "Evolving has been disabled.\n",
      "Evolving has been enabled.\n",
      "Evolving has been disabled.\n",
      "Evolving has been enabled.\n",
      "Evolving has been disabled.\n",
      "Evolving has been enabled.\n",
      "Evolving has been disabled.\n"
     ]
    },
    {
     "name": "stderr",
     "output_type": "stream",
     "text": [
      "c:\\Users\\mihao\\OneDrive - Univerza v Ljubljani\\Doktorski_studij\\Delo\\eGAUSSp_Python\\.conda\\Lib\\site-packages\\sklearn\\metrics\\_classification.py:1471: UndefinedMetricWarning: Precision is ill-defined and being set to 0.0 in labels with no predicted samples. Use `zero_division` parameter to control this behavior.\n",
      "  _warn_prf(average, modifier, msg_start, len(result))\n",
      "c:\\Users\\mihao\\OneDrive - Univerza v Ljubljani\\Doktorski_studij\\Delo\\eGAUSSp_Python\\.conda\\Lib\\site-packages\\sklearn\\metrics\\_classification.py:1471: UndefinedMetricWarning: Precision is ill-defined and being set to 0.0 in labels with no predicted samples. Use `zero_division` parameter to control this behavior.\n",
      "  _warn_prf(average, modifier, msg_start, len(result))\n"
     ]
    },
    {
     "name": "stdout",
     "output_type": "stream",
     "text": [
      "Evolving has been disabled.\n",
      "Evolving has been enabled.\n",
      "Evolving has been disabled.\n",
      "Evolving has been enabled.\n",
      "Evolving has been disabled.\n",
      "Evolving has been enabled.\n",
      "Evolving has been disabled.\n",
      "Evolving has been enabled.\n",
      "Evolving has been disabled.\n"
     ]
    },
    {
     "name": "stderr",
     "output_type": "stream",
     "text": [
      "c:\\Users\\mihao\\OneDrive - Univerza v Ljubljani\\Doktorski_studij\\Delo\\eGAUSSp_Python\\.conda\\Lib\\site-packages\\sklearn\\metrics\\_classification.py:1471: UndefinedMetricWarning: Precision is ill-defined and being set to 0.0 in labels with no predicted samples. Use `zero_division` parameter to control this behavior.\n",
      "  _warn_prf(average, modifier, msg_start, len(result))\n"
     ]
    },
    {
     "name": "stdout",
     "output_type": "stream",
     "text": [
      "Evolving has been disabled.\n",
      "Evolving has been enabled.\n",
      "Evolving has been disabled.\n",
      "Evolving has been enabled.\n",
      "Evolving has been disabled.\n",
      "Evolving has been enabled.\n"
     ]
    },
    {
     "name": "stderr",
     "output_type": "stream",
     "text": [
      "c:\\Users\\mihao\\OneDrive - Univerza v Ljubljani\\Doktorski_studij\\Delo\\eGAUSSp_Python\\.conda\\Lib\\site-packages\\sklearn\\metrics\\_classification.py:1471: UndefinedMetricWarning: Precision is ill-defined and being set to 0.0 in labels with no predicted samples. Use `zero_division` parameter to control this behavior.\n",
      "  _warn_prf(average, modifier, msg_start, len(result))\n",
      "c:\\Users\\mihao\\OneDrive - Univerza v Ljubljani\\Doktorski_studij\\Delo\\eGAUSSp_Python\\.conda\\Lib\\site-packages\\sklearn\\metrics\\_classification.py:1471: UndefinedMetricWarning: Precision is ill-defined and being set to 0.0 in labels with no predicted samples. Use `zero_division` parameter to control this behavior.\n",
      "  _warn_prf(average, modifier, msg_start, len(result))\n"
     ]
    },
    {
     "name": "stdout",
     "output_type": "stream",
     "text": [
      "Evolving has been disabled.\n",
      "Evolving has been enabled.\n",
      "Evolving has been disabled.\n",
      "Evolving has been disabled.\n",
      "Evolving has been enabled.\n",
      "Evolving has been disabled.\n",
      "Evolving has been enabled.\n",
      "Evolving has been disabled.\n",
      "Evolving has been enabled.\n"
     ]
    },
    {
     "name": "stderr",
     "output_type": "stream",
     "text": [
      "c:\\Users\\mihao\\OneDrive - Univerza v Ljubljani\\Doktorski_studij\\Delo\\eGAUSSp_Python\\.conda\\Lib\\site-packages\\sklearn\\metrics\\_classification.py:1471: UndefinedMetricWarning: Precision is ill-defined and being set to 0.0 in labels with no predicted samples. Use `zero_division` parameter to control this behavior.\n",
      "  _warn_prf(average, modifier, msg_start, len(result))\n",
      "c:\\Users\\mihao\\OneDrive - Univerza v Ljubljani\\Doktorski_studij\\Delo\\eGAUSSp_Python\\.conda\\Lib\\site-packages\\sklearn\\metrics\\_classification.py:1471: UndefinedMetricWarning: Precision is ill-defined and being set to 0.0 in labels with no predicted samples. Use `zero_division` parameter to control this behavior.\n",
      "  _warn_prf(average, modifier, msg_start, len(result))\n"
     ]
    },
    {
     "name": "stdout",
     "output_type": "stream",
     "text": [
      "Evolving has been disabled.\n",
      "Evolving has been enabled.\n",
      "Evolving has been disabled.\n",
      "Evolving has been disabled.\n",
      "Evolving has been enabled.\n",
      "Evolving has been disabled.\n",
      "Evolving has been enabled.\n",
      "Evolving has been disabled.\n"
     ]
    },
    {
     "name": "stderr",
     "output_type": "stream",
     "text": [
      "c:\\Users\\mihao\\OneDrive - Univerza v Ljubljani\\Doktorski_studij\\Delo\\eGAUSSp_Python\\.conda\\Lib\\site-packages\\sklearn\\metrics\\_classification.py:1471: UndefinedMetricWarning: Precision is ill-defined and being set to 0.0 in labels with no predicted samples. Use `zero_division` parameter to control this behavior.\n",
      "  _warn_prf(average, modifier, msg_start, len(result))\n",
      "c:\\Users\\mihao\\OneDrive - Univerza v Ljubljani\\Doktorski_studij\\Delo\\eGAUSSp_Python\\.conda\\Lib\\site-packages\\sklearn\\metrics\\_classification.py:1471: UndefinedMetricWarning: Precision is ill-defined and being set to 0.0 in labels with no predicted samples. Use `zero_division` parameter to control this behavior.\n",
      "  _warn_prf(average, modifier, msg_start, len(result))\n",
      "c:\\Users\\mihao\\OneDrive - Univerza v Ljubljani\\Doktorski_studij\\Delo\\eGAUSSp_Python\\.conda\\Lib\\site-packages\\sklearn\\metrics\\_classification.py:1471: UndefinedMetricWarning: Precision is ill-defined and being set to 0.0 in labels with no predicted samples. Use `zero_division` parameter to control this behavior.\n",
      "  _warn_prf(average, modifier, msg_start, len(result))\n"
     ]
    },
    {
     "name": "stdout",
     "output_type": "stream",
     "text": [
      "Evolving has been enabled.\n",
      "Evolving has been disabled.\n",
      "Evolving has been enabled.\n",
      "Evolving has been disabled.\n",
      "Evolving has been disabled.\n",
      "Evolving has been enabled.\n",
      "Evolving has been disabled.\n",
      "Evolving has been enabled.\n",
      "Evolving has been disabled.\n",
      "Evolving has been enabled.\n",
      "Evolving has been disabled.\n",
      "Evolving has been enabled.\n",
      "Evolving has been disabled.\n",
      "Evolving has been disabled.\n",
      "Evolving has been enabled.\n",
      "Evolving has been disabled.\n",
      "Evolving has been enabled.\n",
      "Evolving has been disabled.\n"
     ]
    },
    {
     "name": "stderr",
     "output_type": "stream",
     "text": [
      "c:\\Users\\mihao\\OneDrive - Univerza v Ljubljani\\Doktorski_studij\\Delo\\eGAUSSp_Python\\.conda\\Lib\\site-packages\\sklearn\\metrics\\_classification.py:1471: UndefinedMetricWarning: Precision is ill-defined and being set to 0.0 in labels with no predicted samples. Use `zero_division` parameter to control this behavior.\n",
      "  _warn_prf(average, modifier, msg_start, len(result))\n",
      "c:\\Users\\mihao\\OneDrive - Univerza v Ljubljani\\Doktorski_studij\\Delo\\eGAUSSp_Python\\.conda\\Lib\\site-packages\\sklearn\\metrics\\_classification.py:1471: UndefinedMetricWarning: Precision is ill-defined and being set to 0.0 in labels with no predicted samples. Use `zero_division` parameter to control this behavior.\n",
      "  _warn_prf(average, modifier, msg_start, len(result))\n",
      "c:\\Users\\mihao\\OneDrive - Univerza v Ljubljani\\Doktorski_studij\\Delo\\eGAUSSp_Python\\.conda\\Lib\\site-packages\\sklearn\\metrics\\_classification.py:1471: UndefinedMetricWarning: Precision is ill-defined and being set to 0.0 in labels with no predicted samples. Use `zero_division` parameter to control this behavior.\n",
      "  _warn_prf(average, modifier, msg_start, len(result))\n"
     ]
    },
    {
     "name": "stdout",
     "output_type": "stream",
     "text": [
      "Evolving has been enabled.\n",
      "Evolving has been disabled.\n",
      "Evolving has been enabled.\n",
      "Evolving has been disabled.\n",
      "Evolving has been disabled.\n",
      "Evolving has been enabled.\n",
      "Evolving has been disabled.\n",
      "Evolving has been enabled.\n",
      "Evolving has been disabled.\n",
      "Evolving has been enabled.\n",
      "Evolving has been disabled.\n",
      "Evolving has been enabled.\n",
      "Evolving has been disabled.\n",
      "Evolving has been disabled.\n",
      "Evolving has been enabled.\n",
      "Evolving has been disabled.\n",
      "Evolving has been enabled.\n"
     ]
    },
    {
     "name": "stderr",
     "output_type": "stream",
     "text": [
      "c:\\Users\\mihao\\OneDrive - Univerza v Ljubljani\\Doktorski_studij\\Delo\\eGAUSSp_Python\\.conda\\Lib\\site-packages\\sklearn\\metrics\\_classification.py:1471: UndefinedMetricWarning: Precision is ill-defined and being set to 0.0 in labels with no predicted samples. Use `zero_division` parameter to control this behavior.\n",
      "  _warn_prf(average, modifier, msg_start, len(result))\n",
      "c:\\Users\\mihao\\OneDrive - Univerza v Ljubljani\\Doktorski_studij\\Delo\\eGAUSSp_Python\\.conda\\Lib\\site-packages\\sklearn\\metrics\\_classification.py:1471: UndefinedMetricWarning: Precision is ill-defined and being set to 0.0 in labels with no predicted samples. Use `zero_division` parameter to control this behavior.\n",
      "  _warn_prf(average, modifier, msg_start, len(result))\n"
     ]
    },
    {
     "name": "stdout",
     "output_type": "stream",
     "text": [
      "Evolving has been disabled.\n",
      "Evolving has been enabled.\n",
      "Evolving has been disabled.\n",
      "Evolving has been enabled.\n",
      "Evolving has been disabled.\n",
      "Evolving has been disabled.\n",
      "Evolving has been enabled.\n",
      "Evolving has been disabled.\n",
      "Evolving has been enabled.\n"
     ]
    },
    {
     "name": "stderr",
     "output_type": "stream",
     "text": [
      "c:\\Users\\mihao\\OneDrive - Univerza v Ljubljani\\Doktorski_studij\\Delo\\eGAUSSp_Python\\.conda\\Lib\\site-packages\\sklearn\\metrics\\_classification.py:1471: UndefinedMetricWarning: Precision is ill-defined and being set to 0.0 in labels with no predicted samples. Use `zero_division` parameter to control this behavior.\n",
      "  _warn_prf(average, modifier, msg_start, len(result))\n",
      "c:\\Users\\mihao\\OneDrive - Univerza v Ljubljani\\Doktorski_studij\\Delo\\eGAUSSp_Python\\.conda\\Lib\\site-packages\\sklearn\\metrics\\_classification.py:1471: UndefinedMetricWarning: Precision is ill-defined and being set to 0.0 in labels with no predicted samples. Use `zero_division` parameter to control this behavior.\n",
      "  _warn_prf(average, modifier, msg_start, len(result))\n",
      "c:\\Users\\mihao\\OneDrive - Univerza v Ljubljani\\Doktorski_studij\\Delo\\eGAUSSp_Python\\.conda\\Lib\\site-packages\\sklearn\\metrics\\_classification.py:1471: UndefinedMetricWarning: Precision is ill-defined and being set to 0.0 in labels with no predicted samples. Use `zero_division` parameter to control this behavior.\n",
      "  _warn_prf(average, modifier, msg_start, len(result))\n",
      "c:\\Users\\mihao\\OneDrive - Univerza v Ljubljani\\Doktorski_studij\\Delo\\eGAUSSp_Python\\.conda\\Lib\\site-packages\\sklearn\\metrics\\_classification.py:1471: UndefinedMetricWarning: Precision is ill-defined and being set to 0.0 in labels with no predicted samples. Use `zero_division` parameter to control this behavior.\n",
      "  _warn_prf(average, modifier, msg_start, len(result))\n",
      "c:\\Users\\mihao\\OneDrive - Univerza v Ljubljani\\Doktorski_studij\\Delo\\eGAUSSp_Python\\.conda\\Lib\\site-packages\\sklearn\\metrics\\_classification.py:1471: UndefinedMetricWarning: Precision is ill-defined and being set to 0.0 in labels with no predicted samples. Use `zero_division` parameter to control this behavior.\n",
      "  _warn_prf(average, modifier, msg_start, len(result))\n"
     ]
    },
    {
     "name": "stdout",
     "output_type": "stream",
     "text": [
      "Evolving has been disabled.\n",
      "Evolving has been enabled.\n",
      "Evolving has been disabled.\n",
      "Evolving has been enabled.\n",
      "Evolving has been disabled.\n",
      "Evolving has been disabled.\n",
      "Evolving has been enabled.\n",
      "Evolving has been disabled.\n",
      "Evolving has been enabled.\n"
     ]
    },
    {
     "name": "stderr",
     "output_type": "stream",
     "text": [
      "c:\\Users\\mihao\\OneDrive - Univerza v Ljubljani\\Doktorski_studij\\Delo\\eGAUSSp_Python\\.conda\\Lib\\site-packages\\sklearn\\metrics\\_classification.py:1471: UndefinedMetricWarning: Precision is ill-defined and being set to 0.0 in labels with no predicted samples. Use `zero_division` parameter to control this behavior.\n",
      "  _warn_prf(average, modifier, msg_start, len(result))\n",
      "c:\\Users\\mihao\\OneDrive - Univerza v Ljubljani\\Doktorski_studij\\Delo\\eGAUSSp_Python\\.conda\\Lib\\site-packages\\sklearn\\metrics\\_classification.py:1471: UndefinedMetricWarning: Precision is ill-defined and being set to 0.0 in labels with no predicted samples. Use `zero_division` parameter to control this behavior.\n",
      "  _warn_prf(average, modifier, msg_start, len(result))\n"
     ]
    },
    {
     "name": "stdout",
     "output_type": "stream",
     "text": [
      "Evolving has been disabled.\n",
      "Evolving has been enabled.\n",
      "Evolving has been disabled.\n",
      "Evolving has been enabled.\n",
      "Evolving has been disabled.\n",
      "Evolving has been disabled.\n",
      "Evolving has been enabled.\n",
      "Evolving has been disabled.\n",
      "Evolving has been enabled.\n",
      "Evolving has been disabled.\n",
      "Evolving has been enabled.\n"
     ]
    },
    {
     "name": "stderr",
     "output_type": "stream",
     "text": [
      "c:\\Users\\mihao\\OneDrive - Univerza v Ljubljani\\Doktorski_studij\\Delo\\eGAUSSp_Python\\.conda\\Lib\\site-packages\\sklearn\\metrics\\_classification.py:1471: UndefinedMetricWarning: Precision is ill-defined and being set to 0.0 in labels with no predicted samples. Use `zero_division` parameter to control this behavior.\n",
      "  _warn_prf(average, modifier, msg_start, len(result))\n",
      "c:\\Users\\mihao\\OneDrive - Univerza v Ljubljani\\Doktorski_studij\\Delo\\eGAUSSp_Python\\.conda\\Lib\\site-packages\\sklearn\\metrics\\_classification.py:1471: UndefinedMetricWarning: Precision is ill-defined and being set to 0.0 in labels with no predicted samples. Use `zero_division` parameter to control this behavior.\n",
      "  _warn_prf(average, modifier, msg_start, len(result))\n",
      "c:\\Users\\mihao\\OneDrive - Univerza v Ljubljani\\Doktorski_studij\\Delo\\eGAUSSp_Python\\.conda\\Lib\\site-packages\\sklearn\\metrics\\_classification.py:1471: UndefinedMetricWarning: Precision is ill-defined and being set to 0.0 in labels with no predicted samples. Use `zero_division` parameter to control this behavior.\n",
      "  _warn_prf(average, modifier, msg_start, len(result))\n"
     ]
    },
    {
     "name": "stdout",
     "output_type": "stream",
     "text": [
      "Evolving has been disabled.\n",
      "Evolving has been enabled.\n",
      "Evolving has been disabled.\n",
      "Evolving has been disabled.\n",
      "Evolving has been enabled.\n",
      "Evolving has been disabled.\n",
      "Evolving has been enabled.\n",
      "Evolving has been disabled.\n",
      "Evolving has been enabled.\n"
     ]
    },
    {
     "name": "stderr",
     "output_type": "stream",
     "text": [
      "c:\\Users\\mihao\\OneDrive - Univerza v Ljubljani\\Doktorski_studij\\Delo\\eGAUSSp_Python\\.conda\\Lib\\site-packages\\sklearn\\metrics\\_classification.py:1471: UndefinedMetricWarning: Precision is ill-defined and being set to 0.0 in labels with no predicted samples. Use `zero_division` parameter to control this behavior.\n",
      "  _warn_prf(average, modifier, msg_start, len(result))\n",
      "c:\\Users\\mihao\\OneDrive - Univerza v Ljubljani\\Doktorski_studij\\Delo\\eGAUSSp_Python\\.conda\\Lib\\site-packages\\sklearn\\metrics\\_classification.py:1471: UndefinedMetricWarning: Precision is ill-defined and being set to 0.0 in labels with no predicted samples. Use `zero_division` parameter to control this behavior.\n",
      "  _warn_prf(average, modifier, msg_start, len(result))\n",
      "c:\\Users\\mihao\\OneDrive - Univerza v Ljubljani\\Doktorski_studij\\Delo\\eGAUSSp_Python\\.conda\\Lib\\site-packages\\sklearn\\metrics\\_classification.py:1471: UndefinedMetricWarning: Precision is ill-defined and being set to 0.0 in labels with no predicted samples. Use `zero_division` parameter to control this behavior.\n",
      "  _warn_prf(average, modifier, msg_start, len(result))\n",
      "c:\\Users\\mihao\\OneDrive - Univerza v Ljubljani\\Doktorski_studij\\Delo\\eGAUSSp_Python\\.conda\\Lib\\site-packages\\sklearn\\metrics\\_classification.py:1471: UndefinedMetricWarning: Precision is ill-defined and being set to 0.0 in labels with no predicted samples. Use `zero_division` parameter to control this behavior.\n",
      "  _warn_prf(average, modifier, msg_start, len(result))\n"
     ]
    },
    {
     "name": "stdout",
     "output_type": "stream",
     "text": [
      "Evolving has been disabled.\n",
      "Evolving has been enabled.\n",
      "Evolving has been disabled.\n",
      "Evolving has been disabled.\n",
      "Evolving has been enabled.\n",
      "Evolving has been disabled.\n",
      "Evolving has been enabled.\n",
      "Evolving has been disabled.\n",
      "Evolving has been enabled.\n"
     ]
    },
    {
     "name": "stderr",
     "output_type": "stream",
     "text": [
      "c:\\Users\\mihao\\OneDrive - Univerza v Ljubljani\\Doktorski_studij\\Delo\\eGAUSSp_Python\\.conda\\Lib\\site-packages\\sklearn\\metrics\\_classification.py:1471: UndefinedMetricWarning: Precision is ill-defined and being set to 0.0 in labels with no predicted samples. Use `zero_division` parameter to control this behavior.\n",
      "  _warn_prf(average, modifier, msg_start, len(result))\n",
      "c:\\Users\\mihao\\OneDrive - Univerza v Ljubljani\\Doktorski_studij\\Delo\\eGAUSSp_Python\\.conda\\Lib\\site-packages\\sklearn\\metrics\\_classification.py:1471: UndefinedMetricWarning: Precision is ill-defined and being set to 0.0 in labels with no predicted samples. Use `zero_division` parameter to control this behavior.\n",
      "  _warn_prf(average, modifier, msg_start, len(result))\n"
     ]
    },
    {
     "name": "stdout",
     "output_type": "stream",
     "text": [
      "Evolving has been disabled.\n",
      "Evolving has been enabled.\n",
      "Evolving has been disabled.\n",
      "Evolving has been disabled.\n",
      "Evolving has been enabled.\n",
      "Evolving has been disabled.\n",
      "Evolving has been enabled.\n",
      "Evolving has been disabled.\n",
      "Evolving has been enabled.\n"
     ]
    },
    {
     "name": "stderr",
     "output_type": "stream",
     "text": [
      "c:\\Users\\mihao\\OneDrive - Univerza v Ljubljani\\Doktorski_studij\\Delo\\eGAUSSp_Python\\.conda\\Lib\\site-packages\\sklearn\\metrics\\_classification.py:1471: UndefinedMetricWarning: Precision is ill-defined and being set to 0.0 in labels with no predicted samples. Use `zero_division` parameter to control this behavior.\n",
      "  _warn_prf(average, modifier, msg_start, len(result))\n",
      "c:\\Users\\mihao\\OneDrive - Univerza v Ljubljani\\Doktorski_studij\\Delo\\eGAUSSp_Python\\.conda\\Lib\\site-packages\\sklearn\\metrics\\_classification.py:1471: UndefinedMetricWarning: Precision is ill-defined and being set to 0.0 in labels with no predicted samples. Use `zero_division` parameter to control this behavior.\n",
      "  _warn_prf(average, modifier, msg_start, len(result))\n",
      "c:\\Users\\mihao\\OneDrive - Univerza v Ljubljani\\Doktorski_studij\\Delo\\eGAUSSp_Python\\.conda\\Lib\\site-packages\\sklearn\\metrics\\_classification.py:1471: UndefinedMetricWarning: Precision is ill-defined and being set to 0.0 in labels with no predicted samples. Use `zero_division` parameter to control this behavior.\n",
      "  _warn_prf(average, modifier, msg_start, len(result))\n"
     ]
    },
    {
     "name": "stdout",
     "output_type": "stream",
     "text": [
      "Evolving has been disabled.\n",
      "Evolving has been enabled.\n",
      "Evolving has been disabled.\n",
      "Evolving has been disabled.\n",
      "Evolving has been enabled.\n",
      "Evolving has been disabled.\n",
      "Evolving has been enabled.\n",
      "Evolving has been disabled.\n",
      "Evolving has been enabled.\n"
     ]
    },
    {
     "name": "stderr",
     "output_type": "stream",
     "text": [
      "c:\\Users\\mihao\\OneDrive - Univerza v Ljubljani\\Doktorski_studij\\Delo\\eGAUSSp_Python\\.conda\\Lib\\site-packages\\sklearn\\metrics\\_classification.py:1471: UndefinedMetricWarning: Precision is ill-defined and being set to 0.0 in labels with no predicted samples. Use `zero_division` parameter to control this behavior.\n",
      "  _warn_prf(average, modifier, msg_start, len(result))\n",
      "c:\\Users\\mihao\\OneDrive - Univerza v Ljubljani\\Doktorski_studij\\Delo\\eGAUSSp_Python\\.conda\\Lib\\site-packages\\sklearn\\metrics\\_classification.py:1471: UndefinedMetricWarning: Precision is ill-defined and being set to 0.0 in labels with no predicted samples. Use `zero_division` parameter to control this behavior.\n",
      "  _warn_prf(average, modifier, msg_start, len(result))\n"
     ]
    },
    {
     "name": "stdout",
     "output_type": "stream",
     "text": [
      "Evolving has been disabled.\n",
      "Evolving has been enabled.\n",
      "Evolving has been disabled.\n",
      "Evolving has been disabled.\n",
      "Evolving has been enabled.\n",
      "Evolving has been disabled.\n",
      "Evolving has been enabled.\n",
      "Evolving has been disabled.\n",
      "Evolving has been enabled.\n"
     ]
    },
    {
     "name": "stderr",
     "output_type": "stream",
     "text": [
      "c:\\Users\\mihao\\OneDrive - Univerza v Ljubljani\\Doktorski_studij\\Delo\\eGAUSSp_Python\\.conda\\Lib\\site-packages\\sklearn\\metrics\\_classification.py:1471: UndefinedMetricWarning: Precision is ill-defined and being set to 0.0 in labels with no predicted samples. Use `zero_division` parameter to control this behavior.\n",
      "  _warn_prf(average, modifier, msg_start, len(result))\n",
      "c:\\Users\\mihao\\OneDrive - Univerza v Ljubljani\\Doktorski_studij\\Delo\\eGAUSSp_Python\\.conda\\Lib\\site-packages\\sklearn\\metrics\\_classification.py:1471: UndefinedMetricWarning: Precision is ill-defined and being set to 0.0 in labels with no predicted samples. Use `zero_division` parameter to control this behavior.\n",
      "  _warn_prf(average, modifier, msg_start, len(result))\n"
     ]
    },
    {
     "name": "stdout",
     "output_type": "stream",
     "text": [
      "Evolving has been disabled.\n",
      "Evolving has been enabled.\n",
      "Evolving has been disabled.\n",
      "Evolving has been disabled.\n",
      "Evolving has been enabled.\n",
      "Evolving has been disabled.\n",
      "Evolving has been enabled.\n",
      "Evolving has been disabled.\n",
      "Evolving has been enabled.\n",
      "Evolving has been disabled.\n",
      "Evolving has been enabled.\n"
     ]
    },
    {
     "name": "stderr",
     "output_type": "stream",
     "text": [
      "c:\\Users\\mihao\\OneDrive - Univerza v Ljubljani\\Doktorski_studij\\Delo\\eGAUSSp_Python\\.conda\\Lib\\site-packages\\sklearn\\metrics\\_classification.py:1471: UndefinedMetricWarning: Precision is ill-defined and being set to 0.0 in labels with no predicted samples. Use `zero_division` parameter to control this behavior.\n",
      "  _warn_prf(average, modifier, msg_start, len(result))\n",
      "c:\\Users\\mihao\\OneDrive - Univerza v Ljubljani\\Doktorski_studij\\Delo\\eGAUSSp_Python\\.conda\\Lib\\site-packages\\sklearn\\metrics\\_classification.py:1471: UndefinedMetricWarning: Precision is ill-defined and being set to 0.0 in labels with no predicted samples. Use `zero_division` parameter to control this behavior.\n",
      "  _warn_prf(average, modifier, msg_start, len(result))\n"
     ]
    },
    {
     "name": "stdout",
     "output_type": "stream",
     "text": [
      "Evolving has been disabled.\n",
      "Evolving has been disabled.\n",
      "Evolving has been enabled.\n",
      "Evolving has been disabled.\n",
      "Evolving has been enabled.\n",
      "Evolving has been disabled.\n",
      "Evolving has been enabled.\n",
      "Evolving has been disabled.\n",
      "Evolving has been enabled.\n",
      "Evolving has been disabled.\n"
     ]
    },
    {
     "name": "stderr",
     "output_type": "stream",
     "text": [
      "c:\\Users\\mihao\\OneDrive - Univerza v Ljubljani\\Doktorski_studij\\Delo\\eGAUSSp_Python\\.conda\\Lib\\site-packages\\sklearn\\metrics\\_classification.py:1471: UndefinedMetricWarning: Precision is ill-defined and being set to 0.0 in labels with no predicted samples. Use `zero_division` parameter to control this behavior.\n",
      "  _warn_prf(average, modifier, msg_start, len(result))\n",
      "c:\\Users\\mihao\\OneDrive - Univerza v Ljubljani\\Doktorski_studij\\Delo\\eGAUSSp_Python\\.conda\\Lib\\site-packages\\sklearn\\metrics\\_classification.py:1471: UndefinedMetricWarning: Precision is ill-defined and being set to 0.0 in labels with no predicted samples. Use `zero_division` parameter to control this behavior.\n",
      "  _warn_prf(average, modifier, msg_start, len(result))\n",
      "c:\\Users\\mihao\\OneDrive - Univerza v Ljubljani\\Doktorski_studij\\Delo\\eGAUSSp_Python\\.conda\\Lib\\site-packages\\sklearn\\metrics\\_classification.py:1471: UndefinedMetricWarning: Precision is ill-defined and being set to 0.0 in labels with no predicted samples. Use `zero_division` parameter to control this behavior.\n",
      "  _warn_prf(average, modifier, msg_start, len(result))\n"
     ]
    },
    {
     "name": "stdout",
     "output_type": "stream",
     "text": [
      "Evolving has been disabled.\n",
      "Evolving has been enabled.\n",
      "Evolving has been disabled.\n",
      "Evolving has been enabled.\n",
      "Evolving has been disabled.\n",
      "Evolving has been enabled.\n",
      "Evolving has been disabled.\n",
      "Evolving has been enabled.\n",
      "Evolving has been disabled.\n"
     ]
    },
    {
     "name": "stderr",
     "output_type": "stream",
     "text": [
      "c:\\Users\\mihao\\OneDrive - Univerza v Ljubljani\\Doktorski_studij\\Delo\\eGAUSSp_Python\\.conda\\Lib\\site-packages\\sklearn\\metrics\\_classification.py:1471: UndefinedMetricWarning: Precision is ill-defined and being set to 0.0 in labels with no predicted samples. Use `zero_division` parameter to control this behavior.\n",
      "  _warn_prf(average, modifier, msg_start, len(result))\n",
      "c:\\Users\\mihao\\OneDrive - Univerza v Ljubljani\\Doktorski_studij\\Delo\\eGAUSSp_Python\\.conda\\Lib\\site-packages\\sklearn\\metrics\\_classification.py:1471: UndefinedMetricWarning: Precision is ill-defined and being set to 0.0 in labels with no predicted samples. Use `zero_division` parameter to control this behavior.\n",
      "  _warn_prf(average, modifier, msg_start, len(result))\n"
     ]
    },
    {
     "name": "stdout",
     "output_type": "stream",
     "text": [
      "Evolving has been disabled.\n",
      "Evolving has been enabled.\n",
      "Evolving has been disabled.\n",
      "Evolving has been enabled.\n",
      "Evolving has been disabled.\n",
      "Evolving has been enabled.\n",
      "Evolving has been disabled.\n",
      "Evolving has been enabled.\n"
     ]
    },
    {
     "name": "stderr",
     "output_type": "stream",
     "text": [
      "c:\\Users\\mihao\\OneDrive - Univerza v Ljubljani\\Doktorski_studij\\Delo\\eGAUSSp_Python\\.conda\\Lib\\site-packages\\sklearn\\metrics\\_classification.py:1471: UndefinedMetricWarning: Precision is ill-defined and being set to 0.0 in labels with no predicted samples. Use `zero_division` parameter to control this behavior.\n",
      "  _warn_prf(average, modifier, msg_start, len(result))\n",
      "c:\\Users\\mihao\\OneDrive - Univerza v Ljubljani\\Doktorski_studij\\Delo\\eGAUSSp_Python\\.conda\\Lib\\site-packages\\sklearn\\metrics\\_classification.py:1471: UndefinedMetricWarning: Precision is ill-defined and being set to 0.0 in labels with no predicted samples. Use `zero_division` parameter to control this behavior.\n",
      "  _warn_prf(average, modifier, msg_start, len(result))\n"
     ]
    },
    {
     "name": "stdout",
     "output_type": "stream",
     "text": [
      "Evolving has been disabled.\n",
      "Evolving has been disabled.\n",
      "Evolving has been enabled.\n",
      "Evolving has been disabled.\n",
      "Evolving has been enabled.\n",
      "Evolving has been disabled.\n",
      "Evolving has been enabled.\n",
      "Evolving has been disabled.\n",
      "Evolving has been enabled.\n"
     ]
    },
    {
     "name": "stderr",
     "output_type": "stream",
     "text": [
      "c:\\Users\\mihao\\OneDrive - Univerza v Ljubljani\\Doktorski_studij\\Delo\\eGAUSSp_Python\\.conda\\Lib\\site-packages\\sklearn\\metrics\\_classification.py:1471: UndefinedMetricWarning: Precision is ill-defined and being set to 0.0 in labels with no predicted samples. Use `zero_division` parameter to control this behavior.\n",
      "  _warn_prf(average, modifier, msg_start, len(result))\n"
     ]
    },
    {
     "name": "stdout",
     "output_type": "stream",
     "text": [
      "Evolving has been disabled.\n",
      "Evolving has been disabled.\n",
      "Evolving has been enabled.\n",
      "Evolving has been disabled.\n",
      "Evolving has been enabled.\n",
      "Evolving has been disabled.\n",
      "Evolving has been enabled.\n"
     ]
    },
    {
     "name": "stderr",
     "output_type": "stream",
     "text": [
      "c:\\Users\\mihao\\OneDrive - Univerza v Ljubljani\\Doktorski_studij\\Delo\\eGAUSSp_Python\\.conda\\Lib\\site-packages\\sklearn\\metrics\\_classification.py:1471: UndefinedMetricWarning: Precision is ill-defined and being set to 0.0 in labels with no predicted samples. Use `zero_division` parameter to control this behavior.\n",
      "  _warn_prf(average, modifier, msg_start, len(result))\n",
      "c:\\Users\\mihao\\OneDrive - Univerza v Ljubljani\\Doktorski_studij\\Delo\\eGAUSSp_Python\\.conda\\Lib\\site-packages\\sklearn\\metrics\\_classification.py:1471: UndefinedMetricWarning: Precision is ill-defined and being set to 0.0 in labels with no predicted samples. Use `zero_division` parameter to control this behavior.\n",
      "  _warn_prf(average, modifier, msg_start, len(result))\n"
     ]
    },
    {
     "name": "stdout",
     "output_type": "stream",
     "text": [
      "Evolving has been disabled.\n",
      "Evolving has been enabled.\n",
      "Evolving has been disabled.\n",
      "Evolving has been disabled.\n",
      "Evolving has been enabled.\n",
      "Evolving has been disabled.\n",
      "Evolving has been enabled.\n",
      "Evolving has been disabled.\n",
      "Evolving has been enabled.\n"
     ]
    },
    {
     "name": "stderr",
     "output_type": "stream",
     "text": [
      "c:\\Users\\mihao\\OneDrive - Univerza v Ljubljani\\Doktorski_studij\\Delo\\eGAUSSp_Python\\.conda\\Lib\\site-packages\\sklearn\\metrics\\_classification.py:1471: UndefinedMetricWarning: Precision is ill-defined and being set to 0.0 in labels with no predicted samples. Use `zero_division` parameter to control this behavior.\n",
      "  _warn_prf(average, modifier, msg_start, len(result))\n",
      "c:\\Users\\mihao\\OneDrive - Univerza v Ljubljani\\Doktorski_studij\\Delo\\eGAUSSp_Python\\.conda\\Lib\\site-packages\\sklearn\\metrics\\_classification.py:1471: UndefinedMetricWarning: Precision is ill-defined and being set to 0.0 in labels with no predicted samples. Use `zero_division` parameter to control this behavior.\n",
      "  _warn_prf(average, modifier, msg_start, len(result))\n"
     ]
    },
    {
     "name": "stdout",
     "output_type": "stream",
     "text": [
      "Evolving has been disabled.\n",
      "Evolving has been enabled.\n",
      "Evolving has been disabled.\n",
      "Evolving has been disabled.\n",
      "Evolving has been enabled.\n",
      "Evolving has been disabled.\n",
      "Evolving has been enabled.\n",
      "Evolving has been disabled.\n",
      "Evolving has been enabled.\n"
     ]
    },
    {
     "name": "stderr",
     "output_type": "stream",
     "text": [
      "c:\\Users\\mihao\\OneDrive - Univerza v Ljubljani\\Doktorski_studij\\Delo\\eGAUSSp_Python\\.conda\\Lib\\site-packages\\sklearn\\metrics\\_classification.py:1471: UndefinedMetricWarning: Precision is ill-defined and being set to 0.0 in labels with no predicted samples. Use `zero_division` parameter to control this behavior.\n",
      "  _warn_prf(average, modifier, msg_start, len(result))\n",
      "c:\\Users\\mihao\\OneDrive - Univerza v Ljubljani\\Doktorski_studij\\Delo\\eGAUSSp_Python\\.conda\\Lib\\site-packages\\sklearn\\metrics\\_classification.py:1471: UndefinedMetricWarning: Precision is ill-defined and being set to 0.0 in labels with no predicted samples. Use `zero_division` parameter to control this behavior.\n",
      "  _warn_prf(average, modifier, msg_start, len(result))\n"
     ]
    },
    {
     "name": "stdout",
     "output_type": "stream",
     "text": [
      "Evolving has been disabled.\n",
      "Evolving has been enabled.\n",
      "Evolving has been disabled.\n",
      "Evolving has been disabled.\n",
      "Evolving has been enabled.\n",
      "Evolving has been disabled.\n",
      "Evolving has been enabled.\n",
      "Evolving has been disabled.\n",
      "Evolving has been enabled.\n"
     ]
    },
    {
     "name": "stderr",
     "output_type": "stream",
     "text": [
      "c:\\Users\\mihao\\OneDrive - Univerza v Ljubljani\\Doktorski_studij\\Delo\\eGAUSSp_Python\\.conda\\Lib\\site-packages\\sklearn\\metrics\\_classification.py:1471: UndefinedMetricWarning: Precision is ill-defined and being set to 0.0 in labels with no predicted samples. Use `zero_division` parameter to control this behavior.\n",
      "  _warn_prf(average, modifier, msg_start, len(result))\n",
      "c:\\Users\\mihao\\OneDrive - Univerza v Ljubljani\\Doktorski_studij\\Delo\\eGAUSSp_Python\\.conda\\Lib\\site-packages\\sklearn\\metrics\\_classification.py:1471: UndefinedMetricWarning: Precision is ill-defined and being set to 0.0 in labels with no predicted samples. Use `zero_division` parameter to control this behavior.\n",
      "  _warn_prf(average, modifier, msg_start, len(result))\n"
     ]
    },
    {
     "name": "stdout",
     "output_type": "stream",
     "text": [
      "Evolving has been disabled.\n",
      "Evolving has been enabled.\n",
      "Evolving has been disabled.\n",
      "Evolving has been disabled.\n",
      "Evolving has been enabled.\n",
      "Evolving has been disabled.\n",
      "Evolving has been enabled.\n",
      "Evolving has been disabled.\n",
      "Evolving has been enabled.\n"
     ]
    },
    {
     "name": "stderr",
     "output_type": "stream",
     "text": [
      "c:\\Users\\mihao\\OneDrive - Univerza v Ljubljani\\Doktorski_studij\\Delo\\eGAUSSp_Python\\.conda\\Lib\\site-packages\\sklearn\\metrics\\_classification.py:1471: UndefinedMetricWarning: Precision is ill-defined and being set to 0.0 in labels with no predicted samples. Use `zero_division` parameter to control this behavior.\n",
      "  _warn_prf(average, modifier, msg_start, len(result))\n",
      "c:\\Users\\mihao\\OneDrive - Univerza v Ljubljani\\Doktorski_studij\\Delo\\eGAUSSp_Python\\.conda\\Lib\\site-packages\\sklearn\\metrics\\_classification.py:1471: UndefinedMetricWarning: Precision is ill-defined and being set to 0.0 in labels with no predicted samples. Use `zero_division` parameter to control this behavior.\n",
      "  _warn_prf(average, modifier, msg_start, len(result))\n"
     ]
    },
    {
     "name": "stdout",
     "output_type": "stream",
     "text": [
      "Evolving has been disabled.\n",
      "Evolving has been enabled.\n",
      "Evolving has been disabled.\n",
      "Evolving has been disabled.\n",
      "Evolving has been enabled.\n",
      "Evolving has been disabled.\n",
      "Evolving has been enabled.\n",
      "Evolving has been disabled.\n",
      "Evolving has been enabled.\n"
     ]
    },
    {
     "name": "stderr",
     "output_type": "stream",
     "text": [
      "c:\\Users\\mihao\\OneDrive - Univerza v Ljubljani\\Doktorski_studij\\Delo\\eGAUSSp_Python\\.conda\\Lib\\site-packages\\sklearn\\metrics\\_classification.py:1471: UndefinedMetricWarning: Precision is ill-defined and being set to 0.0 in labels with no predicted samples. Use `zero_division` parameter to control this behavior.\n",
      "  _warn_prf(average, modifier, msg_start, len(result))\n",
      "c:\\Users\\mihao\\OneDrive - Univerza v Ljubljani\\Doktorski_studij\\Delo\\eGAUSSp_Python\\.conda\\Lib\\site-packages\\sklearn\\metrics\\_classification.py:1471: UndefinedMetricWarning: Precision is ill-defined and being set to 0.0 in labels with no predicted samples. Use `zero_division` parameter to control this behavior.\n",
      "  _warn_prf(average, modifier, msg_start, len(result))\n",
      "c:\\Users\\mihao\\OneDrive - Univerza v Ljubljani\\Doktorski_studij\\Delo\\eGAUSSp_Python\\.conda\\Lib\\site-packages\\sklearn\\metrics\\_classification.py:1471: UndefinedMetricWarning: Precision is ill-defined and being set to 0.0 in labels with no predicted samples. Use `zero_division` parameter to control this behavior.\n",
      "  _warn_prf(average, modifier, msg_start, len(result))\n"
     ]
    },
    {
     "name": "stdout",
     "output_type": "stream",
     "text": [
      "Evolving has been disabled.\n",
      "Evolving has been enabled.\n",
      "Evolving has been disabled.\n",
      "Evolving has been disabled.\n",
      "Evolving has been enabled.\n",
      "Evolving has been disabled.\n",
      "Evolving has been enabled.\n",
      "Evolving has been disabled.\n",
      "Evolving has been enabled.\n"
     ]
    },
    {
     "name": "stderr",
     "output_type": "stream",
     "text": [
      "c:\\Users\\mihao\\OneDrive - Univerza v Ljubljani\\Doktorski_studij\\Delo\\eGAUSSp_Python\\.conda\\Lib\\site-packages\\sklearn\\metrics\\_classification.py:1471: UndefinedMetricWarning: Precision is ill-defined and being set to 0.0 in labels with no predicted samples. Use `zero_division` parameter to control this behavior.\n",
      "  _warn_prf(average, modifier, msg_start, len(result))\n",
      "c:\\Users\\mihao\\OneDrive - Univerza v Ljubljani\\Doktorski_studij\\Delo\\eGAUSSp_Python\\.conda\\Lib\\site-packages\\sklearn\\metrics\\_classification.py:1471: UndefinedMetricWarning: Precision is ill-defined and being set to 0.0 in labels with no predicted samples. Use `zero_division` parameter to control this behavior.\n",
      "  _warn_prf(average, modifier, msg_start, len(result))\n",
      "c:\\Users\\mihao\\OneDrive - Univerza v Ljubljani\\Doktorski_studij\\Delo\\eGAUSSp_Python\\.conda\\Lib\\site-packages\\sklearn\\metrics\\_classification.py:1471: UndefinedMetricWarning: Precision is ill-defined and being set to 0.0 in labels with no predicted samples. Use `zero_division` parameter to control this behavior.\n",
      "  _warn_prf(average, modifier, msg_start, len(result))\n"
     ]
    },
    {
     "name": "stdout",
     "output_type": "stream",
     "text": [
      "Evolving has been disabled.\n",
      "Evolving has been enabled.\n",
      "Evolving has been disabled.\n",
      "Evolving has been disabled.\n",
      "Evolving has been enabled.\n",
      "Evolving has been disabled.\n",
      "Evolving has been enabled.\n",
      "Evolving has been disabled.\n",
      "Evolving has been enabled.\n"
     ]
    },
    {
     "name": "stderr",
     "output_type": "stream",
     "text": [
      "c:\\Users\\mihao\\OneDrive - Univerza v Ljubljani\\Doktorski_studij\\Delo\\eGAUSSp_Python\\.conda\\Lib\\site-packages\\sklearn\\metrics\\_classification.py:1471: UndefinedMetricWarning: Precision is ill-defined and being set to 0.0 in labels with no predicted samples. Use `zero_division` parameter to control this behavior.\n",
      "  _warn_prf(average, modifier, msg_start, len(result))\n",
      "c:\\Users\\mihao\\OneDrive - Univerza v Ljubljani\\Doktorski_studij\\Delo\\eGAUSSp_Python\\.conda\\Lib\\site-packages\\sklearn\\metrics\\_classification.py:1471: UndefinedMetricWarning: Precision is ill-defined and being set to 0.0 in labels with no predicted samples. Use `zero_division` parameter to control this behavior.\n",
      "  _warn_prf(average, modifier, msg_start, len(result))\n"
     ]
    },
    {
     "name": "stdout",
     "output_type": "stream",
     "text": [
      "Evolving has been disabled.\n",
      "Evolving has been enabled.\n",
      "Evolving has been disabled.\n",
      "Evolving has been disabled.\n",
      "Evolving has been enabled.\n",
      "Evolving has been disabled.\n",
      "Evolving has been enabled.\n",
      "Evolving has been disabled.\n"
     ]
    },
    {
     "name": "stderr",
     "output_type": "stream",
     "text": [
      "c:\\Users\\mihao\\OneDrive - Univerza v Ljubljani\\Doktorski_studij\\Delo\\eGAUSSp_Python\\.conda\\Lib\\site-packages\\sklearn\\metrics\\_classification.py:1471: UndefinedMetricWarning: Precision is ill-defined and being set to 0.0 in labels with no predicted samples. Use `zero_division` parameter to control this behavior.\n",
      "  _warn_prf(average, modifier, msg_start, len(result))\n",
      "c:\\Users\\mihao\\OneDrive - Univerza v Ljubljani\\Doktorski_studij\\Delo\\eGAUSSp_Python\\.conda\\Lib\\site-packages\\sklearn\\metrics\\_classification.py:1471: UndefinedMetricWarning: Precision is ill-defined and being set to 0.0 in labels with no predicted samples. Use `zero_division` parameter to control this behavior.\n",
      "  _warn_prf(average, modifier, msg_start, len(result))\n"
     ]
    },
    {
     "name": "stdout",
     "output_type": "stream",
     "text": [
      "Evolving has been enabled.\n",
      "Evolving has been disabled.\n",
      "Evolving has been enabled.\n",
      "Evolving has been disabled.\n",
      "Evolving has been disabled.\n",
      "Evolving has been enabled.\n",
      "Evolving has been disabled.\n",
      "Evolving has been enabled.\n",
      "Evolving has been disabled.\n",
      "Evolving has been enabled.\n",
      "Evolving has been disabled.\n",
      "Evolving has been enabled.\n",
      "Evolving has been disabled.\n",
      "Evolving has been disabled.\n",
      "Evolving has been enabled.\n",
      "Evolving has been disabled.\n",
      "Evolving has been enabled.\n"
     ]
    },
    {
     "name": "stderr",
     "output_type": "stream",
     "text": [
      "c:\\Users\\mihao\\OneDrive - Univerza v Ljubljani\\Doktorski_studij\\Delo\\eGAUSSp_Python\\.conda\\Lib\\site-packages\\sklearn\\metrics\\_classification.py:1471: UndefinedMetricWarning: Precision is ill-defined and being set to 0.0 in labels with no predicted samples. Use `zero_division` parameter to control this behavior.\n",
      "  _warn_prf(average, modifier, msg_start, len(result))\n",
      "c:\\Users\\mihao\\OneDrive - Univerza v Ljubljani\\Doktorski_studij\\Delo\\eGAUSSp_Python\\.conda\\Lib\\site-packages\\sklearn\\metrics\\_classification.py:1471: UndefinedMetricWarning: Precision is ill-defined and being set to 0.0 in labels with no predicted samples. Use `zero_division` parameter to control this behavior.\n",
      "  _warn_prf(average, modifier, msg_start, len(result))\n"
     ]
    },
    {
     "name": "stdout",
     "output_type": "stream",
     "text": [
      "Evolving has been disabled.\n",
      "Evolving has been enabled.\n",
      "Evolving has been disabled.\n",
      "Evolving has been enabled.\n",
      "Evolving has been disabled.\n",
      "Evolving has been disabled.\n",
      "Evolving has been enabled.\n",
      "Evolving has been disabled.\n",
      "Evolving has been enabled.\n",
      "Evolving has been disabled.\n",
      "Evolving has been enabled.\n"
     ]
    },
    {
     "name": "stderr",
     "output_type": "stream",
     "text": [
      "c:\\Users\\mihao\\OneDrive - Univerza v Ljubljani\\Doktorski_studij\\Delo\\eGAUSSp_Python\\.conda\\Lib\\site-packages\\sklearn\\metrics\\_classification.py:1471: UndefinedMetricWarning: Precision is ill-defined and being set to 0.0 in labels with no predicted samples. Use `zero_division` parameter to control this behavior.\n",
      "  _warn_prf(average, modifier, msg_start, len(result))\n",
      "c:\\Users\\mihao\\OneDrive - Univerza v Ljubljani\\Doktorski_studij\\Delo\\eGAUSSp_Python\\.conda\\Lib\\site-packages\\sklearn\\metrics\\_classification.py:1471: UndefinedMetricWarning: Precision is ill-defined and being set to 0.0 in labels with no predicted samples. Use `zero_division` parameter to control this behavior.\n",
      "  _warn_prf(average, modifier, msg_start, len(result))\n",
      "c:\\Users\\mihao\\OneDrive - Univerza v Ljubljani\\Doktorski_studij\\Delo\\eGAUSSp_Python\\.conda\\Lib\\site-packages\\sklearn\\metrics\\_classification.py:1471: UndefinedMetricWarning: Precision is ill-defined and being set to 0.0 in labels with no predicted samples. Use `zero_division` parameter to control this behavior.\n",
      "  _warn_prf(average, modifier, msg_start, len(result))\n"
     ]
    },
    {
     "name": "stdout",
     "output_type": "stream",
     "text": [
      "Evolving has been disabled.\n",
      "Evolving has been enabled.\n",
      "Evolving has been disabled.\n",
      "Evolving has been disabled.\n",
      "Evolving has been enabled.\n",
      "Evolving has been disabled.\n",
      "Evolving has been enabled.\n",
      "Evolving has been disabled.\n",
      "Evolving has been enabled.\n"
     ]
    },
    {
     "name": "stderr",
     "output_type": "stream",
     "text": [
      "c:\\Users\\mihao\\OneDrive - Univerza v Ljubljani\\Doktorski_studij\\Delo\\eGAUSSp_Python\\.conda\\Lib\\site-packages\\sklearn\\metrics\\_classification.py:1471: UndefinedMetricWarning: Precision is ill-defined and being set to 0.0 in labels with no predicted samples. Use `zero_division` parameter to control this behavior.\n",
      "  _warn_prf(average, modifier, msg_start, len(result))\n",
      "c:\\Users\\mihao\\OneDrive - Univerza v Ljubljani\\Doktorski_studij\\Delo\\eGAUSSp_Python\\.conda\\Lib\\site-packages\\sklearn\\metrics\\_classification.py:1471: UndefinedMetricWarning: Precision is ill-defined and being set to 0.0 in labels with no predicted samples. Use `zero_division` parameter to control this behavior.\n",
      "  _warn_prf(average, modifier, msg_start, len(result))\n"
     ]
    },
    {
     "name": "stdout",
     "output_type": "stream",
     "text": [
      "Evolving has been disabled.\n",
      "Evolving has been enabled.\n",
      "Evolving has been disabled.\n",
      "Evolving has been disabled.\n",
      "Evolving has been enabled.\n",
      "Evolving has been disabled.\n",
      "Evolving has been enabled.\n",
      "Evolving has been disabled.\n",
      "Evolving has been enabled.\n"
     ]
    },
    {
     "name": "stderr",
     "output_type": "stream",
     "text": [
      "c:\\Users\\mihao\\OneDrive - Univerza v Ljubljani\\Doktorski_studij\\Delo\\eGAUSSp_Python\\.conda\\Lib\\site-packages\\sklearn\\metrics\\_classification.py:1471: UndefinedMetricWarning: Precision is ill-defined and being set to 0.0 in labels with no predicted samples. Use `zero_division` parameter to control this behavior.\n",
      "  _warn_prf(average, modifier, msg_start, len(result))\n",
      "c:\\Users\\mihao\\OneDrive - Univerza v Ljubljani\\Doktorski_studij\\Delo\\eGAUSSp_Python\\.conda\\Lib\\site-packages\\sklearn\\metrics\\_classification.py:1471: UndefinedMetricWarning: Precision is ill-defined and being set to 0.0 in labels with no predicted samples. Use `zero_division` parameter to control this behavior.\n",
      "  _warn_prf(average, modifier, msg_start, len(result))\n"
     ]
    },
    {
     "name": "stdout",
     "output_type": "stream",
     "text": [
      "Evolving has been disabled.\n",
      "Evolving has been enabled.\n",
      "Evolving has been disabled.\n",
      "Evolving has been disabled.\n",
      "Evolving has been enabled.\n",
      "Evolving has been disabled.\n",
      "Evolving has been enabled.\n",
      "Evolving has been disabled.\n",
      "Evolving has been enabled.\n"
     ]
    },
    {
     "name": "stderr",
     "output_type": "stream",
     "text": [
      "c:\\Users\\mihao\\OneDrive - Univerza v Ljubljani\\Doktorski_studij\\Delo\\eGAUSSp_Python\\.conda\\Lib\\site-packages\\sklearn\\metrics\\_classification.py:1471: UndefinedMetricWarning: Precision is ill-defined and being set to 0.0 in labels with no predicted samples. Use `zero_division` parameter to control this behavior.\n",
      "  _warn_prf(average, modifier, msg_start, len(result))\n",
      "c:\\Users\\mihao\\OneDrive - Univerza v Ljubljani\\Doktorski_studij\\Delo\\eGAUSSp_Python\\.conda\\Lib\\site-packages\\sklearn\\metrics\\_classification.py:1471: UndefinedMetricWarning: Precision is ill-defined and being set to 0.0 in labels with no predicted samples. Use `zero_division` parameter to control this behavior.\n",
      "  _warn_prf(average, modifier, msg_start, len(result))\n"
     ]
    },
    {
     "name": "stdout",
     "output_type": "stream",
     "text": [
      "Evolving has been disabled.\n",
      "Evolving has been enabled.\n",
      "Evolving has been disabled.\n",
      "Evolving has been disabled.\n",
      "Evolving has been enabled.\n",
      "Evolving has been disabled.\n",
      "Evolving has been enabled.\n",
      "Evolving has been disabled.\n",
      "Evolving has been enabled.\n",
      "Evolving has been disabled.\n",
      "Evolving has been enabled.\n"
     ]
    },
    {
     "name": "stderr",
     "output_type": "stream",
     "text": [
      "c:\\Users\\mihao\\OneDrive - Univerza v Ljubljani\\Doktorski_studij\\Delo\\eGAUSSp_Python\\.conda\\Lib\\site-packages\\sklearn\\metrics\\_classification.py:1471: UndefinedMetricWarning: Precision is ill-defined and being set to 0.0 in labels with no predicted samples. Use `zero_division` parameter to control this behavior.\n",
      "  _warn_prf(average, modifier, msg_start, len(result))\n",
      "c:\\Users\\mihao\\OneDrive - Univerza v Ljubljani\\Doktorski_studij\\Delo\\eGAUSSp_Python\\.conda\\Lib\\site-packages\\sklearn\\metrics\\_classification.py:1471: UndefinedMetricWarning: Precision is ill-defined and being set to 0.0 in labels with no predicted samples. Use `zero_division` parameter to control this behavior.\n",
      "  _warn_prf(average, modifier, msg_start, len(result))\n"
     ]
    },
    {
     "name": "stdout",
     "output_type": "stream",
     "text": [
      "Evolving has been disabled.\n",
      "Evolving has been disabled.\n",
      "Evolving has been enabled.\n",
      "Evolving has been disabled.\n",
      "Evolving has been enabled.\n",
      "Evolving has been disabled.\n",
      "Evolving has been enabled.\n",
      "Evolving has been disabled.\n",
      "Evolving has been enabled.\n"
     ]
    },
    {
     "name": "stderr",
     "output_type": "stream",
     "text": [
      "c:\\Users\\mihao\\OneDrive - Univerza v Ljubljani\\Doktorski_studij\\Delo\\eGAUSSp_Python\\.conda\\Lib\\site-packages\\sklearn\\metrics\\_classification.py:1471: UndefinedMetricWarning: Precision is ill-defined and being set to 0.0 in labels with no predicted samples. Use `zero_division` parameter to control this behavior.\n",
      "  _warn_prf(average, modifier, msg_start, len(result))\n",
      "c:\\Users\\mihao\\OneDrive - Univerza v Ljubljani\\Doktorski_studij\\Delo\\eGAUSSp_Python\\.conda\\Lib\\site-packages\\sklearn\\metrics\\_classification.py:1471: UndefinedMetricWarning: Precision is ill-defined and being set to 0.0 in labels with no predicted samples. Use `zero_division` parameter to control this behavior.\n",
      "  _warn_prf(average, modifier, msg_start, len(result))\n"
     ]
    },
    {
     "name": "stdout",
     "output_type": "stream",
     "text": [
      "Evolving has been disabled.\n",
      "Evolving has been disabled.\n",
      "Evolving has been enabled.\n",
      "Evolving has been disabled.\n",
      "Evolving has been enabled.\n",
      "Evolving has been disabled.\n",
      "Evolving has been enabled.\n",
      "Evolving has been disabled.\n",
      "Evolving has been enabled.\n"
     ]
    },
    {
     "name": "stderr",
     "output_type": "stream",
     "text": [
      "c:\\Users\\mihao\\OneDrive - Univerza v Ljubljani\\Doktorski_studij\\Delo\\eGAUSSp_Python\\.conda\\Lib\\site-packages\\sklearn\\metrics\\_classification.py:1471: UndefinedMetricWarning: Precision is ill-defined and being set to 0.0 in labels with no predicted samples. Use `zero_division` parameter to control this behavior.\n",
      "  _warn_prf(average, modifier, msg_start, len(result))\n",
      "c:\\Users\\mihao\\OneDrive - Univerza v Ljubljani\\Doktorski_studij\\Delo\\eGAUSSp_Python\\.conda\\Lib\\site-packages\\sklearn\\metrics\\_classification.py:1471: UndefinedMetricWarning: Precision is ill-defined and being set to 0.0 in labels with no predicted samples. Use `zero_division` parameter to control this behavior.\n",
      "  _warn_prf(average, modifier, msg_start, len(result))\n"
     ]
    },
    {
     "name": "stdout",
     "output_type": "stream",
     "text": [
      "Evolving has been disabled.\n",
      "Evolving has been disabled.\n",
      "Evolving has been enabled.\n",
      "Evolving has been disabled.\n",
      "Evolving has been enabled.\n",
      "Evolving has been disabled.\n",
      "Evolving has been enabled.\n",
      "Evolving has been disabled.\n",
      "Evolving has been enabled.\n",
      "Evolving has been disabled.\n"
     ]
    },
    {
     "name": "stderr",
     "output_type": "stream",
     "text": [
      "c:\\Users\\mihao\\OneDrive - Univerza v Ljubljani\\Doktorski_studij\\Delo\\eGAUSSp_Python\\.conda\\Lib\\site-packages\\sklearn\\metrics\\_classification.py:1471: UndefinedMetricWarning: Precision is ill-defined and being set to 0.0 in labels with no predicted samples. Use `zero_division` parameter to control this behavior.\n",
      "  _warn_prf(average, modifier, msg_start, len(result))\n",
      "c:\\Users\\mihao\\OneDrive - Univerza v Ljubljani\\Doktorski_studij\\Delo\\eGAUSSp_Python\\.conda\\Lib\\site-packages\\sklearn\\metrics\\_classification.py:1471: UndefinedMetricWarning: Precision is ill-defined and being set to 0.0 in labels with no predicted samples. Use `zero_division` parameter to control this behavior.\n",
      "  _warn_prf(average, modifier, msg_start, len(result))\n"
     ]
    },
    {
     "name": "stdout",
     "output_type": "stream",
     "text": [
      "Evolving has been disabled.\n"
     ]
    },
    {
     "data": {
      "text/plain": [
       "{'client_metrics': [[{'accuracy': 0.4666666666666667,\n",
       "    'precision': 0.5555555555555556,\n",
       "    'recall': 0.4666666666666667,\n",
       "    'f1_score': 0.41333333333333333},\n",
       "   {'accuracy': 0.5333333333333333,\n",
       "    'precision': 0.4222222222222222,\n",
       "    'recall': 0.5333333333333333,\n",
       "    'f1_score': 0.45641025641025645},\n",
       "   {'accuracy': 0.6,\n",
       "    'precision': 0.49523809523809526,\n",
       "    'recall': 0.6,\n",
       "    'f1_score': 0.51},\n",
       "   {'accuracy': 0.5666666666666667,\n",
       "    'precision': 0.36000000000000004,\n",
       "    'recall': 0.5666666666666667,\n",
       "    'f1_score': 0.43970588235294106},\n",
       "   {'accuracy': 0.43333333333333335,\n",
       "    'precision': 0.2732142857142857,\n",
       "    'recall': 0.43333333333333335,\n",
       "    'f1_score': 0.3351170568561873}],\n",
       "  [{'accuracy': 0.5333333333333333,\n",
       "    'precision': 0.36363636363636365,\n",
       "    'recall': 0.5333333333333333,\n",
       "    'f1_score': 0.40888888888888886},\n",
       "   {'accuracy': 0.7333333333333333,\n",
       "    'precision': 0.5733333333333334,\n",
       "    'recall': 0.7333333333333333,\n",
       "    'f1_score': 0.6333333333333333},\n",
       "   {'accuracy': 0.6333333333333333,\n",
       "    'precision': 0.4683333333333334,\n",
       "    'recall': 0.6333333333333333,\n",
       "    'f1_score': 0.5195402298850574},\n",
       "   {'accuracy': 0.7666666666666667,\n",
       "    'precision': 0.619298245614035,\n",
       "    'recall': 0.7666666666666667,\n",
       "    'f1_score': 0.6763440860215053},\n",
       "   {'accuracy': 0.6666666666666666,\n",
       "    'precision': 0.46907993966817496,\n",
       "    'recall': 0.6666666666666666,\n",
       "    'f1_score': 0.5438034188034188}],\n",
       "  [{'accuracy': 0.43333333333333335,\n",
       "    'precision': 0.36363636363636365,\n",
       "    'recall': 0.43333333333333335,\n",
       "    'f1_score': 0.34735042735042737},\n",
       "   {'accuracy': 1.0, 'precision': 1.0, 'recall': 1.0, 'f1_score': 1.0},\n",
       "   {'accuracy': 0.8333333333333334,\n",
       "    'precision': 0.8854166666666666,\n",
       "    'recall': 0.8333333333333334,\n",
       "    'f1_score': 0.8167141500474833},\n",
       "   {'accuracy': 0.8,\n",
       "    'precision': 0.8666666666666667,\n",
       "    'recall': 0.8,\n",
       "    'f1_score': 0.745},\n",
       "   {'accuracy': 0.8333333333333334,\n",
       "    'precision': 0.8888888888888888,\n",
       "    'recall': 0.8333333333333334,\n",
       "    'f1_score': 0.8179487179487179}],\n",
       "  [{'accuracy': 0.8,\n",
       "    'precision': 0.8037037037037037,\n",
       "    'recall': 0.8,\n",
       "    'f1_score': 0.7791666666666667},\n",
       "   {'accuracy': 0.4666666666666667,\n",
       "    'precision': 0.5911111111111111,\n",
       "    'recall': 0.4666666666666667,\n",
       "    'f1_score': 0.4809889173060528},\n",
       "   {'accuracy': 0.8333333333333334,\n",
       "    'precision': 0.8854166666666666,\n",
       "    'recall': 0.8333333333333334,\n",
       "    'f1_score': 0.8167141500474833},\n",
       "   {'accuracy': 0.9,\n",
       "    'precision': 0.92,\n",
       "    'recall': 0.9,\n",
       "    'f1_score': 0.8919191919191919},\n",
       "   {'accuracy': 0.8666666666666667,\n",
       "    'precision': 0.8666666666666667,\n",
       "    'recall': 0.8666666666666667,\n",
       "    'f1_score': 0.8666666666666667}]],\n",
       " 'client_clusters': [[tensor(5), tensor(5), tensor(5), tensor(4), tensor(5)],\n",
       "  [tensor(6), tensor(4), tensor(2), tensor(4), tensor(4)],\n",
       "  [tensor(4), tensor(4), tensor(4), tensor(4), tensor(5)],\n",
       "  [tensor(4), tensor(6), tensor(4), tensor(4), tensor(4)]],\n",
       " 'federated_metrics': [{'accuracy': 0.6333333333333333,\n",
       "   'precision': 0.8456140350877193,\n",
       "   'recall': 0.6333333333333333,\n",
       "   'f1_score': 0.5893972403776325},\n",
       "  {'accuracy': 0.9666666666666667,\n",
       "   'precision': 0.9692307692307692,\n",
       "   'recall': 0.9666666666666667,\n",
       "   'f1_score': 0.9662222222222224},\n",
       "  {'accuracy': 0.9666666666666667,\n",
       "   'precision': 0.9694444444444444,\n",
       "   'recall': 0.9666666666666667,\n",
       "   'f1_score': 0.9664109121909632},\n",
       "  {'accuracy': 0.8,\n",
       "   'precision': 0.8666666666666667,\n",
       "   'recall': 0.8,\n",
       "   'f1_score': 0.745},\n",
       "  {'accuracy': 0.8666666666666667,\n",
       "   'precision': 0.9047619047619048,\n",
       "   'recall': 0.8666666666666667,\n",
       "   'f1_score': 0.8587301587301587}],\n",
       " 'federated_clusters': [tensor(12),\n",
       "  tensor(13),\n",
       "  tensor(11),\n",
       "  tensor(10),\n",
       "  tensor(8)],\n",
       " 'samples_per_class_per_client': array([[[ 0.,  0.,  0.,  0.,  0.],\n",
       "         [11., 11.,  7., 12., 11.],\n",
       "         [11., 10., 11.,  7.,  7.]],\n",
       " \n",
       "        [[19., 21., 20., 19., 21.],\n",
       "         [ 0.,  0.,  0.,  0.,  0.],\n",
       "         [11.,  6., 13., 11., 11.]],\n",
       " \n",
       "        [[14., 13., 10., 11., 11.],\n",
       "         [15., 20., 19., 20., 20.],\n",
       "         [ 9.,  9., 10., 10.,  9.]],\n",
       " \n",
       "        [[ 9.,  6., 10.,  9.,  7.],\n",
       "         [10., 11., 13., 11.,  9.],\n",
       "         [11., 13.,  7., 10., 14.]]])}"
      ]
     },
     "execution_count": 3,
     "metadata": {},
     "output_type": "execute_result"
    }
   ],
   "source": [
    "# Load the Iris dataset\n",
    "iris = datasets.load_iris()\n",
    "\n",
    "X = iris.data\n",
    "y = iris.target\n",
    "\n",
    "num_clients = 4\n",
    "num_splits = 5\n",
    "num_repetitions = 10\n",
    "\n",
    "# Re-inserting the repetition of the experiment 10 times\n",
    "experiment_results = []\n",
    "for experiment in range(num_repetitions):\n",
    "    kf = KFold(n_splits=num_splits, shuffle=True, random_state=None)\n",
    "\n",
    "    # Initialize arrays to track samples per class for each client in each fold\n",
    "    samples_per_class_per_client = np.zeros((num_clients, local_model_params[\"num_classes\"], num_splits))\n",
    "\n",
    "    # Main loop for k-fold cross-validation\n",
    "    all_client_metrics = [[] for _ in range(num_clients)]\n",
    "    all_client_clusters = [[] for _ in range(num_clients)]\n",
    "\n",
    "    all_federated_metrics = []\n",
    "    all_federated_clusters = []\n",
    "\n",
    "    for i_fold, (train_index, test_index) in enumerate(kf.split(iris.data)):\n",
    "        # Split the data\n",
    "        train_data, test_data, all_data = prepare_k_fold_non_iid_dataset(X, y, train_index, test_index, num_clients)\n",
    "\n",
    "        # Create the models\n",
    "        local_models = [eGAUSSp(**local_model_params) for _ in range(num_clients)]\n",
    "        federated_model = eGAUSSp(**federated_model_params)\n",
    "\n",
    "        # Train and test the models\n",
    "        for client_idx, client_model in enumerate(local_models):\n",
    "            # Count the number of samples per class for this client in this fold\n",
    "            for class_idx in range(client_model.num_classes):\n",
    "                class_samples = torch.sum((train_data[client_idx][1] == class_idx).float(), dim=0)\n",
    "                samples_per_class_per_client[client_idx, class_idx, i_fold] = class_samples\n",
    "\n",
    "            # Supervised clustering\n",
    "            train_supervised(client_model, train_data[client_idx])\n",
    "\n",
    "            # Test the local models\n",
    "            _, pred, _ = test_model(client_model, test_data)\n",
    "            metrics = calculate_metrics(pred, test_data, \"weighted\")\n",
    "            all_client_metrics[client_idx].append(metrics)\n",
    "\n",
    "            # Save the number of clusters\n",
    "            num_client_clusters = torch.sum(client_model.n[:client_model.c] > 1)\n",
    "            all_client_clusters[client_idx].append(num_client_clusters)\n",
    "\n",
    "        # Aggregate local models\n",
    "        for client_model in local_models:\n",
    "            federated_model.federal_agent.merge_model_privately(client_model, federated_model.kappa_n)\n",
    "\n",
    "        federated_model.federal_agent.federated_merging()\n",
    "\n",
    "        num_federated_clusters = torch.sum(federated_model.n[:federated_model.c] > 0)\n",
    "        all_federated_clusters.append(num_federated_clusters)\n",
    "\n",
    "        # Test the federated model\n",
    "        _, pred_fed, _ = test_model(federated_model, test_data)\n",
    "        federated_metrics = calculate_metrics(pred_fed, test_data, \"weighted\")\n",
    "        all_federated_metrics.append(federated_metrics)\n",
    "\n",
    "    # Store results of each experiment\n",
    "    experiment_results.append({\n",
    "        \"client_metrics\": all_client_metrics,\n",
    "        \"client_clusters\": all_client_clusters,\n",
    "        \"federated_metrics\": all_federated_metrics,\n",
    "        \"federated_clusters\": all_federated_clusters,\n",
    "        \"samples_per_class_per_client\": samples_per_class_per_client\n",
    "    })\n",
    "    \n",
    "# Displaying the result of the first experiment for brevity\n",
    "experiment_results[0]  # Replace with desired processing or analysis of experiment results\n",
    "\n"
   ]
  },
  {
   "cell_type": "code",
   "execution_count": 4,
   "metadata": {},
   "outputs": [
    {
     "name": "stdout",
     "output_type": "stream",
     "text": [
      "Aggregated Metrics for Client 1:\n",
      "accuracy: 0.53 ± 0.09\n",
      "precision: 0.44 ± 0.12\n",
      "recall: 0.53 ± 0.09\n",
      "f1_score: 0.43 ± 0.09\n",
      "Client 1:\n",
      "  Class 0: 0.00 samples\n",
      "  Class 1: 10.38 samples\n",
      "  Class 2: 9.92 samples\n",
      "Client 2:\n",
      "  Class 0: 20.00 samples\n",
      "  Class 1: 0.00 samples\n",
      "  Class 2: 10.22 samples\n",
      "Client 3:\n",
      "  Class 0: 10.30 samples\n",
      "  Class 1: 19.08 samples\n",
      "  Class 2: 10.10 samples\n",
      "Client 4:\n",
      "  Class 0: 9.70 samples\n",
      "  Class 1: 10.54 samples\n",
      "  Class 2: 9.76 samples\n"
     ]
    }
   ],
   "source": [
    "import numpy as np\n",
    "\n",
    "# Initialize variables to store aggregated data\n",
    "agg_client_metrics = [{} for _ in range(num_clients)]\n",
    "agg_federated_metrics = {}\n",
    "agg_client_clusters = [[] for _ in range(num_clients)]\n",
    "agg_federated_clusters = []\n",
    "\n",
    "# Process each experiment\n",
    "for result in experiment_results:\n",
    "    for client_idx, client_metrics in enumerate(result['client_metrics']):\n",
    "        for metric in client_metrics[0].keys():\n",
    "            if metric not in agg_client_metrics[client_idx]:\n",
    "                agg_client_metrics[client_idx][metric] = []\n",
    "            agg_client_metrics[client_idx][metric].extend([m[metric] for m in client_metrics])\n",
    "\n",
    "    for metric in result['federated_metrics'][0].keys():\n",
    "        if metric not in agg_federated_metrics:\n",
    "            agg_federated_metrics[metric] = []\n",
    "        agg_federated_metrics[metric].extend([m[metric] for m in result['federated_metrics']])\n",
    "\n",
    "    for client_idx, client_clusters in enumerate(result['client_clusters']):\n",
    "        agg_client_clusters[client_idx].extend(client_clusters)\n",
    "\n",
    "    agg_federated_clusters.extend(result['federated_clusters'])\n",
    "\n",
    "# Calculate averages and standard deviations\n",
    "for client_metrics in agg_client_metrics:\n",
    "    for metric, values in client_metrics.items():\n",
    "        mean = np.mean(values)\n",
    "        std = np.std(values, ddof=1)\n",
    "        client_metrics[metric] = (mean, std)\n",
    "\n",
    "for metric, values in agg_federated_metrics.items():\n",
    "    mean = np.mean(values)\n",
    "    std = np.std(values, ddof=1)\n",
    "    agg_federated_metrics[metric] = (mean, std)\n",
    "\n",
    "# Example of printing aggregated metrics for the first client\n",
    "print(\"Aggregated Metrics for Client 1:\")\n",
    "for metric, (mean, std) in agg_client_metrics[0].items():\n",
    "    print(f\"{metric}: {mean:.2f} ± {std:.2f}\")\n",
    "\n",
    "agg_samples = np.zeros((num_clients, num_classes, num_splits))\n",
    "\n",
    "# Aggregate data from each experiment\n",
    "for result in experiment_results:\n",
    "    samples_per_class_per_client = result['samples_per_class_per_client']\n",
    "    agg_samples += samples_per_class_per_client\n",
    "\n",
    "# Compute the average across all repetitions (and folds if required)\n",
    "avg_samples = agg_samples / len(experiment_results)\n",
    "\n",
    "# Calculate the average for each client and class across folds\n",
    "avg_samples_per_class_per_client = avg_samples.mean(axis=2)\n",
    "\n",
    "# Print the results\n",
    "for client_idx in range(num_clients):\n",
    "    print(f\"Client {client_idx + 1}:\")\n",
    "    for class_idx in range(num_classes):\n",
    "        avg_samples = avg_samples_per_class_per_client[client_idx, class_idx]\n",
    "        print(f\"  Class {class_idx}: {avg_samples:.2f} samples\")"
   ]
  },
  {
   "cell_type": "code",
   "execution_count": 5,
   "metadata": {},
   "outputs": [
    {
     "name": "stdout",
     "output_type": "stream",
     "text": [
      "\\begin{table}[ht]\n",
      "\\centering\n",
      "\\setlength{\\tabcolsep}{2pt}\n",
      "\\scriptsize\n",
      "\\caption{Performance metrics and average number of clusters on the Iris dataset.}\n",
      "\\label{tab:performance_clusters}\n",
      "\\begin{tabular}{lcccccc}\n",
      "\\toprule\n",
      "\\textbf{Metric} & \\textbf{Client 1} & \\textbf{Client 2} & \\textbf{Client 3} & \\textbf{Client 4} & \\textbf{Federated} \\\\\n",
      "Average Samples & & 0.0/10.4/9.9 & 20.0/0.0/10.2 & 10.3/19.1/10.1 & 9.7/10.5/9.8 \\\\\n",
      "\\midrule\n",
      "Accuracy (\\%) $\\uparrow$ & 52.7 ± 9.1 & 66.6 ± 7.1 & 77.2 ± 11.7 & 78.5 ± 10.7 & \\bf{85.7 ± 8.9} \\\\\n",
      "Precision (\\%) $\\uparrow$ & 44.4 ± 12.4 & 49.9 ± 8.5 & 81.2 ± 14.7 & 81.2 ± 12.7 & \\bf{88.7 ± 8.9} \\\\\n",
      "Recall (\\%) $\\uparrow$ & 52.7 ± 9.1 & 66.6 ± 7.1 & 77.2 ± 11.7 & 78.5 ± 10.7 & \\bf{85.7 ± 8.9} \\\\\n",
      "F1 Score (\\%) $\\uparrow$ & 43.3 ± 9.2 & 55.6 ± 8.4 & 74.1 ± 14.3 & 76.5 ± 12.6 & \\bf{84.3 ± 10.9} \\\\\n",
      "\\#Clusters $\\downarrow$ & 4.7 ± 1.3 & 3.4 ± 1.1 & 4.4 ± 1.0 & 4.5 ± 0.9 & \\bf{11.3 ± 1.7} \\\\\n",
      "\\bottomrule\n",
      "\\end{tabular}\n",
      "\\end{table}\n",
      "\n"
     ]
    }
   ],
   "source": [
    "# Create a LaTeX table for the paper\n",
    "# Start the LaTeX table code\n",
    "latex_table = r\"\"\"\\begin{table}[ht]\n",
    "\\centering\n",
    "\\setlength{\\tabcolsep}{2pt}\n",
    "\\scriptsize\n",
    "\\caption{Performance metrics and average number of clusters on the Iris dataset.}\n",
    "\\label{tab:performance_clusters}\n",
    "\\begin{tabular}{lcccccc}\n",
    "\\toprule\n",
    "\\textbf{Metric} & \\textbf{Client 1} & \\textbf{Client 2} & \\textbf{Client 3} & \\textbf{Client 4} & \\textbf{Federated} \\\\\n",
    "\"\"\"\n",
    "\n",
    "# Add the header for average samples per class\n",
    "latex_table += r\"Average Samples &\"\n",
    "\n",
    "# Add the average samples per class for each client\n",
    "samples_row = \"\"\n",
    "for samples in avg_samples_per_class_per_client:\n",
    "    samples_row += \" & \" + \"/\".join([f\"{x:.1f}\" for x in samples])\n",
    "latex_table += samples_row + \" \\\\\\\\\" + \"\\n\"\n",
    "\n",
    "latex_table += r\"\\midrule\" + \"\\n\"\n",
    "\n",
    "\n",
    "# Add rows for each metric\n",
    "metrics = ['accuracy', 'precision', 'recall', 'f1_score']\n",
    "metric_names = ['Accuracy (\\%)', 'Precision (\\%)', 'Recall (\\%)', 'F1 Score (\\%)']\n",
    "for i, metric in enumerate(metrics):\n",
    "    row = metric_names[i] + r' $\\uparrow$'\n",
    "    for client_metrics in agg_client_metrics:\n",
    "        mean, std = client_metrics[metric]\n",
    "        row += f' & {mean * 100:.1f} ± {std * 100:.1f}'\n",
    "    mean, std = agg_federated_metrics[metric]\n",
    "    row += r' & \\bf' + f'{{{mean * 100:.1f} ± {std * 100:.1f}}}'\n",
    "    latex_table += row + r' \\\\' + '\\n'\n",
    "\n",
    "# Add row for clusters\n",
    "cluster_row = r'\\#Clusters $\\downarrow$'\n",
    "for client_clusters in agg_client_clusters:\n",
    "    avg_clusters = np.mean(client_clusters)\n",
    "    std_clusters = np.std(client_clusters, ddof=1)\n",
    "    cluster_row += f' & {avg_clusters:.1f} ± {std_clusters:.1f}'\n",
    "\n",
    "# Assuming agg_federated_clusters is a list of cluster counts for the federated model\n",
    "avg_fed_clusters = np.mean(agg_federated_clusters)\n",
    "std_fed_clusters = np.std(agg_federated_clusters, ddof=1)\n",
    "cluster_row += r' & \\bf' + f'{{{avg_fed_clusters:.1f} ± {std_fed_clusters:.1f}}}'\n",
    "\n",
    "latex_table += cluster_row + r' \\\\' + '\\n'\n",
    "\n",
    "# End the LaTeX table code\n",
    "latex_table += r\"\"\"\\bottomrule\n",
    "\\end{tabular}\n",
    "\\end{table}\n",
    "\"\"\"\n",
    "\n",
    "# Print the complete LaTeX table\n",
    "print(latex_table)\n"
   ]
  },
  {
   "cell_type": "code",
   "execution_count": 6,
   "metadata": {},
   "outputs": [
    {
     "name": "stdout",
     "output_type": "stream",
     "text": [
      "Client 1: {1: 9, 2: 8}\n",
      "Client 2: {0: 23, 2: 10}\n",
      "Client 3: {0: 9, 1: 21, 2: 10}\n",
      "Client 4: {0: 8, 1: 10, 2: 12}\n",
      "Test Set: {0: 10, 1: 10, 2: 10}\n",
      "\n",
      "Combined Number of Samples per Class:\n",
      "Class 0: 50 samples\n",
      "Class 1: 50 samples\n",
      "Class 2: 50 samples\n",
      "\n",
      "Total Number of Samples Across All Datasets: 150\n",
      "Figure saved as Images/iris_data_distribution.svg in svg format.\n"
     ]
    },
    {
     "data": {
      "image/png": "[encoded data removed]",
      "text/plain": [
       "<Figure size 500x300 with 1 Axes>"
      ]
     },
     "metadata": {},
     "output_type": "display_data"
    }
   ],
   "source": [
    "#Aditional plots of the data\n",
    "display_dataset_split(train_data, test_data)\n",
    "fig = plot_dataset_split(train_data, test_data)\n",
    "save_figure(fig, \"Images/iris_data_distribution.svg\",\"svg\")"
   ]
  },
  {
   "cell_type": "code",
   "execution_count": 7,
   "metadata": {},
   "outputs": [
    {
     "data": {
      "image/png": "[encoded data removed]",
      "text/plain": [
       "<Figure size 750x250 with 3 Axes>"
      ]
     },
     "metadata": {},
     "output_type": "display_data"
    },
    {
     "name": "stdout",
     "output_type": "stream",
     "text": [
      "Figure saved as Images/iris_local_model.svg in svg format.\n",
      "Figure saved as Images/iris_local_model.pdf in pdf format.\n"
     ]
    }
   ],
   "source": [
    "#Plot of the last local model\n",
    "fig = plot_first_feature_horizontal(train_data[client_idx], model=client_model, num_sigma=2, N_max=1, title=\"\",format='%d', legend = True, data_name = \"Class\")  \n",
    "save_figure(fig, \"Images/iris_local_model.svg\", \"svg\")\n",
    "save_figure(fig, \"Images/iris_local_model.pdf\",\"pdf\")"
   ]
  },
  {
   "cell_type": "code",
   "execution_count": 8,
   "metadata": {},
   "outputs": [
    {
     "data": {
      "image/png": "[encoded data removed]",
      "text/plain": [
       "<Figure size 750x250 with 3 Axes>"
      ]
     },
     "metadata": {},
     "output_type": "display_data"
    },
    {
     "name": "stdout",
     "output_type": "stream",
     "text": [
      "Number of clusters after merging = 11\n",
      "Figure saved as Images/iris_federated_merged.svg in svg format.\n",
      "Figure saved as Images/iris_federated_merged.pdf in pdf format.\n"
     ]
    }
   ],
   "source": [
    "#Plot of the last federated model\n",
    "fig = plot_first_feature_horizontal(test_data, model=federated_model, num_sigma=2, N_max=0, title=\"\", format='%d')   \n",
    "print(f\"Number of clusters after merging = {federated_model.c}\")\n",
    "save_figure(fig, \"Images/iris_federated_merged.svg\",\"svg\")\n",
    "save_figure(fig, \"Images/iris_federated_merged.pdf\",\"pdf\")"
   ]
  },
  {
   "cell_type": "code",
   "execution_count": 9,
   "metadata": {},
   "outputs": [
    {
     "data": {
      "image/png": "[encoded data removed]",
      "text/plain": [
       "<Figure size 400x300 with 2 Axes>"
      ]
     },
     "metadata": {},
     "output_type": "display_data"
    }
   ],
   "source": [
    "plot_confusion_matrix(pred_fed, test_data)"
   ]
  }
 ],
 "metadata": {
  "kernelspec": {
   "display_name": "Python 3",
   "language": "python",
   "name": "python3"
  },
  "language_info": {
   "codemirror_mode": {
    "name": "ipython",
    "version": 3
   },
   "file_extension": ".py",
   "mimetype": "text/x-python",
   "name": "python",
   "nbconvert_exporter": "python",
   "pygments_lexer": "ipython3",
   "version": "3.11.6"
  }
 },
 "nbformat": 4,
 "nbformat_minor": 2
}
