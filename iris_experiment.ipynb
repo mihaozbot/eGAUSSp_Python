{
 "cells": [
  {
   "cell_type": "code",
   "execution_count": 1,
   "metadata": {},
   "outputs": [],
   "source": [
    "import pandas as pd\n",
    "import numpy as np\n",
    "import torch\n",
    "import importlib\n",
    "from utils.utils_dataset import prepare_k_fold_non_iid_dataset, plot_dataset_split, display_dataset_split\n",
    "from sklearn import datasets\n",
    "from sklearn.model_selection import KFold\n",
    "from utils.utils_train import train_supervised, test_model\n",
    "from utils.utils_plots import plot_first_feature_horizontal, save_figure\n",
    "from utils.utils_metrics import calculate_metrics_statistics, calculate_cluster_stats, calculate_metrics, plot_confusion_matrix\n",
    "import copy"
   ]
  },
  {
   "cell_type": "code",
   "execution_count": 2,
   "metadata": {},
   "outputs": [
    {
     "name": "stdout",
     "output_type": "stream",
     "text": [
      "PyTorch Version: 2.1.2\n",
      "CUDA Version: 11.8\n",
      "CUDA is available. Using GPU.\n"
     ]
    }
   ],
   "source": [
    "from model.eGauss_plus import eGAUSSp\n",
    "\n",
    "print(\"PyTorch Version:\", torch.__version__)\n",
    "print(\"CUDA Version:\", torch.version.cuda)\n",
    "\n",
    "# Check if CUDA is available\n",
    "if torch.cuda.is_available():\n",
    "    device = torch.device(\"cuda\")\n",
    "    print(\"CUDA is available. Using GPU.\")\n",
    "else:\n",
    "    device = torch.device(\"cpu\")\n",
    "    print(\"CUDA not available. Using CPU.\")\n",
    "\n",
    "feature_dim = 4\n",
    "num_classes = 3\n",
    "\n",
    "# Model parameters\n",
    "local_model_params = {\n",
    "    \"feature_dim\": feature_dim,\n",
    "    \"num_classes\": num_classes,\n",
    "    \"kappa_n\": 1,\n",
    "    \"num_sigma\": 3,\n",
    "    \"kappa_join\": 1.5,\n",
    "    \"S_0\": 1e-8,\n",
    "    \"N_r\": 4,\n",
    "    \"c_max\": 1000,\n",
    "    \"device\": device\n",
    "}\n",
    "federated_model_params = {\n",
    "    \"feature_dim\": feature_dim,\n",
    "    \"num_classes\": num_classes,\n",
    "    \"kappa_n\": 1,\n",
    "    \"num_sigma\": 10,\n",
    "    \"kappa_join\": 10,\n",
    "    \"S_0\": 1e-8,\n",
    "    \"N_r\": 4,\n",
    "    \"c_max\": 1000,\n",
    "    \"device\": device\n",
    "}"
   ]
  },
  {
   "cell_type": "code",
   "execution_count": 3,
   "metadata": {},
   "outputs": [
    {
     "name": "stdout",
     "output_type": "stream",
     "text": [
      "Evolving has been enabled.\n",
      "Evolving has been disabled.\n",
      "Evolving has been enabled.\n"
     ]
    },
    {
     "name": "stderr",
     "output_type": "stream",
     "text": [
      "c:\\Users\\Miha\\anaconda3\\envs\\pytorch_env\\Lib\\site-packages\\sklearn\\metrics\\_classification.py:1471: UndefinedMetricWarning: Precision is ill-defined and being set to 0.0 in labels with no predicted samples. Use `zero_division` parameter to control this behavior.\n",
      "  _warn_prf(average, modifier, msg_start, len(result))\n"
     ]
    },
    {
     "name": "stdout",
     "output_type": "stream",
     "text": [
      "Evolving has been disabled.\n",
      "Evolving has been enabled.\n"
     ]
    },
    {
     "name": "stderr",
     "output_type": "stream",
     "text": [
      "c:\\Users\\Miha\\anaconda3\\envs\\pytorch_env\\Lib\\site-packages\\sklearn\\metrics\\_classification.py:1471: UndefinedMetricWarning: Precision is ill-defined and being set to 0.0 in labels with no predicted samples. Use `zero_division` parameter to control this behavior.\n",
      "  _warn_prf(average, modifier, msg_start, len(result))\n"
     ]
    },
    {
     "name": "stdout",
     "output_type": "stream",
     "text": [
      "Evolving has been disabled.\n",
      "Evolving has been enabled.\n",
      "Evolving has been disabled.\n",
      "Updated var_glo values: tensor(0.3544, device='cuda:0')\n",
      "Updated var_glo values: tensor(0.8305, device='cuda:0')\n",
      "Updated var_glo values: tensor(0.7220, device='cuda:0')\n",
      "Updated var_glo values: tensor(0.7102, device='cuda:0')\n",
      "Evolving has been disabled.\n",
      "Evolving has been enabled.\n",
      "Evolving has been disabled.\n",
      "Evolving has been enabled.\n"
     ]
    },
    {
     "name": "stderr",
     "output_type": "stream",
     "text": [
      "c:\\Users\\Miha\\anaconda3\\envs\\pytorch_env\\Lib\\site-packages\\sklearn\\metrics\\_classification.py:1471: UndefinedMetricWarning: Precision is ill-defined and being set to 0.0 in labels with no predicted samples. Use `zero_division` parameter to control this behavior.\n",
      "  _warn_prf(average, modifier, msg_start, len(result))\n"
     ]
    },
    {
     "name": "stdout",
     "output_type": "stream",
     "text": [
      "Evolving has been disabled.\n",
      "Evolving has been enabled.\n"
     ]
    },
    {
     "name": "stderr",
     "output_type": "stream",
     "text": [
      "c:\\Users\\Miha\\anaconda3\\envs\\pytorch_env\\Lib\\site-packages\\sklearn\\metrics\\_classification.py:1471: UndefinedMetricWarning: Precision is ill-defined and being set to 0.0 in labels with no predicted samples. Use `zero_division` parameter to control this behavior.\n",
      "  _warn_prf(average, modifier, msg_start, len(result))\n"
     ]
    },
    {
     "name": "stdout",
     "output_type": "stream",
     "text": [
      "Evolving has been disabled.\n",
      "Evolving has been enabled.\n",
      "Evolving has been disabled.\n",
      "Updated var_glo values: tensor(0.4935, device='cuda:0')\n",
      "Updated var_glo values: tensor(0.7284, device='cuda:0')\n",
      "Updated var_glo values: tensor(0.6073, device='cuda:0')\n",
      "Updated var_glo values: tensor(0.6706, device='cuda:0')\n"
     ]
    },
    {
     "name": "stderr",
     "output_type": "stream",
     "text": [
      "c:\\Users\\Miha\\anaconda3\\envs\\pytorch_env\\Lib\\site-packages\\sklearn\\metrics\\_classification.py:1471: UndefinedMetricWarning: Precision is ill-defined and being set to 0.0 in labels with no predicted samples. Use `zero_division` parameter to control this behavior.\n",
      "  _warn_prf(average, modifier, msg_start, len(result))\n"
     ]
    },
    {
     "name": "stdout",
     "output_type": "stream",
     "text": [
      "Evolving has been disabled.\n",
      "Evolving has been enabled.\n",
      "Evolving has been disabled.\n",
      "Evolving has been enabled.\n"
     ]
    },
    {
     "name": "stderr",
     "output_type": "stream",
     "text": [
      "c:\\Users\\Miha\\anaconda3\\envs\\pytorch_env\\Lib\\site-packages\\sklearn\\metrics\\_classification.py:1471: UndefinedMetricWarning: Precision is ill-defined and being set to 0.0 in labels with no predicted samples. Use `zero_division` parameter to control this behavior.\n",
      "  _warn_prf(average, modifier, msg_start, len(result))\n"
     ]
    },
    {
     "name": "stdout",
     "output_type": "stream",
     "text": [
      "Evolving has been disabled.\n",
      "Evolving has been enabled.\n"
     ]
    },
    {
     "name": "stderr",
     "output_type": "stream",
     "text": [
      "c:\\Users\\Miha\\anaconda3\\envs\\pytorch_env\\Lib\\site-packages\\sklearn\\metrics\\_classification.py:1471: UndefinedMetricWarning: Precision is ill-defined and being set to 0.0 in labels with no predicted samples. Use `zero_division` parameter to control this behavior.\n",
      "  _warn_prf(average, modifier, msg_start, len(result))\n"
     ]
    },
    {
     "name": "stdout",
     "output_type": "stream",
     "text": [
      "Evolving has been disabled.\n",
      "Evolving has been enabled.\n",
      "Evolving has been disabled.\n",
      "Updated var_glo values: tensor(0.4525, device='cuda:0')\n",
      "Updated var_glo values: tensor(0.6927, device='cuda:0')\n",
      "Updated var_glo values: tensor(0.5875, device='cuda:0')\n",
      "Updated var_glo values: tensor(0.6473, device='cuda:0')\n",
      "Evolving has been disabled.\n",
      "Evolving has been enabled.\n",
      "Evolving has been disabled.\n",
      "Evolving has been enabled.\n"
     ]
    },
    {
     "name": "stderr",
     "output_type": "stream",
     "text": [
      "c:\\Users\\Miha\\anaconda3\\envs\\pytorch_env\\Lib\\site-packages\\sklearn\\metrics\\_classification.py:1471: UndefinedMetricWarning: Precision is ill-defined and being set to 0.0 in labels with no predicted samples. Use `zero_division` parameter to control this behavior.\n",
      "  _warn_prf(average, modifier, msg_start, len(result))\n"
     ]
    },
    {
     "name": "stdout",
     "output_type": "stream",
     "text": [
      "Evolving has been disabled.\n",
      "Evolving has been enabled.\n"
     ]
    },
    {
     "name": "stderr",
     "output_type": "stream",
     "text": [
      "c:\\Users\\Miha\\anaconda3\\envs\\pytorch_env\\Lib\\site-packages\\sklearn\\metrics\\_classification.py:1471: UndefinedMetricWarning: Precision is ill-defined and being set to 0.0 in labels with no predicted samples. Use `zero_division` parameter to control this behavior.\n",
      "  _warn_prf(average, modifier, msg_start, len(result))\n"
     ]
    },
    {
     "name": "stdout",
     "output_type": "stream",
     "text": [
      "Evolving has been disabled.\n",
      "Evolving has been enabled.\n",
      "Evolving has been disabled.\n",
      "Updated var_glo values: tensor(0.4804, device='cuda:0')\n",
      "Updated var_glo values: tensor(0.7728, device='cuda:0')\n",
      "Updated var_glo values: tensor(0.7049, device='cuda:0')\n",
      "Updated var_glo values: tensor(0.6862, device='cuda:0')\n",
      "Evolving has been disabled.\n",
      "Evolving has been enabled.\n",
      "Evolving has been disabled.\n",
      "Evolving has been enabled.\n"
     ]
    },
    {
     "name": "stderr",
     "output_type": "stream",
     "text": [
      "c:\\Users\\Miha\\anaconda3\\envs\\pytorch_env\\Lib\\site-packages\\sklearn\\metrics\\_classification.py:1471: UndefinedMetricWarning: Precision is ill-defined and being set to 0.0 in labels with no predicted samples. Use `zero_division` parameter to control this behavior.\n",
      "  _warn_prf(average, modifier, msg_start, len(result))\n"
     ]
    },
    {
     "name": "stdout",
     "output_type": "stream",
     "text": [
      "Evolving has been disabled.\n",
      "Evolving has been enabled.\n"
     ]
    },
    {
     "name": "stderr",
     "output_type": "stream",
     "text": [
      "c:\\Users\\Miha\\anaconda3\\envs\\pytorch_env\\Lib\\site-packages\\sklearn\\metrics\\_classification.py:1471: UndefinedMetricWarning: Precision is ill-defined and being set to 0.0 in labels with no predicted samples. Use `zero_division` parameter to control this behavior.\n",
      "  _warn_prf(average, modifier, msg_start, len(result))\n"
     ]
    },
    {
     "name": "stdout",
     "output_type": "stream",
     "text": [
      "Evolving has been disabled.\n",
      "Evolving has been enabled.\n",
      "Evolving has been disabled.\n",
      "Updated var_glo values: tensor(0.3351, device='cuda:0')\n",
      "Updated var_glo values: tensor(0.8228, device='cuda:0')\n",
      "Updated var_glo values: tensor(0.6994, device='cuda:0')\n",
      "Updated var_glo values: tensor(0.6889, device='cuda:0')\n",
      "Evolving has been disabled.\n",
      "Evolving has been enabled.\n",
      "Evolving has been disabled.\n",
      "Evolving has been enabled.\n",
      "Evolving has been disabled.\n"
     ]
    },
    {
     "name": "stderr",
     "output_type": "stream",
     "text": [
      "c:\\Users\\Miha\\anaconda3\\envs\\pytorch_env\\Lib\\site-packages\\sklearn\\metrics\\_classification.py:1471: UndefinedMetricWarning: Precision is ill-defined and being set to 0.0 in labels with no predicted samples. Use `zero_division` parameter to control this behavior.\n",
      "  _warn_prf(average, modifier, msg_start, len(result))\n",
      "c:\\Users\\Miha\\anaconda3\\envs\\pytorch_env\\Lib\\site-packages\\sklearn\\metrics\\_classification.py:1471: UndefinedMetricWarning: Precision is ill-defined and being set to 0.0 in labels with no predicted samples. Use `zero_division` parameter to control this behavior.\n",
      "  _warn_prf(average, modifier, msg_start, len(result))\n"
     ]
    },
    {
     "name": "stdout",
     "output_type": "stream",
     "text": [
      "Evolving has been enabled.\n",
      "Evolving has been disabled.\n",
      "Evolving has been enabled.\n",
      "Evolving has been disabled.\n",
      "Updated var_glo values: tensor(0.4075, device='cuda:0')\n",
      "Updated var_glo values: tensor(0.7522, device='cuda:0')\n",
      "Updated var_glo values: tensor(0.6924, device='cuda:0')\n",
      "Updated var_glo values: tensor(0.7165, device='cuda:0')\n",
      "Evolving has been disabled.\n",
      "Evolving has been enabled.\n",
      "Evolving has been disabled.\n"
     ]
    },
    {
     "name": "stderr",
     "output_type": "stream",
     "text": [
      "c:\\Users\\Miha\\anaconda3\\envs\\pytorch_env\\Lib\\site-packages\\sklearn\\metrics\\_classification.py:1471: UndefinedMetricWarning: Precision is ill-defined and being set to 0.0 in labels with no predicted samples. Use `zero_division` parameter to control this behavior.\n",
      "  _warn_prf(average, modifier, msg_start, len(result))\n"
     ]
    },
    {
     "name": "stdout",
     "output_type": "stream",
     "text": [
      "Evolving has been enabled.\n",
      "Evolving has been disabled.\n",
      "Evolving has been enabled.\n"
     ]
    },
    {
     "name": "stderr",
     "output_type": "stream",
     "text": [
      "c:\\Users\\Miha\\anaconda3\\envs\\pytorch_env\\Lib\\site-packages\\sklearn\\metrics\\_classification.py:1471: UndefinedMetricWarning: Precision is ill-defined and being set to 0.0 in labels with no predicted samples. Use `zero_division` parameter to control this behavior.\n",
      "  _warn_prf(average, modifier, msg_start, len(result))\n"
     ]
    },
    {
     "name": "stdout",
     "output_type": "stream",
     "text": [
      "Evolving has been disabled.\n",
      "Evolving has been enabled.\n",
      "Evolving has been disabled.\n",
      "Updated var_glo values: tensor(0.2644, device='cuda:0')\n",
      "Updated var_glo values: tensor(0.5172, device='cuda:0')\n",
      "Updated var_glo values: tensor(0.5982, device='cuda:0')\n",
      "Updated var_glo values: tensor(0.6253, device='cuda:0')\n",
      "Evolving has been disabled.\n",
      "Evolving has been enabled.\n",
      "Evolving has been disabled.\n"
     ]
    },
    {
     "name": "stderr",
     "output_type": "stream",
     "text": [
      "c:\\Users\\Miha\\anaconda3\\envs\\pytorch_env\\Lib\\site-packages\\sklearn\\metrics\\_classification.py:1471: UndefinedMetricWarning: Precision is ill-defined and being set to 0.0 in labels with no predicted samples. Use `zero_division` parameter to control this behavior.\n",
      "  _warn_prf(average, modifier, msg_start, len(result))\n"
     ]
    },
    {
     "name": "stdout",
     "output_type": "stream",
     "text": [
      "Evolving has been enabled.\n",
      "Evolving has been disabled.\n",
      "Evolving has been enabled.\n"
     ]
    },
    {
     "name": "stderr",
     "output_type": "stream",
     "text": [
      "c:\\Users\\Miha\\anaconda3\\envs\\pytorch_env\\Lib\\site-packages\\sklearn\\metrics\\_classification.py:1471: UndefinedMetricWarning: Precision is ill-defined and being set to 0.0 in labels with no predicted samples. Use `zero_division` parameter to control this behavior.\n",
      "  _warn_prf(average, modifier, msg_start, len(result))\n"
     ]
    },
    {
     "name": "stdout",
     "output_type": "stream",
     "text": [
      "Evolving has been disabled.\n",
      "Evolving has been enabled.\n",
      "Evolving has been disabled.\n",
      "Updated var_glo values: tensor(0.5996, device='cuda:0')\n",
      "Updated var_glo values: tensor(0.7840, device='cuda:0')\n",
      "Updated var_glo values: tensor(0.6536, device='cuda:0')\n",
      "Updated var_glo values: tensor(0.6626, device='cuda:0')\n",
      "Evolving has been disabled.\n",
      "Evolving has been enabled.\n",
      "Evolving has been disabled.\n",
      "Evolving has been enabled.\n"
     ]
    },
    {
     "name": "stderr",
     "output_type": "stream",
     "text": [
      "c:\\Users\\Miha\\anaconda3\\envs\\pytorch_env\\Lib\\site-packages\\sklearn\\metrics\\_classification.py:1471: UndefinedMetricWarning: Precision is ill-defined and being set to 0.0 in labels with no predicted samples. Use `zero_division` parameter to control this behavior.\n",
      "  _warn_prf(average, modifier, msg_start, len(result))\n"
     ]
    },
    {
     "name": "stdout",
     "output_type": "stream",
     "text": [
      "Evolving has been disabled.\n",
      "Evolving has been enabled.\n"
     ]
    },
    {
     "name": "stderr",
     "output_type": "stream",
     "text": [
      "c:\\Users\\Miha\\anaconda3\\envs\\pytorch_env\\Lib\\site-packages\\sklearn\\metrics\\_classification.py:1471: UndefinedMetricWarning: Precision is ill-defined and being set to 0.0 in labels with no predicted samples. Use `zero_division` parameter to control this behavior.\n",
      "  _warn_prf(average, modifier, msg_start, len(result))\n"
     ]
    },
    {
     "name": "stdout",
     "output_type": "stream",
     "text": [
      "Evolving has been disabled.\n",
      "Evolving has been enabled.\n",
      "Evolving has been disabled.\n",
      "Updated var_glo values: tensor(0.4234, device='cuda:0')\n",
      "Updated var_glo values: tensor(0.6716, device='cuda:0')\n",
      "Updated var_glo values: tensor(0.7208, device='cuda:0')\n",
      "Updated var_glo values: tensor(0.7180, device='cuda:0')\n",
      "Evolving has been disabled.\n",
      "Evolving has been enabled.\n",
      "Evolving has been disabled.\n",
      "Evolving has been enabled.\n"
     ]
    },
    {
     "name": "stderr",
     "output_type": "stream",
     "text": [
      "c:\\Users\\Miha\\anaconda3\\envs\\pytorch_env\\Lib\\site-packages\\sklearn\\metrics\\_classification.py:1471: UndefinedMetricWarning: Precision is ill-defined and being set to 0.0 in labels with no predicted samples. Use `zero_division` parameter to control this behavior.\n",
      "  _warn_prf(average, modifier, msg_start, len(result))\n"
     ]
    },
    {
     "name": "stdout",
     "output_type": "stream",
     "text": [
      "Evolving has been disabled.\n",
      "Evolving has been enabled.\n"
     ]
    },
    {
     "name": "stderr",
     "output_type": "stream",
     "text": [
      "c:\\Users\\Miha\\anaconda3\\envs\\pytorch_env\\Lib\\site-packages\\sklearn\\metrics\\_classification.py:1471: UndefinedMetricWarning: Precision is ill-defined and being set to 0.0 in labels with no predicted samples. Use `zero_division` parameter to control this behavior.\n",
      "  _warn_prf(average, modifier, msg_start, len(result))\n"
     ]
    },
    {
     "name": "stdout",
     "output_type": "stream",
     "text": [
      "Evolving has been disabled.\n",
      "Evolving has been enabled.\n",
      "Evolving has been disabled.\n",
      "Updated var_glo values: tensor(0.3098, device='cuda:0')\n",
      "Updated var_glo values: tensor(0.6423, device='cuda:0')\n",
      "Updated var_glo values: tensor(0.6286, device='cuda:0')\n",
      "Updated var_glo values: tensor(0.6760, device='cuda:0')\n",
      "Evolving has been disabled.\n",
      "Evolving has been enabled.\n",
      "Evolving has been disabled.\n",
      "Evolving has been enabled.\n"
     ]
    },
    {
     "name": "stderr",
     "output_type": "stream",
     "text": [
      "c:\\Users\\Miha\\anaconda3\\envs\\pytorch_env\\Lib\\site-packages\\sklearn\\metrics\\_classification.py:1471: UndefinedMetricWarning: Precision is ill-defined and being set to 0.0 in labels with no predicted samples. Use `zero_division` parameter to control this behavior.\n",
      "  _warn_prf(average, modifier, msg_start, len(result))\n"
     ]
    },
    {
     "name": "stdout",
     "output_type": "stream",
     "text": [
      "Evolving has been disabled.\n",
      "Evolving has been enabled.\n"
     ]
    },
    {
     "name": "stderr",
     "output_type": "stream",
     "text": [
      "c:\\Users\\Miha\\anaconda3\\envs\\pytorch_env\\Lib\\site-packages\\sklearn\\metrics\\_classification.py:1471: UndefinedMetricWarning: Precision is ill-defined and being set to 0.0 in labels with no predicted samples. Use `zero_division` parameter to control this behavior.\n",
      "  _warn_prf(average, modifier, msg_start, len(result))\n"
     ]
    },
    {
     "name": "stdout",
     "output_type": "stream",
     "text": [
      "Evolving has been disabled.\n",
      "Evolving has been enabled.\n",
      "Evolving has been disabled.\n",
      "Updated var_glo values: tensor(0.4440, device='cuda:0')\n",
      "Updated var_glo values: tensor(0.7700, device='cuda:0')\n",
      "Updated var_glo values: tensor(0.7107, device='cuda:0')\n",
      "Updated var_glo values: tensor(0.6803, device='cuda:0')\n",
      "Evolving has been disabled.\n",
      "Evolving has been enabled.\n",
      "Evolving has been disabled.\n",
      "Evolving has been enabled.\n"
     ]
    },
    {
     "name": "stderr",
     "output_type": "stream",
     "text": [
      "c:\\Users\\Miha\\anaconda3\\envs\\pytorch_env\\Lib\\site-packages\\sklearn\\metrics\\_classification.py:1471: UndefinedMetricWarning: Precision is ill-defined and being set to 0.0 in labels with no predicted samples. Use `zero_division` parameter to control this behavior.\n",
      "  _warn_prf(average, modifier, msg_start, len(result))\n"
     ]
    },
    {
     "name": "stdout",
     "output_type": "stream",
     "text": [
      "Evolving has been disabled.\n",
      "Evolving has been enabled.\n"
     ]
    },
    {
     "name": "stderr",
     "output_type": "stream",
     "text": [
      "c:\\Users\\Miha\\anaconda3\\envs\\pytorch_env\\Lib\\site-packages\\sklearn\\metrics\\_classification.py:1471: UndefinedMetricWarning: Precision is ill-defined and being set to 0.0 in labels with no predicted samples. Use `zero_division` parameter to control this behavior.\n",
      "  _warn_prf(average, modifier, msg_start, len(result))\n"
     ]
    },
    {
     "name": "stdout",
     "output_type": "stream",
     "text": [
      "Evolving has been disabled.\n",
      "Evolving has been enabled.\n",
      "Evolving has been disabled.\n",
      "Updated var_glo values: tensor(0.4163, device='cuda:0')\n",
      "Updated var_glo values: tensor(0.8010, device='cuda:0')\n",
      "Updated var_glo values: tensor(0.7058, device='cuda:0')\n",
      "Updated var_glo values: tensor(0.6713, device='cuda:0')\n",
      "Evolving has been disabled.\n",
      "Evolving has been enabled.\n",
      "Evolving has been disabled.\n"
     ]
    },
    {
     "name": "stderr",
     "output_type": "stream",
     "text": [
      "c:\\Users\\Miha\\anaconda3\\envs\\pytorch_env\\Lib\\site-packages\\sklearn\\metrics\\_classification.py:1471: UndefinedMetricWarning: Precision is ill-defined and being set to 0.0 in labels with no predicted samples. Use `zero_division` parameter to control this behavior.\n",
      "  _warn_prf(average, modifier, msg_start, len(result))\n"
     ]
    },
    {
     "name": "stdout",
     "output_type": "stream",
     "text": [
      "Evolving has been enabled.\n",
      "Evolving has been disabled.\n",
      "Evolving has been enabled.\n"
     ]
    },
    {
     "name": "stderr",
     "output_type": "stream",
     "text": [
      "c:\\Users\\Miha\\anaconda3\\envs\\pytorch_env\\Lib\\site-packages\\sklearn\\metrics\\_classification.py:1471: UndefinedMetricWarning: Precision is ill-defined and being set to 0.0 in labels with no predicted samples. Use `zero_division` parameter to control this behavior.\n",
      "  _warn_prf(average, modifier, msg_start, len(result))\n"
     ]
    },
    {
     "name": "stdout",
     "output_type": "stream",
     "text": [
      "Evolving has been disabled.\n",
      "Evolving has been enabled.\n",
      "Evolving has been disabled.\n",
      "Updated var_glo values: tensor(0.4771, device='cuda:0')\n",
      "Updated var_glo values: tensor(0.7498, device='cuda:0')\n",
      "Updated var_glo values: tensor(0.6658, device='cuda:0')\n",
      "Updated var_glo values: tensor(0.6519, device='cuda:0')\n",
      "Evolving has been disabled.\n",
      "Evolving has been enabled.\n",
      "Evolving has been disabled.\n"
     ]
    },
    {
     "name": "stderr",
     "output_type": "stream",
     "text": [
      "c:\\Users\\Miha\\anaconda3\\envs\\pytorch_env\\Lib\\site-packages\\sklearn\\metrics\\_classification.py:1471: UndefinedMetricWarning: Precision is ill-defined and being set to 0.0 in labels with no predicted samples. Use `zero_division` parameter to control this behavior.\n",
      "  _warn_prf(average, modifier, msg_start, len(result))\n"
     ]
    },
    {
     "name": "stdout",
     "output_type": "stream",
     "text": [
      "Evolving has been enabled.\n",
      "Evolving has been disabled.\n",
      "Evolving has been enabled.\n"
     ]
    },
    {
     "name": "stderr",
     "output_type": "stream",
     "text": [
      "c:\\Users\\Miha\\anaconda3\\envs\\pytorch_env\\Lib\\site-packages\\sklearn\\metrics\\_classification.py:1471: UndefinedMetricWarning: Precision is ill-defined and being set to 0.0 in labels with no predicted samples. Use `zero_division` parameter to control this behavior.\n",
      "  _warn_prf(average, modifier, msg_start, len(result))\n"
     ]
    },
    {
     "name": "stdout",
     "output_type": "stream",
     "text": [
      "Evolving has been disabled.\n",
      "Evolving has been enabled.\n",
      "Evolving has been disabled.\n",
      "Updated var_glo values: tensor(0.4058, device='cuda:0')\n",
      "Updated var_glo values: tensor(0.8137, device='cuda:0')\n",
      "Updated var_glo values: tensor(0.6546, device='cuda:0')\n",
      "Updated var_glo values: tensor(0.7338, device='cuda:0')\n",
      "Evolving has been disabled.\n",
      "Evolving has been enabled.\n",
      "Evolving has been disabled.\n",
      "Evolving has been enabled.\n"
     ]
    },
    {
     "name": "stderr",
     "output_type": "stream",
     "text": [
      "c:\\Users\\Miha\\anaconda3\\envs\\pytorch_env\\Lib\\site-packages\\sklearn\\metrics\\_classification.py:1471: UndefinedMetricWarning: Precision is ill-defined and being set to 0.0 in labels with no predicted samples. Use `zero_division` parameter to control this behavior.\n",
      "  _warn_prf(average, modifier, msg_start, len(result))\n"
     ]
    },
    {
     "name": "stdout",
     "output_type": "stream",
     "text": [
      "Evolving has been disabled.\n",
      "Evolving has been enabled.\n"
     ]
    },
    {
     "name": "stderr",
     "output_type": "stream",
     "text": [
      "c:\\Users\\Miha\\anaconda3\\envs\\pytorch_env\\Lib\\site-packages\\sklearn\\metrics\\_classification.py:1471: UndefinedMetricWarning: Precision is ill-defined and being set to 0.0 in labels with no predicted samples. Use `zero_division` parameter to control this behavior.\n",
      "  _warn_prf(average, modifier, msg_start, len(result))\n"
     ]
    },
    {
     "name": "stdout",
     "output_type": "stream",
     "text": [
      "Evolving has been disabled.\n",
      "Evolving has been enabled.\n",
      "Evolving has been disabled.\n",
      "Updated var_glo values: tensor(0.4865, device='cuda:0')\n",
      "Updated var_glo values: tensor(0.6276, device='cuda:0')\n",
      "Updated var_glo values: tensor(0.6725, device='cuda:0')\n",
      "Updated var_glo values: tensor(0.6620, device='cuda:0')\n",
      "Evolving has been disabled.\n",
      "Evolving has been enabled.\n",
      "Evolving has been disabled.\n",
      "Evolving has been enabled.\n"
     ]
    },
    {
     "name": "stderr",
     "output_type": "stream",
     "text": [
      "c:\\Users\\Miha\\anaconda3\\envs\\pytorch_env\\Lib\\site-packages\\sklearn\\metrics\\_classification.py:1471: UndefinedMetricWarning: Precision is ill-defined and being set to 0.0 in labels with no predicted samples. Use `zero_division` parameter to control this behavior.\n",
      "  _warn_prf(average, modifier, msg_start, len(result))\n"
     ]
    },
    {
     "name": "stdout",
     "output_type": "stream",
     "text": [
      "Evolving has been disabled.\n",
      "Evolving has been enabled.\n"
     ]
    },
    {
     "name": "stderr",
     "output_type": "stream",
     "text": [
      "c:\\Users\\Miha\\anaconda3\\envs\\pytorch_env\\Lib\\site-packages\\sklearn\\metrics\\_classification.py:1471: UndefinedMetricWarning: Precision is ill-defined and being set to 0.0 in labels with no predicted samples. Use `zero_division` parameter to control this behavior.\n",
      "  _warn_prf(average, modifier, msg_start, len(result))\n"
     ]
    },
    {
     "name": "stdout",
     "output_type": "stream",
     "text": [
      "Evolving has been disabled.\n",
      "Evolving has been enabled.\n",
      "Evolving has been disabled.\n",
      "Updated var_glo values: tensor(0.3843, device='cuda:0')\n",
      "Updated var_glo values: tensor(0.8867, device='cuda:0')\n",
      "Updated var_glo values: tensor(0.7594, device='cuda:0')\n",
      "Updated var_glo values: tensor(0.6956, device='cuda:0')\n",
      "Evolving has been disabled.\n",
      "Evolving has been enabled.\n",
      "Evolving has been disabled.\n",
      "Evolving has been enabled.\n"
     ]
    },
    {
     "name": "stderr",
     "output_type": "stream",
     "text": [
      "c:\\Users\\Miha\\anaconda3\\envs\\pytorch_env\\Lib\\site-packages\\sklearn\\metrics\\_classification.py:1471: UndefinedMetricWarning: Precision is ill-defined and being set to 0.0 in labels with no predicted samples. Use `zero_division` parameter to control this behavior.\n",
      "  _warn_prf(average, modifier, msg_start, len(result))\n"
     ]
    },
    {
     "name": "stdout",
     "output_type": "stream",
     "text": [
      "Evolving has been disabled.\n",
      "Evolving has been enabled.\n"
     ]
    },
    {
     "name": "stderr",
     "output_type": "stream",
     "text": [
      "c:\\Users\\Miha\\anaconda3\\envs\\pytorch_env\\Lib\\site-packages\\sklearn\\metrics\\_classification.py:1471: UndefinedMetricWarning: Precision is ill-defined and being set to 0.0 in labels with no predicted samples. Use `zero_division` parameter to control this behavior.\n",
      "  _warn_prf(average, modifier, msg_start, len(result))\n"
     ]
    },
    {
     "name": "stdout",
     "output_type": "stream",
     "text": [
      "Evolving has been disabled.\n",
      "Evolving has been enabled.\n",
      "Evolving has been disabled.\n",
      "Updated var_glo values: tensor(0.3383, device='cuda:0')\n",
      "Updated var_glo values: tensor(0.7981, device='cuda:0')\n",
      "Updated var_glo values: tensor(0.6932, device='cuda:0')\n",
      "Updated var_glo values: tensor(0.6222, device='cuda:0')\n",
      "Evolving has been disabled.\n",
      "Evolving has been enabled.\n",
      "Evolving has been disabled.\n",
      "Evolving has been enabled.\n"
     ]
    },
    {
     "name": "stderr",
     "output_type": "stream",
     "text": [
      "c:\\Users\\Miha\\anaconda3\\envs\\pytorch_env\\Lib\\site-packages\\sklearn\\metrics\\_classification.py:1471: UndefinedMetricWarning: Precision is ill-defined and being set to 0.0 in labels with no predicted samples. Use `zero_division` parameter to control this behavior.\n",
      "  _warn_prf(average, modifier, msg_start, len(result))\n"
     ]
    },
    {
     "name": "stdout",
     "output_type": "stream",
     "text": [
      "Evolving has been disabled.\n",
      "Evolving has been enabled.\n"
     ]
    },
    {
     "name": "stderr",
     "output_type": "stream",
     "text": [
      "c:\\Users\\Miha\\anaconda3\\envs\\pytorch_env\\Lib\\site-packages\\sklearn\\metrics\\_classification.py:1471: UndefinedMetricWarning: Precision is ill-defined and being set to 0.0 in labels with no predicted samples. Use `zero_division` parameter to control this behavior.\n",
      "  _warn_prf(average, modifier, msg_start, len(result))\n"
     ]
    },
    {
     "name": "stdout",
     "output_type": "stream",
     "text": [
      "Evolving has been disabled.\n",
      "Evolving has been enabled.\n",
      "Evolving has been disabled.\n",
      "Updated var_glo values: tensor(0.4866, device='cuda:0')\n",
      "Updated var_glo values: tensor(0.8260, device='cuda:0')\n",
      "Updated var_glo values: tensor(0.7221, device='cuda:0')\n",
      "Updated var_glo values: tensor(0.7033, device='cuda:0')\n",
      "Evolving has been disabled.\n",
      "Evolving has been enabled.\n",
      "Evolving has been disabled.\n",
      "Evolving has been enabled.\n"
     ]
    },
    {
     "name": "stderr",
     "output_type": "stream",
     "text": [
      "c:\\Users\\Miha\\anaconda3\\envs\\pytorch_env\\Lib\\site-packages\\sklearn\\metrics\\_classification.py:1471: UndefinedMetricWarning: Precision is ill-defined and being set to 0.0 in labels with no predicted samples. Use `zero_division` parameter to control this behavior.\n",
      "  _warn_prf(average, modifier, msg_start, len(result))\n"
     ]
    },
    {
     "name": "stdout",
     "output_type": "stream",
     "text": [
      "Evolving has been disabled.\n",
      "Evolving has been enabled.\n"
     ]
    },
    {
     "name": "stderr",
     "output_type": "stream",
     "text": [
      "c:\\Users\\Miha\\anaconda3\\envs\\pytorch_env\\Lib\\site-packages\\sklearn\\metrics\\_classification.py:1471: UndefinedMetricWarning: Precision is ill-defined and being set to 0.0 in labels with no predicted samples. Use `zero_division` parameter to control this behavior.\n",
      "  _warn_prf(average, modifier, msg_start, len(result))\n"
     ]
    },
    {
     "name": "stdout",
     "output_type": "stream",
     "text": [
      "Evolving has been disabled.\n",
      "Evolving has been enabled.\n",
      "Evolving has been disabled.\n",
      "Updated var_glo values: tensor(0.7142, device='cuda:0')\n",
      "Updated var_glo values: tensor(0.8428, device='cuda:0')\n",
      "Updated var_glo values: tensor(0.7302, device='cuda:0')\n",
      "Updated var_glo values: tensor(0.7026, device='cuda:0')\n",
      "Evolving has been disabled.\n",
      "Evolving has been enabled.\n",
      "Evolving has been disabled.\n",
      "Evolving has been enabled.\n"
     ]
    },
    {
     "name": "stderr",
     "output_type": "stream",
     "text": [
      "c:\\Users\\Miha\\anaconda3\\envs\\pytorch_env\\Lib\\site-packages\\sklearn\\metrics\\_classification.py:1471: UndefinedMetricWarning: Precision is ill-defined and being set to 0.0 in labels with no predicted samples. Use `zero_division` parameter to control this behavior.\n",
      "  _warn_prf(average, modifier, msg_start, len(result))\n"
     ]
    },
    {
     "name": "stdout",
     "output_type": "stream",
     "text": [
      "Evolving has been disabled.\n",
      "Evolving has been enabled.\n"
     ]
    },
    {
     "name": "stderr",
     "output_type": "stream",
     "text": [
      "c:\\Users\\Miha\\anaconda3\\envs\\pytorch_env\\Lib\\site-packages\\sklearn\\metrics\\_classification.py:1471: UndefinedMetricWarning: Precision is ill-defined and being set to 0.0 in labels with no predicted samples. Use `zero_division` parameter to control this behavior.\n",
      "  _warn_prf(average, modifier, msg_start, len(result))\n"
     ]
    },
    {
     "name": "stdout",
     "output_type": "stream",
     "text": [
      "Evolving has been disabled.\n",
      "Evolving has been enabled.\n",
      "Evolving has been disabled.\n",
      "Updated var_glo values: tensor(0.1977, device='cuda:0')\n",
      "Updated var_glo values: tensor(0.6868, device='cuda:0')\n",
      "Updated var_glo values: tensor(0.6231, device='cuda:0')\n",
      "Updated var_glo values: tensor(0.6713, device='cuda:0')\n",
      "Evolving has been disabled.\n",
      "Evolving has been enabled.\n",
      "Evolving has been disabled.\n",
      "Evolving has been enabled.\n"
     ]
    },
    {
     "name": "stderr",
     "output_type": "stream",
     "text": [
      "c:\\Users\\Miha\\anaconda3\\envs\\pytorch_env\\Lib\\site-packages\\sklearn\\metrics\\_classification.py:1471: UndefinedMetricWarning: Precision is ill-defined and being set to 0.0 in labels with no predicted samples. Use `zero_division` parameter to control this behavior.\n",
      "  _warn_prf(average, modifier, msg_start, len(result))\n"
     ]
    },
    {
     "name": "stdout",
     "output_type": "stream",
     "text": [
      "Evolving has been disabled.\n",
      "Evolving has been enabled.\n"
     ]
    },
    {
     "name": "stderr",
     "output_type": "stream",
     "text": [
      "c:\\Users\\Miha\\anaconda3\\envs\\pytorch_env\\Lib\\site-packages\\sklearn\\metrics\\_classification.py:1471: UndefinedMetricWarning: Precision is ill-defined and being set to 0.0 in labels with no predicted samples. Use `zero_division` parameter to control this behavior.\n",
      "  _warn_prf(average, modifier, msg_start, len(result))\n"
     ]
    },
    {
     "name": "stdout",
     "output_type": "stream",
     "text": [
      "Evolving has been disabled.\n",
      "Evolving has been enabled.\n",
      "Evolving has been disabled.\n",
      "Updated var_glo values: tensor(0.5895, device='cuda:0')\n",
      "Updated var_glo values: tensor(0.8513, device='cuda:0')\n",
      "Updated var_glo values: tensor(0.7963, device='cuda:0')\n",
      "Updated var_glo values: tensor(0.7270, device='cuda:0')\n",
      "Evolving has been disabled.\n",
      "Evolving has been enabled.\n",
      "Evolving has been disabled.\n",
      "Evolving has been enabled.\n"
     ]
    },
    {
     "name": "stderr",
     "output_type": "stream",
     "text": [
      "c:\\Users\\Miha\\anaconda3\\envs\\pytorch_env\\Lib\\site-packages\\sklearn\\metrics\\_classification.py:1471: UndefinedMetricWarning: Precision is ill-defined and being set to 0.0 in labels with no predicted samples. Use `zero_division` parameter to control this behavior.\n",
      "  _warn_prf(average, modifier, msg_start, len(result))\n"
     ]
    },
    {
     "name": "stdout",
     "output_type": "stream",
     "text": [
      "Evolving has been disabled.\n",
      "Evolving has been enabled.\n"
     ]
    },
    {
     "name": "stderr",
     "output_type": "stream",
     "text": [
      "c:\\Users\\Miha\\anaconda3\\envs\\pytorch_env\\Lib\\site-packages\\sklearn\\metrics\\_classification.py:1471: UndefinedMetricWarning: Precision is ill-defined and being set to 0.0 in labels with no predicted samples. Use `zero_division` parameter to control this behavior.\n",
      "  _warn_prf(average, modifier, msg_start, len(result))\n"
     ]
    },
    {
     "name": "stdout",
     "output_type": "stream",
     "text": [
      "Evolving has been disabled.\n",
      "Evolving has been enabled.\n",
      "Evolving has been disabled.\n",
      "Updated var_glo values: tensor(0.5665, device='cuda:0')\n",
      "Updated var_glo values: tensor(0.8811, device='cuda:0')\n",
      "Updated var_glo values: tensor(0.7253, device='cuda:0')\n",
      "Updated var_glo values: tensor(0.7200, device='cuda:0')\n",
      "Evolving has been disabled.\n",
      "Evolving has been enabled.\n",
      "Evolving has been disabled.\n"
     ]
    },
    {
     "name": "stderr",
     "output_type": "stream",
     "text": [
      "c:\\Users\\Miha\\anaconda3\\envs\\pytorch_env\\Lib\\site-packages\\sklearn\\metrics\\_classification.py:1471: UndefinedMetricWarning: Precision is ill-defined and being set to 0.0 in labels with no predicted samples. Use `zero_division` parameter to control this behavior.\n",
      "  _warn_prf(average, modifier, msg_start, len(result))\n",
      "c:\\Users\\Miha\\anaconda3\\envs\\pytorch_env\\Lib\\site-packages\\sklearn\\metrics\\_classification.py:1471: UndefinedMetricWarning: Precision is ill-defined and being set to 0.0 in labels with no predicted samples. Use `zero_division` parameter to control this behavior.\n",
      "  _warn_prf(average, modifier, msg_start, len(result))\n"
     ]
    },
    {
     "name": "stdout",
     "output_type": "stream",
     "text": [
      "Evolving has been enabled.\n",
      "Evolving has been disabled.\n",
      "Evolving has been enabled.\n",
      "Evolving has been disabled.\n",
      "Evolving has been enabled.\n",
      "Evolving has been disabled.\n",
      "Updated var_glo values: tensor(0.4433, device='cuda:0')\n",
      "Updated var_glo values: tensor(0.7396, device='cuda:0')\n",
      "Updated var_glo values: tensor(0.6293, device='cuda:0')\n",
      "Updated var_glo values: tensor(0.6274, device='cuda:0')\n",
      "Evolving has been disabled.\n",
      "Evolving has been enabled.\n",
      "Evolving has been disabled.\n"
     ]
    },
    {
     "name": "stderr",
     "output_type": "stream",
     "text": [
      "c:\\Users\\Miha\\anaconda3\\envs\\pytorch_env\\Lib\\site-packages\\sklearn\\metrics\\_classification.py:1471: UndefinedMetricWarning: Precision is ill-defined and being set to 0.0 in labels with no predicted samples. Use `zero_division` parameter to control this behavior.\n",
      "  _warn_prf(average, modifier, msg_start, len(result))\n",
      "c:\\Users\\Miha\\anaconda3\\envs\\pytorch_env\\Lib\\site-packages\\sklearn\\metrics\\_classification.py:1471: UndefinedMetricWarning: Precision is ill-defined and being set to 0.0 in labels with no predicted samples. Use `zero_division` parameter to control this behavior.\n",
      "  _warn_prf(average, modifier, msg_start, len(result))\n"
     ]
    },
    {
     "name": "stdout",
     "output_type": "stream",
     "text": [
      "Evolving has been enabled.\n",
      "Evolving has been disabled.\n",
      "Evolving has been enabled.\n",
      "Evolving has been disabled.\n",
      "Evolving has been enabled.\n",
      "Evolving has been disabled.\n",
      "Updated var_glo values: tensor(0.3793, device='cuda:0')\n",
      "Updated var_glo values: tensor(0.6135, device='cuda:0')\n",
      "Updated var_glo values: tensor(0.6282, device='cuda:0')\n",
      "Updated var_glo values: tensor(0.6697, device='cuda:0')\n",
      "Evolving has been disabled.\n",
      "Evolving has been enabled.\n",
      "Evolving has been disabled.\n",
      "Evolving has been enabled.\n"
     ]
    },
    {
     "name": "stderr",
     "output_type": "stream",
     "text": [
      "c:\\Users\\Miha\\anaconda3\\envs\\pytorch_env\\Lib\\site-packages\\sklearn\\metrics\\_classification.py:1471: UndefinedMetricWarning: Precision is ill-defined and being set to 0.0 in labels with no predicted samples. Use `zero_division` parameter to control this behavior.\n",
      "  _warn_prf(average, modifier, msg_start, len(result))\n"
     ]
    },
    {
     "name": "stdout",
     "output_type": "stream",
     "text": [
      "Evolving has been disabled.\n",
      "Evolving has been enabled.\n"
     ]
    },
    {
     "name": "stderr",
     "output_type": "stream",
     "text": [
      "c:\\Users\\Miha\\anaconda3\\envs\\pytorch_env\\Lib\\site-packages\\sklearn\\metrics\\_classification.py:1471: UndefinedMetricWarning: Precision is ill-defined and being set to 0.0 in labels with no predicted samples. Use `zero_division` parameter to control this behavior.\n",
      "  _warn_prf(average, modifier, msg_start, len(result))\n"
     ]
    },
    {
     "name": "stdout",
     "output_type": "stream",
     "text": [
      "Evolving has been disabled.\n",
      "Evolving has been enabled.\n",
      "Evolving has been disabled.\n",
      "Updated var_glo values: tensor(0.4395, device='cuda:0')\n",
      "Updated var_glo values: tensor(0.7557, device='cuda:0')\n",
      "Updated var_glo values: tensor(0.6744, device='cuda:0')\n",
      "Updated var_glo values: tensor(0.6595, device='cuda:0')\n",
      "Evolving has been disabled.\n",
      "Evolving has been enabled.\n",
      "Evolving has been disabled.\n"
     ]
    },
    {
     "name": "stderr",
     "output_type": "stream",
     "text": [
      "c:\\Users\\Miha\\anaconda3\\envs\\pytorch_env\\Lib\\site-packages\\sklearn\\metrics\\_classification.py:1471: UndefinedMetricWarning: Precision is ill-defined and being set to 0.0 in labels with no predicted samples. Use `zero_division` parameter to control this behavior.\n",
      "  _warn_prf(average, modifier, msg_start, len(result))\n"
     ]
    },
    {
     "name": "stdout",
     "output_type": "stream",
     "text": [
      "Evolving has been enabled.\n",
      "Evolving has been disabled.\n",
      "Evolving has been enabled.\n"
     ]
    },
    {
     "name": "stderr",
     "output_type": "stream",
     "text": [
      "c:\\Users\\Miha\\anaconda3\\envs\\pytorch_env\\Lib\\site-packages\\sklearn\\metrics\\_classification.py:1471: UndefinedMetricWarning: Precision is ill-defined and being set to 0.0 in labels with no predicted samples. Use `zero_division` parameter to control this behavior.\n",
      "  _warn_prf(average, modifier, msg_start, len(result))\n"
     ]
    },
    {
     "name": "stdout",
     "output_type": "stream",
     "text": [
      "Evolving has been disabled.\n",
      "Evolving has been enabled.\n",
      "Evolving has been disabled.\n",
      "Updated var_glo values: tensor(0.5517, device='cuda:0')\n",
      "Updated var_glo values: tensor(0.7507, device='cuda:0')\n",
      "Updated var_glo values: tensor(0.6156, device='cuda:0')\n",
      "Updated var_glo values: tensor(0.6883, device='cuda:0')\n",
      "Evolving has been disabled.\n",
      "Evolving has been enabled.\n",
      "Evolving has been disabled.\n",
      "Evolving has been enabled.\n"
     ]
    },
    {
     "name": "stderr",
     "output_type": "stream",
     "text": [
      "c:\\Users\\Miha\\anaconda3\\envs\\pytorch_env\\Lib\\site-packages\\sklearn\\metrics\\_classification.py:1471: UndefinedMetricWarning: Precision is ill-defined and being set to 0.0 in labels with no predicted samples. Use `zero_division` parameter to control this behavior.\n",
      "  _warn_prf(average, modifier, msg_start, len(result))\n"
     ]
    },
    {
     "name": "stdout",
     "output_type": "stream",
     "text": [
      "Evolving has been disabled.\n",
      "Evolving has been enabled.\n"
     ]
    },
    {
     "name": "stderr",
     "output_type": "stream",
     "text": [
      "c:\\Users\\Miha\\anaconda3\\envs\\pytorch_env\\Lib\\site-packages\\sklearn\\metrics\\_classification.py:1471: UndefinedMetricWarning: Precision is ill-defined and being set to 0.0 in labels with no predicted samples. Use `zero_division` parameter to control this behavior.\n",
      "  _warn_prf(average, modifier, msg_start, len(result))\n"
     ]
    },
    {
     "name": "stdout",
     "output_type": "stream",
     "text": [
      "Evolving has been disabled.\n",
      "Evolving has been enabled.\n",
      "Evolving has been disabled.\n",
      "Updated var_glo values: tensor(0.4511, device='cuda:0')\n",
      "Updated var_glo values: tensor(0.7357, device='cuda:0')\n",
      "Updated var_glo values: tensor(0.7144, device='cuda:0')\n",
      "Updated var_glo values: tensor(0.7290, device='cuda:0')\n",
      "Evolving has been disabled.\n",
      "Evolving has been enabled.\n",
      "Evolving has been disabled.\n"
     ]
    },
    {
     "name": "stderr",
     "output_type": "stream",
     "text": [
      "c:\\Users\\Miha\\anaconda3\\envs\\pytorch_env\\Lib\\site-packages\\sklearn\\metrics\\_classification.py:1471: UndefinedMetricWarning: Precision is ill-defined and being set to 0.0 in labels with no predicted samples. Use `zero_division` parameter to control this behavior.\n",
      "  _warn_prf(average, modifier, msg_start, len(result))\n"
     ]
    },
    {
     "name": "stdout",
     "output_type": "stream",
     "text": [
      "Evolving has been enabled.\n",
      "Evolving has been disabled.\n",
      "Evolving has been enabled.\n"
     ]
    },
    {
     "name": "stderr",
     "output_type": "stream",
     "text": [
      "c:\\Users\\Miha\\anaconda3\\envs\\pytorch_env\\Lib\\site-packages\\sklearn\\metrics\\_classification.py:1471: UndefinedMetricWarning: Precision is ill-defined and being set to 0.0 in labels with no predicted samples. Use `zero_division` parameter to control this behavior.\n",
      "  _warn_prf(average, modifier, msg_start, len(result))\n"
     ]
    },
    {
     "name": "stdout",
     "output_type": "stream",
     "text": [
      "Evolving has been disabled.\n",
      "Evolving has been enabled.\n",
      "Evolving has been disabled.\n",
      "Updated var_glo values: tensor(0.3626, device='cuda:0')\n",
      "Updated var_glo values: tensor(0.7871, device='cuda:0')\n",
      "Updated var_glo values: tensor(0.6296, device='cuda:0')\n",
      "Updated var_glo values: tensor(0.6810, device='cuda:0')\n",
      "Evolving has been disabled.\n",
      "Evolving has been enabled.\n",
      "Evolving has been disabled.\n",
      "Evolving has been enabled.\n"
     ]
    },
    {
     "name": "stderr",
     "output_type": "stream",
     "text": [
      "c:\\Users\\Miha\\anaconda3\\envs\\pytorch_env\\Lib\\site-packages\\sklearn\\metrics\\_classification.py:1471: UndefinedMetricWarning: Precision is ill-defined and being set to 0.0 in labels with no predicted samples. Use `zero_division` parameter to control this behavior.\n",
      "  _warn_prf(average, modifier, msg_start, len(result))\n"
     ]
    },
    {
     "name": "stdout",
     "output_type": "stream",
     "text": [
      "Evolving has been disabled.\n",
      "Evolving has been enabled.\n"
     ]
    },
    {
     "name": "stderr",
     "output_type": "stream",
     "text": [
      "c:\\Users\\Miha\\anaconda3\\envs\\pytorch_env\\Lib\\site-packages\\sklearn\\metrics\\_classification.py:1471: UndefinedMetricWarning: Precision is ill-defined and being set to 0.0 in labels with no predicted samples. Use `zero_division` parameter to control this behavior.\n",
      "  _warn_prf(average, modifier, msg_start, len(result))\n"
     ]
    },
    {
     "name": "stdout",
     "output_type": "stream",
     "text": [
      "Evolving has been disabled.\n",
      "Evolving has been enabled.\n",
      "Evolving has been disabled.\n",
      "Updated var_glo values: tensor(0.4511, device='cuda:0')\n",
      "Updated var_glo values: tensor(0.7475, device='cuda:0')\n",
      "Updated var_glo values: tensor(0.6208, device='cuda:0')\n",
      "Updated var_glo values: tensor(0.6732, device='cuda:0')\n",
      "Evolving has been disabled.\n",
      "Evolving has been enabled.\n",
      "Evolving has been disabled.\n",
      "Evolving has been enabled.\n"
     ]
    },
    {
     "name": "stderr",
     "output_type": "stream",
     "text": [
      "c:\\Users\\Miha\\anaconda3\\envs\\pytorch_env\\Lib\\site-packages\\sklearn\\metrics\\_classification.py:1471: UndefinedMetricWarning: Precision is ill-defined and being set to 0.0 in labels with no predicted samples. Use `zero_division` parameter to control this behavior.\n",
      "  _warn_prf(average, modifier, msg_start, len(result))\n"
     ]
    },
    {
     "name": "stdout",
     "output_type": "stream",
     "text": [
      "Evolving has been disabled.\n",
      "Evolving has been enabled.\n"
     ]
    },
    {
     "name": "stderr",
     "output_type": "stream",
     "text": [
      "c:\\Users\\Miha\\anaconda3\\envs\\pytorch_env\\Lib\\site-packages\\sklearn\\metrics\\_classification.py:1471: UndefinedMetricWarning: Precision is ill-defined and being set to 0.0 in labels with no predicted samples. Use `zero_division` parameter to control this behavior.\n",
      "  _warn_prf(average, modifier, msg_start, len(result))\n"
     ]
    },
    {
     "name": "stdout",
     "output_type": "stream",
     "text": [
      "Evolving has been disabled.\n",
      "Evolving has been enabled.\n",
      "Evolving has been disabled.\n",
      "Updated var_glo values: tensor(0.3291, device='cuda:0')\n",
      "Updated var_glo values: tensor(0.7248, device='cuda:0')\n",
      "Updated var_glo values: tensor(0.5997, device='cuda:0')\n",
      "Updated var_glo values: tensor(0.6315, device='cuda:0')\n",
      "Evolving has been disabled.\n",
      "Evolving has been enabled.\n",
      "Evolving has been disabled.\n"
     ]
    },
    {
     "name": "stderr",
     "output_type": "stream",
     "text": [
      "c:\\Users\\Miha\\anaconda3\\envs\\pytorch_env\\Lib\\site-packages\\sklearn\\metrics\\_classification.py:1471: UndefinedMetricWarning: Precision is ill-defined and being set to 0.0 in labels with no predicted samples. Use `zero_division` parameter to control this behavior.\n",
      "  _warn_prf(average, modifier, msg_start, len(result))\n",
      "c:\\Users\\Miha\\anaconda3\\envs\\pytorch_env\\Lib\\site-packages\\sklearn\\metrics\\_classification.py:1471: UndefinedMetricWarning: Precision is ill-defined and being set to 0.0 in labels with no predicted samples. Use `zero_division` parameter to control this behavior.\n",
      "  _warn_prf(average, modifier, msg_start, len(result))\n"
     ]
    },
    {
     "name": "stdout",
     "output_type": "stream",
     "text": [
      "Evolving has been enabled.\n",
      "Evolving has been disabled.\n",
      "Evolving has been enabled.\n",
      "Evolving has been disabled.\n",
      "Evolving has been enabled.\n",
      "Evolving has been disabled.\n",
      "Updated var_glo values: tensor(0.3140, device='cuda:0')\n",
      "Updated var_glo values: tensor(0.7103, device='cuda:0')\n",
      "Updated var_glo values: tensor(0.6410, device='cuda:0')\n",
      "Updated var_glo values: tensor(0.6617, device='cuda:0')\n",
      "Evolving has been disabled.\n",
      "Evolving has been enabled.\n",
      "Evolving has been disabled.\n",
      "Evolving has been enabled.\n"
     ]
    },
    {
     "name": "stderr",
     "output_type": "stream",
     "text": [
      "c:\\Users\\Miha\\anaconda3\\envs\\pytorch_env\\Lib\\site-packages\\sklearn\\metrics\\_classification.py:1471: UndefinedMetricWarning: Precision is ill-defined and being set to 0.0 in labels with no predicted samples. Use `zero_division` parameter to control this behavior.\n",
      "  _warn_prf(average, modifier, msg_start, len(result))\n"
     ]
    },
    {
     "name": "stdout",
     "output_type": "stream",
     "text": [
      "Evolving has been disabled.\n",
      "Evolving has been enabled.\n"
     ]
    },
    {
     "name": "stderr",
     "output_type": "stream",
     "text": [
      "c:\\Users\\Miha\\anaconda3\\envs\\pytorch_env\\Lib\\site-packages\\sklearn\\metrics\\_classification.py:1471: UndefinedMetricWarning: Precision is ill-defined and being set to 0.0 in labels with no predicted samples. Use `zero_division` parameter to control this behavior.\n",
      "  _warn_prf(average, modifier, msg_start, len(result))\n"
     ]
    },
    {
     "name": "stdout",
     "output_type": "stream",
     "text": [
      "Evolving has been disabled.\n",
      "Evolving has been enabled.\n",
      "Evolving has been disabled.\n",
      "Updated var_glo values: tensor(0.5040, device='cuda:0')\n",
      "Updated var_glo values: tensor(0.9247, device='cuda:0')\n",
      "Updated var_glo values: tensor(0.7738, device='cuda:0')\n",
      "Updated var_glo values: tensor(0.7706, device='cuda:0')\n",
      "Evolving has been disabled.\n",
      "Evolving has been enabled.\n",
      "Evolving has been disabled.\n",
      "Evolving has been enabled.\n"
     ]
    },
    {
     "name": "stderr",
     "output_type": "stream",
     "text": [
      "c:\\Users\\Miha\\anaconda3\\envs\\pytorch_env\\Lib\\site-packages\\sklearn\\metrics\\_classification.py:1471: UndefinedMetricWarning: Precision is ill-defined and being set to 0.0 in labels with no predicted samples. Use `zero_division` parameter to control this behavior.\n",
      "  _warn_prf(average, modifier, msg_start, len(result))\n"
     ]
    },
    {
     "name": "stdout",
     "output_type": "stream",
     "text": [
      "Evolving has been disabled.\n",
      "Evolving has been enabled.\n"
     ]
    },
    {
     "name": "stderr",
     "output_type": "stream",
     "text": [
      "c:\\Users\\Miha\\anaconda3\\envs\\pytorch_env\\Lib\\site-packages\\sklearn\\metrics\\_classification.py:1471: UndefinedMetricWarning: Precision is ill-defined and being set to 0.0 in labels with no predicted samples. Use `zero_division` parameter to control this behavior.\n",
      "  _warn_prf(average, modifier, msg_start, len(result))\n"
     ]
    },
    {
     "name": "stdout",
     "output_type": "stream",
     "text": [
      "Evolving has been disabled.\n",
      "Evolving has been enabled.\n",
      "Evolving has been disabled.\n",
      "Updated var_glo values: tensor(0.5587, device='cuda:0')\n",
      "Updated var_glo values: tensor(0.7227, device='cuda:0')\n",
      "Updated var_glo values: tensor(0.6224, device='cuda:0')\n",
      "Updated var_glo values: tensor(0.6330, device='cuda:0')\n",
      "Evolving has been disabled.\n",
      "Evolving has been enabled.\n",
      "Evolving has been disabled.\n",
      "Evolving has been enabled.\n",
      "Evolving has been disabled.\n",
      "Evolving has been enabled.\n"
     ]
    },
    {
     "name": "stderr",
     "output_type": "stream",
     "text": [
      "c:\\Users\\Miha\\anaconda3\\envs\\pytorch_env\\Lib\\site-packages\\sklearn\\metrics\\_classification.py:1471: UndefinedMetricWarning: Precision is ill-defined and being set to 0.0 in labels with no predicted samples. Use `zero_division` parameter to control this behavior.\n",
      "  _warn_prf(average, modifier, msg_start, len(result))\n",
      "c:\\Users\\Miha\\anaconda3\\envs\\pytorch_env\\Lib\\site-packages\\sklearn\\metrics\\_classification.py:1471: UndefinedMetricWarning: Precision is ill-defined and being set to 0.0 in labels with no predicted samples. Use `zero_division` parameter to control this behavior.\n",
      "  _warn_prf(average, modifier, msg_start, len(result))\n"
     ]
    },
    {
     "name": "stdout",
     "output_type": "stream",
     "text": [
      "Evolving has been disabled.\n",
      "Evolving has been enabled.\n",
      "Evolving has been disabled.\n",
      "Updated var_glo values: tensor(0.4566, device='cuda:0')\n",
      "Updated var_glo values: tensor(0.9572, device='cuda:0')\n",
      "Updated var_glo values: tensor(0.7651, device='cuda:0')\n",
      "Updated var_glo values: tensor(0.7108, device='cuda:0')\n",
      "Evolving has been disabled.\n",
      "Evolving has been enabled.\n",
      "Evolving has been disabled.\n",
      "Evolving has been enabled.\n",
      "Evolving has been disabled.\n",
      "Evolving has been enabled.\n"
     ]
    },
    {
     "name": "stderr",
     "output_type": "stream",
     "text": [
      "c:\\Users\\Miha\\anaconda3\\envs\\pytorch_env\\Lib\\site-packages\\sklearn\\metrics\\_classification.py:1471: UndefinedMetricWarning: Precision is ill-defined and being set to 0.0 in labels with no predicted samples. Use `zero_division` parameter to control this behavior.\n",
      "  _warn_prf(average, modifier, msg_start, len(result))\n",
      "c:\\Users\\Miha\\anaconda3\\envs\\pytorch_env\\Lib\\site-packages\\sklearn\\metrics\\_classification.py:1471: UndefinedMetricWarning: Precision is ill-defined and being set to 0.0 in labels with no predicted samples. Use `zero_division` parameter to control this behavior.\n",
      "  _warn_prf(average, modifier, msg_start, len(result))\n"
     ]
    },
    {
     "name": "stdout",
     "output_type": "stream",
     "text": [
      "Evolving has been disabled.\n",
      "Evolving has been enabled.\n",
      "Evolving has been disabled.\n",
      "Updated var_glo values: tensor(0.4231, device='cuda:0')\n",
      "Updated var_glo values: tensor(0.6862, device='cuda:0')\n",
      "Updated var_glo values: tensor(0.5649, device='cuda:0')\n",
      "Updated var_glo values: tensor(0.6252, device='cuda:0')\n",
      "Evolving has been disabled.\n",
      "Evolving has been enabled.\n",
      "Evolving has been disabled.\n",
      "Evolving has been enabled.\n",
      "Evolving has been disabled.\n",
      "Evolving has been enabled.\n"
     ]
    },
    {
     "name": "stderr",
     "output_type": "stream",
     "text": [
      "c:\\Users\\Miha\\anaconda3\\envs\\pytorch_env\\Lib\\site-packages\\sklearn\\metrics\\_classification.py:1471: UndefinedMetricWarning: Precision is ill-defined and being set to 0.0 in labels with no predicted samples. Use `zero_division` parameter to control this behavior.\n",
      "  _warn_prf(average, modifier, msg_start, len(result))\n",
      "c:\\Users\\Miha\\anaconda3\\envs\\pytorch_env\\Lib\\site-packages\\sklearn\\metrics\\_classification.py:1471: UndefinedMetricWarning: Precision is ill-defined and being set to 0.0 in labels with no predicted samples. Use `zero_division` parameter to control this behavior.\n",
      "  _warn_prf(average, modifier, msg_start, len(result))\n"
     ]
    },
    {
     "name": "stdout",
     "output_type": "stream",
     "text": [
      "Evolving has been disabled.\n",
      "Evolving has been enabled.\n",
      "Evolving has been disabled.\n",
      "Updated var_glo values: tensor(0.5317, device='cuda:0')\n",
      "Updated var_glo values: tensor(0.7528, device='cuda:0')\n",
      "Updated var_glo values: tensor(0.7151, device='cuda:0')\n",
      "Updated var_glo values: tensor(0.6687, device='cuda:0')\n",
      "Evolving has been disabled.\n",
      "Evolving has been enabled.\n",
      "Evolving has been disabled.\n",
      "Evolving has been enabled.\n"
     ]
    },
    {
     "name": "stderr",
     "output_type": "stream",
     "text": [
      "c:\\Users\\Miha\\anaconda3\\envs\\pytorch_env\\Lib\\site-packages\\sklearn\\metrics\\_classification.py:1471: UndefinedMetricWarning: Precision is ill-defined and being set to 0.0 in labels with no predicted samples. Use `zero_division` parameter to control this behavior.\n",
      "  _warn_prf(average, modifier, msg_start, len(result))\n"
     ]
    },
    {
     "name": "stdout",
     "output_type": "stream",
     "text": [
      "Evolving has been disabled.\n",
      "Evolving has been enabled.\n"
     ]
    },
    {
     "name": "stderr",
     "output_type": "stream",
     "text": [
      "c:\\Users\\Miha\\anaconda3\\envs\\pytorch_env\\Lib\\site-packages\\sklearn\\metrics\\_classification.py:1471: UndefinedMetricWarning: Precision is ill-defined and being set to 0.0 in labels with no predicted samples. Use `zero_division` parameter to control this behavior.\n",
      "  _warn_prf(average, modifier, msg_start, len(result))\n"
     ]
    },
    {
     "name": "stdout",
     "output_type": "stream",
     "text": [
      "Evolving has been disabled.\n",
      "Evolving has been enabled.\n",
      "Evolving has been disabled.\n",
      "Updated var_glo values: tensor(0.3518, device='cuda:0')\n",
      "Updated var_glo values: tensor(0.8069, device='cuda:0')\n",
      "Updated var_glo values: tensor(0.6969, device='cuda:0')\n",
      "Updated var_glo values: tensor(0.7177, device='cuda:0')\n",
      "Evolving has been disabled.\n",
      "Evolving has been enabled.\n",
      "Evolving has been disabled.\n",
      "Evolving has been enabled.\n"
     ]
    },
    {
     "name": "stderr",
     "output_type": "stream",
     "text": [
      "c:\\Users\\Miha\\anaconda3\\envs\\pytorch_env\\Lib\\site-packages\\sklearn\\metrics\\_classification.py:1471: UndefinedMetricWarning: Precision is ill-defined and being set to 0.0 in labels with no predicted samples. Use `zero_division` parameter to control this behavior.\n",
      "  _warn_prf(average, modifier, msg_start, len(result))\n"
     ]
    },
    {
     "name": "stdout",
     "output_type": "stream",
     "text": [
      "Evolving has been disabled.\n",
      "Evolving has been enabled.\n"
     ]
    },
    {
     "name": "stderr",
     "output_type": "stream",
     "text": [
      "c:\\Users\\Miha\\anaconda3\\envs\\pytorch_env\\Lib\\site-packages\\sklearn\\metrics\\_classification.py:1471: UndefinedMetricWarning: Precision is ill-defined and being set to 0.0 in labels with no predicted samples. Use `zero_division` parameter to control this behavior.\n",
      "  _warn_prf(average, modifier, msg_start, len(result))\n"
     ]
    },
    {
     "name": "stdout",
     "output_type": "stream",
     "text": [
      "Evolving has been disabled.\n",
      "Evolving has been enabled.\n",
      "Evolving has been disabled.\n",
      "Updated var_glo values: tensor(0.1796, device='cuda:0')\n",
      "Updated var_glo values: tensor(0.7509, device='cuda:0')\n",
      "Updated var_glo values: tensor(0.7333, device='cuda:0')\n",
      "Updated var_glo values: tensor(0.6607, device='cuda:0')\n",
      "Evolving has been disabled.\n",
      "Evolving has been enabled.\n",
      "Evolving has been disabled.\n",
      "Evolving has been enabled.\n"
     ]
    },
    {
     "name": "stderr",
     "output_type": "stream",
     "text": [
      "c:\\Users\\Miha\\anaconda3\\envs\\pytorch_env\\Lib\\site-packages\\sklearn\\metrics\\_classification.py:1471: UndefinedMetricWarning: Precision is ill-defined and being set to 0.0 in labels with no predicted samples. Use `zero_division` parameter to control this behavior.\n",
      "  _warn_prf(average, modifier, msg_start, len(result))\n"
     ]
    },
    {
     "name": "stdout",
     "output_type": "stream",
     "text": [
      "Evolving has been disabled.\n",
      "Evolving has been enabled.\n"
     ]
    },
    {
     "name": "stderr",
     "output_type": "stream",
     "text": [
      "c:\\Users\\Miha\\anaconda3\\envs\\pytorch_env\\Lib\\site-packages\\sklearn\\metrics\\_classification.py:1471: UndefinedMetricWarning: Precision is ill-defined and being set to 0.0 in labels with no predicted samples. Use `zero_division` parameter to control this behavior.\n",
      "  _warn_prf(average, modifier, msg_start, len(result))\n"
     ]
    },
    {
     "name": "stdout",
     "output_type": "stream",
     "text": [
      "Evolving has been disabled.\n",
      "Evolving has been enabled.\n",
      "Evolving has been disabled.\n",
      "Updated var_glo values: tensor(0.3554, device='cuda:0')\n",
      "Updated var_glo values: tensor(0.7969, device='cuda:0')\n",
      "Updated var_glo values: tensor(0.7006, device='cuda:0')\n",
      "Updated var_glo values: tensor(0.7054, device='cuda:0')\n",
      "Evolving has been disabled.\n",
      "Evolving has been enabled.\n",
      "Evolving has been disabled.\n",
      "Evolving has been enabled.\n"
     ]
    },
    {
     "name": "stderr",
     "output_type": "stream",
     "text": [
      "c:\\Users\\Miha\\anaconda3\\envs\\pytorch_env\\Lib\\site-packages\\sklearn\\metrics\\_classification.py:1471: UndefinedMetricWarning: Precision is ill-defined and being set to 0.0 in labels with no predicted samples. Use `zero_division` parameter to control this behavior.\n",
      "  _warn_prf(average, modifier, msg_start, len(result))\n"
     ]
    },
    {
     "name": "stdout",
     "output_type": "stream",
     "text": [
      "Evolving has been disabled.\n",
      "Evolving has been enabled.\n"
     ]
    },
    {
     "name": "stderr",
     "output_type": "stream",
     "text": [
      "c:\\Users\\Miha\\anaconda3\\envs\\pytorch_env\\Lib\\site-packages\\sklearn\\metrics\\_classification.py:1471: UndefinedMetricWarning: Precision is ill-defined and being set to 0.0 in labels with no predicted samples. Use `zero_division` parameter to control this behavior.\n",
      "  _warn_prf(average, modifier, msg_start, len(result))\n"
     ]
    },
    {
     "name": "stdout",
     "output_type": "stream",
     "text": [
      "Evolving has been disabled.\n",
      "Evolving has been enabled.\n",
      "Evolving has been disabled.\n",
      "Updated var_glo values: tensor(0.2674, device='cuda:0')\n",
      "Updated var_glo values: tensor(0.7395, device='cuda:0')\n",
      "Updated var_glo values: tensor(0.6502, device='cuda:0')\n",
      "Updated var_glo values: tensor(0.6489, device='cuda:0')\n",
      "Evolving has been disabled.\n",
      "Evolving has been enabled.\n"
     ]
    },
    {
     "name": "stderr",
     "output_type": "stream",
     "text": [
      "c:\\Users\\Miha\\anaconda3\\envs\\pytorch_env\\Lib\\site-packages\\sklearn\\metrics\\_classification.py:1471: UndefinedMetricWarning: Precision is ill-defined and being set to 0.0 in labels with no predicted samples. Use `zero_division` parameter to control this behavior.\n",
      "  _warn_prf(average, modifier, msg_start, len(result))\n"
     ]
    },
    {
     "name": "stdout",
     "output_type": "stream",
     "text": [
      "Evolving has been disabled.\n",
      "Evolving has been enabled.\n",
      "Evolving has been disabled.\n",
      "Evolving has been enabled.\n"
     ]
    },
    {
     "name": "stderr",
     "output_type": "stream",
     "text": [
      "c:\\Users\\Miha\\anaconda3\\envs\\pytorch_env\\Lib\\site-packages\\sklearn\\metrics\\_classification.py:1471: UndefinedMetricWarning: Precision is ill-defined and being set to 0.0 in labels with no predicted samples. Use `zero_division` parameter to control this behavior.\n",
      "  _warn_prf(average, modifier, msg_start, len(result))\n",
      "c:\\Users\\Miha\\anaconda3\\envs\\pytorch_env\\Lib\\site-packages\\sklearn\\metrics\\_classification.py:1471: UndefinedMetricWarning: Precision is ill-defined and being set to 0.0 in labels with no predicted samples. Use `zero_division` parameter to control this behavior.\n",
      "  _warn_prf(average, modifier, msg_start, len(result))\n"
     ]
    },
    {
     "name": "stdout",
     "output_type": "stream",
     "text": [
      "Evolving has been disabled.\n",
      "Evolving has been enabled.\n",
      "Evolving has been disabled.\n",
      "Updated var_glo values: tensor(0.6639, device='cuda:0')\n",
      "Updated var_glo values: tensor(0.8072, device='cuda:0')\n",
      "Updated var_glo values: tensor(0.5821, device='cuda:0')\n",
      "Updated var_glo values: tensor(0.6387, device='cuda:0')\n",
      "Evolving has been disabled.\n",
      "Evolving has been enabled.\n",
      "Evolving has been disabled.\n",
      "Evolving has been enabled.\n",
      "Evolving has been disabled.\n"
     ]
    },
    {
     "name": "stderr",
     "output_type": "stream",
     "text": [
      "c:\\Users\\Miha\\anaconda3\\envs\\pytorch_env\\Lib\\site-packages\\sklearn\\metrics\\_classification.py:1471: UndefinedMetricWarning: Precision is ill-defined and being set to 0.0 in labels with no predicted samples. Use `zero_division` parameter to control this behavior.\n",
      "  _warn_prf(average, modifier, msg_start, len(result))\n",
      "c:\\Users\\Miha\\anaconda3\\envs\\pytorch_env\\Lib\\site-packages\\sklearn\\metrics\\_classification.py:1471: UndefinedMetricWarning: Precision is ill-defined and being set to 0.0 in labels with no predicted samples. Use `zero_division` parameter to control this behavior.\n",
      "  _warn_prf(average, modifier, msg_start, len(result))\n"
     ]
    },
    {
     "name": "stdout",
     "output_type": "stream",
     "text": [
      "Evolving has been enabled.\n",
      "Evolving has been disabled.\n",
      "Evolving has been enabled.\n",
      "Evolving has been disabled.\n",
      "Updated var_glo values: tensor(0.4961, device='cuda:0')\n",
      "Updated var_glo values: tensor(0.9125, device='cuda:0')\n",
      "Updated var_glo values: tensor(0.7335, device='cuda:0')\n",
      "Updated var_glo values: tensor(0.7172, device='cuda:0')\n",
      "Evolving has been disabled.\n",
      "Evolving has been enabled.\n",
      "Evolving has been disabled.\n",
      "Evolving has been enabled.\n"
     ]
    },
    {
     "name": "stderr",
     "output_type": "stream",
     "text": [
      "c:\\Users\\Miha\\anaconda3\\envs\\pytorch_env\\Lib\\site-packages\\sklearn\\metrics\\_classification.py:1471: UndefinedMetricWarning: Precision is ill-defined and being set to 0.0 in labels with no predicted samples. Use `zero_division` parameter to control this behavior.\n",
      "  _warn_prf(average, modifier, msg_start, len(result))\n"
     ]
    },
    {
     "name": "stdout",
     "output_type": "stream",
     "text": [
      "Evolving has been disabled.\n",
      "Evolving has been enabled.\n"
     ]
    },
    {
     "name": "stderr",
     "output_type": "stream",
     "text": [
      "c:\\Users\\Miha\\anaconda3\\envs\\pytorch_env\\Lib\\site-packages\\sklearn\\metrics\\_classification.py:1471: UndefinedMetricWarning: Precision is ill-defined and being set to 0.0 in labels with no predicted samples. Use `zero_division` parameter to control this behavior.\n",
      "  _warn_prf(average, modifier, msg_start, len(result))\n"
     ]
    },
    {
     "name": "stdout",
     "output_type": "stream",
     "text": [
      "Evolving has been disabled.\n",
      "Evolving has been enabled.\n",
      "Evolving has been disabled.\n",
      "Updated var_glo values: tensor(0.3352, device='cuda:0')\n",
      "Updated var_glo values: tensor(0.9093, device='cuda:0')\n",
      "Updated var_glo values: tensor(0.7387, device='cuda:0')\n",
      "Updated var_glo values: tensor(0.6710, device='cuda:0')\n",
      "Evolving has been disabled.\n",
      "Evolving has been enabled.\n",
      "Evolving has been disabled.\n"
     ]
    },
    {
     "name": "stderr",
     "output_type": "stream",
     "text": [
      "c:\\Users\\Miha\\anaconda3\\envs\\pytorch_env\\Lib\\site-packages\\sklearn\\metrics\\_classification.py:1471: UndefinedMetricWarning: Precision is ill-defined and being set to 0.0 in labels with no predicted samples. Use `zero_division` parameter to control this behavior.\n",
      "  _warn_prf(average, modifier, msg_start, len(result))\n"
     ]
    },
    {
     "name": "stdout",
     "output_type": "stream",
     "text": [
      "Evolving has been enabled.\n",
      "Evolving has been disabled.\n",
      "Evolving has been enabled.\n"
     ]
    },
    {
     "name": "stderr",
     "output_type": "stream",
     "text": [
      "c:\\Users\\Miha\\anaconda3\\envs\\pytorch_env\\Lib\\site-packages\\sklearn\\metrics\\_classification.py:1471: UndefinedMetricWarning: Precision is ill-defined and being set to 0.0 in labels with no predicted samples. Use `zero_division` parameter to control this behavior.\n",
      "  _warn_prf(average, modifier, msg_start, len(result))\n"
     ]
    },
    {
     "name": "stdout",
     "output_type": "stream",
     "text": [
      "Evolving has been disabled.\n",
      "Evolving has been enabled.\n",
      "Evolving has been disabled.\n",
      "Updated var_glo values: tensor(0.5009, device='cuda:0')\n",
      "Updated var_glo values: tensor(0.8391, device='cuda:0')\n",
      "Updated var_glo values: tensor(0.6523, device='cuda:0')\n",
      "Updated var_glo values: tensor(0.7081, device='cuda:0')\n",
      "Evolving has been disabled.\n",
      "Evolving has been enabled.\n",
      "Evolving has been disabled.\n",
      "Evolving has been enabled.\n",
      "Evolving has been disabled.\n",
      "Evolving has been enabled.\n"
     ]
    },
    {
     "name": "stderr",
     "output_type": "stream",
     "text": [
      "c:\\Users\\Miha\\anaconda3\\envs\\pytorch_env\\Lib\\site-packages\\sklearn\\metrics\\_classification.py:1471: UndefinedMetricWarning: Precision is ill-defined and being set to 0.0 in labels with no predicted samples. Use `zero_division` parameter to control this behavior.\n",
      "  _warn_prf(average, modifier, msg_start, len(result))\n",
      "c:\\Users\\Miha\\anaconda3\\envs\\pytorch_env\\Lib\\site-packages\\sklearn\\metrics\\_classification.py:1471: UndefinedMetricWarning: Precision is ill-defined and being set to 0.0 in labels with no predicted samples. Use `zero_division` parameter to control this behavior.\n",
      "  _warn_prf(average, modifier, msg_start, len(result))\n"
     ]
    },
    {
     "name": "stdout",
     "output_type": "stream",
     "text": [
      "Evolving has been disabled.\n",
      "Evolving has been enabled.\n",
      "Evolving has been disabled.\n",
      "Updated var_glo values: tensor(0.5559, device='cuda:0')\n",
      "Updated var_glo values: tensor(0.9052, device='cuda:0')\n",
      "Updated var_glo values: tensor(0.7146, device='cuda:0')\n",
      "Updated var_glo values: tensor(0.6655, device='cuda:0')\n",
      "Evolving has been disabled.\n",
      "Evolving has been enabled.\n",
      "Evolving has been disabled.\n",
      "Evolving has been enabled.\n"
     ]
    },
    {
     "name": "stderr",
     "output_type": "stream",
     "text": [
      "c:\\Users\\Miha\\anaconda3\\envs\\pytorch_env\\Lib\\site-packages\\sklearn\\metrics\\_classification.py:1471: UndefinedMetricWarning: Precision is ill-defined and being set to 0.0 in labels with no predicted samples. Use `zero_division` parameter to control this behavior.\n",
      "  _warn_prf(average, modifier, msg_start, len(result))\n",
      "c:\\Users\\Miha\\anaconda3\\envs\\pytorch_env\\Lib\\site-packages\\sklearn\\metrics\\_classification.py:1471: UndefinedMetricWarning: Precision is ill-defined and being set to 0.0 in labels with no predicted samples. Use `zero_division` parameter to control this behavior.\n",
      "  _warn_prf(average, modifier, msg_start, len(result))\n"
     ]
    },
    {
     "name": "stdout",
     "output_type": "stream",
     "text": [
      "Evolving has been disabled.\n",
      "Evolving has been enabled.\n",
      "Evolving has been disabled.\n",
      "Evolving has been enabled.\n",
      "Evolving has been disabled.\n",
      "Updated var_glo values: tensor(0.4283, device='cuda:0')\n",
      "Updated var_glo values: tensor(0.8141, device='cuda:0')\n",
      "Updated var_glo values: tensor(0.6936, device='cuda:0')\n",
      "Updated var_glo values: tensor(0.7208, device='cuda:0')\n",
      "Evolving has been disabled.\n",
      "Evolving has been enabled.\n",
      "Evolving has been disabled.\n",
      "Evolving has been enabled.\n"
     ]
    },
    {
     "name": "stderr",
     "output_type": "stream",
     "text": [
      "c:\\Users\\Miha\\anaconda3\\envs\\pytorch_env\\Lib\\site-packages\\sklearn\\metrics\\_classification.py:1471: UndefinedMetricWarning: Precision is ill-defined and being set to 0.0 in labels with no predicted samples. Use `zero_division` parameter to control this behavior.\n",
      "  _warn_prf(average, modifier, msg_start, len(result))\n"
     ]
    },
    {
     "name": "stdout",
     "output_type": "stream",
     "text": [
      "Evolving has been disabled.\n",
      "Evolving has been enabled.\n"
     ]
    },
    {
     "name": "stderr",
     "output_type": "stream",
     "text": [
      "c:\\Users\\Miha\\anaconda3\\envs\\pytorch_env\\Lib\\site-packages\\sklearn\\metrics\\_classification.py:1471: UndefinedMetricWarning: Precision is ill-defined and being set to 0.0 in labels with no predicted samples. Use `zero_division` parameter to control this behavior.\n",
      "  _warn_prf(average, modifier, msg_start, len(result))\n"
     ]
    },
    {
     "name": "stdout",
     "output_type": "stream",
     "text": [
      "Evolving has been disabled.\n",
      "Evolving has been enabled.\n",
      "Evolving has been disabled.\n",
      "Updated var_glo values: tensor(0.4344, device='cuda:0')\n",
      "Updated var_glo values: tensor(0.8018, device='cuda:0')\n",
      "Updated var_glo values: tensor(0.6493, device='cuda:0')\n",
      "Updated var_glo values: tensor(0.6989, device='cuda:0')\n",
      "Evolving has been disabled.\n",
      "Evolving has been enabled.\n",
      "Evolving has been disabled.\n"
     ]
    },
    {
     "name": "stderr",
     "output_type": "stream",
     "text": [
      "c:\\Users\\Miha\\anaconda3\\envs\\pytorch_env\\Lib\\site-packages\\sklearn\\metrics\\_classification.py:1471: UndefinedMetricWarning: Precision is ill-defined and being set to 0.0 in labels with no predicted samples. Use `zero_division` parameter to control this behavior.\n",
      "  _warn_prf(average, modifier, msg_start, len(result))\n"
     ]
    },
    {
     "name": "stdout",
     "output_type": "stream",
     "text": [
      "Evolving has been enabled.\n",
      "Evolving has been disabled.\n",
      "Evolving has been enabled.\n"
     ]
    },
    {
     "name": "stderr",
     "output_type": "stream",
     "text": [
      "c:\\Users\\Miha\\anaconda3\\envs\\pytorch_env\\Lib\\site-packages\\sklearn\\metrics\\_classification.py:1471: UndefinedMetricWarning: Precision is ill-defined and being set to 0.0 in labels with no predicted samples. Use `zero_division` parameter to control this behavior.\n",
      "  _warn_prf(average, modifier, msg_start, len(result))\n"
     ]
    },
    {
     "name": "stdout",
     "output_type": "stream",
     "text": [
      "Evolving has been disabled.\n",
      "Evolving has been enabled.\n",
      "Evolving has been disabled.\n",
      "Updated var_glo values: tensor(0.3112, device='cuda:0')\n",
      "Updated var_glo values: tensor(0.8221, device='cuda:0')\n",
      "Updated var_glo values: tensor(0.6609, device='cuda:0')\n",
      "Updated var_glo values: tensor(0.7086, device='cuda:0')\n",
      "Evolving has been disabled.\n",
      "Evolving has been enabled.\n",
      "Evolving has been disabled.\n",
      "Evolving has been enabled.\n"
     ]
    },
    {
     "name": "stderr",
     "output_type": "stream",
     "text": [
      "c:\\Users\\Miha\\anaconda3\\envs\\pytorch_env\\Lib\\site-packages\\sklearn\\metrics\\_classification.py:1471: UndefinedMetricWarning: Precision is ill-defined and being set to 0.0 in labels with no predicted samples. Use `zero_division` parameter to control this behavior.\n",
      "  _warn_prf(average, modifier, msg_start, len(result))\n"
     ]
    },
    {
     "name": "stdout",
     "output_type": "stream",
     "text": [
      "Evolving has been disabled.\n",
      "Evolving has been enabled.\n"
     ]
    },
    {
     "name": "stderr",
     "output_type": "stream",
     "text": [
      "c:\\Users\\Miha\\anaconda3\\envs\\pytorch_env\\Lib\\site-packages\\sklearn\\metrics\\_classification.py:1471: UndefinedMetricWarning: Precision is ill-defined and being set to 0.0 in labels with no predicted samples. Use `zero_division` parameter to control this behavior.\n",
      "  _warn_prf(average, modifier, msg_start, len(result))\n"
     ]
    },
    {
     "name": "stdout",
     "output_type": "stream",
     "text": [
      "Evolving has been disabled.\n",
      "Evolving has been enabled.\n",
      "Evolving has been disabled.\n",
      "Updated var_glo values: tensor(0.3030, device='cuda:0')\n",
      "Updated var_glo values: tensor(0.6257, device='cuda:0')\n",
      "Updated var_glo values: tensor(0.6054, device='cuda:0')\n",
      "Updated var_glo values: tensor(0.6152, device='cuda:0')\n",
      "Evolving has been disabled.\n",
      "Evolving has been enabled.\n",
      "Evolving has been disabled.\n",
      "Evolving has been enabled.\n"
     ]
    },
    {
     "name": "stderr",
     "output_type": "stream",
     "text": [
      "c:\\Users\\Miha\\anaconda3\\envs\\pytorch_env\\Lib\\site-packages\\sklearn\\metrics\\_classification.py:1471: UndefinedMetricWarning: Precision is ill-defined and being set to 0.0 in labels with no predicted samples. Use `zero_division` parameter to control this behavior.\n",
      "  _warn_prf(average, modifier, msg_start, len(result))\n"
     ]
    },
    {
     "name": "stdout",
     "output_type": "stream",
     "text": [
      "Evolving has been disabled.\n",
      "Evolving has been enabled.\n"
     ]
    },
    {
     "name": "stderr",
     "output_type": "stream",
     "text": [
      "c:\\Users\\Miha\\anaconda3\\envs\\pytorch_env\\Lib\\site-packages\\sklearn\\metrics\\_classification.py:1471: UndefinedMetricWarning: Precision is ill-defined and being set to 0.0 in labels with no predicted samples. Use `zero_division` parameter to control this behavior.\n",
      "  _warn_prf(average, modifier, msg_start, len(result))\n"
     ]
    },
    {
     "name": "stdout",
     "output_type": "stream",
     "text": [
      "Evolving has been disabled.\n",
      "Evolving has been enabled.\n",
      "Evolving has been disabled.\n",
      "Updated var_glo values: tensor(0.2820, device='cuda:0')\n",
      "Updated var_glo values: tensor(0.7248, device='cuda:0')\n",
      "Updated var_glo values: tensor(0.6748, device='cuda:0')\n",
      "Updated var_glo values: tensor(0.6615, device='cuda:0')\n",
      "Evolving has been disabled.\n"
     ]
    },
    {
     "data": {
      "text/plain": [
       "{'client_metrics': [[{'accuracy': 0.7,\n",
       "    'precision': 0.5893939393939395,\n",
       "    'recall': 0.7,\n",
       "    'f1_score': 0.6182010582010583},\n",
       "   {'accuracy': 0.5,\n",
       "    'precision': 0.315,\n",
       "    'recall': 0.5,\n",
       "    'f1_score': 0.38636363636363635},\n",
       "   {'accuracy': 0.43333333333333335,\n",
       "    'precision': 0.4371794871794872,\n",
       "    'recall': 0.43333333333333335,\n",
       "    'f1_score': 0.34476190476190477},\n",
       "   {'accuracy': 0.5666666666666667,\n",
       "    'precision': 0.4138888888888888,\n",
       "    'recall': 0.5666666666666667,\n",
       "    'f1_score': 0.4627246376811594},\n",
       "   {'accuracy': 0.6,\n",
       "    'precision': 0.5399999999999999,\n",
       "    'recall': 0.6,\n",
       "    'f1_score': 0.529192546583851}],\n",
       "  [{'accuracy': 0.5666666666666667,\n",
       "    'precision': 0.3782608695652174,\n",
       "    'recall': 0.5666666666666667,\n",
       "    'f1_score': 0.4353535353535353},\n",
       "   {'accuracy': 0.5666666666666667,\n",
       "    'precision': 0.4298245614035088,\n",
       "    'recall': 0.5666666666666667,\n",
       "    'f1_score': 0.4626666666666666},\n",
       "   {'accuracy': 0.7,\n",
       "    'precision': 0.5212962962962963,\n",
       "    'recall': 0.7,\n",
       "    'f1_score': 0.5888198757763976},\n",
       "   {'accuracy': 0.7666666666666667,\n",
       "    'precision': 0.624074074074074,\n",
       "    'recall': 0.7666666666666667,\n",
       "    'f1_score': 0.67816091954023},\n",
       "   {'accuracy': 0.7333333333333333,\n",
       "    'precision': 0.541945773524721,\n",
       "    'recall': 0.7333333333333333,\n",
       "    'f1_score': 0.6220833333333334}],\n",
       "  [{'accuracy': 0.8,\n",
       "    'precision': 0.8631578947368421,\n",
       "    'recall': 0.8,\n",
       "    'f1_score': 0.7758928571428572},\n",
       "   {'accuracy': 0.9333333333333333,\n",
       "    'precision': 0.9422222222222222,\n",
       "    'recall': 0.9333333333333333,\n",
       "    'f1_score': 0.929047619047619},\n",
       "   {'accuracy': 0.9,\n",
       "    'precision': 0.925,\n",
       "    'recall': 0.9,\n",
       "    'f1_score': 0.8983193277310925},\n",
       "   {'accuracy': 0.8666666666666667,\n",
       "    'precision': 0.9151515151515152,\n",
       "    'recall': 0.8666666666666667,\n",
       "    'f1_score': 0.8666666666666667},\n",
       "   {'accuracy': 0.9,\n",
       "    'precision': 0.9,\n",
       "    'recall': 0.9,\n",
       "    'f1_score': 0.8985185185185185}],\n",
       "  [{'accuracy': 0.9333333333333333,\n",
       "    'precision': 0.9444444444444445,\n",
       "    'recall': 0.9333333333333333,\n",
       "    'f1_score': 0.9335858585858585},\n",
       "   {'accuracy': 0.5666666666666667,\n",
       "    'precision': 0.4298245614035088,\n",
       "    'recall': 0.5666666666666667,\n",
       "    'f1_score': 0.4626666666666666},\n",
       "   {'accuracy': 0.7333333333333333,\n",
       "    'precision': 0.7371428571428571,\n",
       "    'recall': 0.7333333333333333,\n",
       "    'f1_score': 0.7174603174603175},\n",
       "   {'accuracy': 0.8666666666666667,\n",
       "    'precision': 0.9022222222222223,\n",
       "    'recall': 0.8666666666666667,\n",
       "    'f1_score': 0.8502564102564102},\n",
       "   {'accuracy': 0.9666666666666667,\n",
       "    'precision': 0.9690476190476189,\n",
       "    'recall': 0.9666666666666667,\n",
       "    'f1_score': 0.9661728395061729}]],\n",
       " 'client_clusters': [[tensor(6), tensor(5), tensor(5), tensor(8), tensor(3)],\n",
       "  [tensor(2), tensor(3), tensor(4), tensor(3), tensor(2)],\n",
       "  [tensor(5), tensor(7), tensor(4), tensor(4), tensor(3)],\n",
       "  [tensor(3), tensor(3), tensor(6), tensor(3), tensor(4)]],\n",
       " 'federated_metrics': [{'accuracy': 1.0,\n",
       "   'precision': 1.0,\n",
       "   'recall': 1.0,\n",
       "   'f1_score': 1.0},\n",
       "  {'accuracy': 0.9333333333333333,\n",
       "   'precision': 0.95,\n",
       "   'recall': 0.9333333333333333,\n",
       "   'f1_score': 0.9353174603174602},\n",
       "  {'accuracy': 0.9666666666666667,\n",
       "   'precision': 0.9696969696969696,\n",
       "   'recall': 0.9666666666666667,\n",
       "   'f1_score': 0.9664799253034547},\n",
       "  {'accuracy': 0.9666666666666667,\n",
       "   'precision': 0.9694444444444444,\n",
       "   'recall': 0.9666666666666667,\n",
       "   'f1_score': 0.9661092530657747},\n",
       "  {'accuracy': 1.0, 'precision': 1.0, 'recall': 1.0, 'f1_score': 1.0}],\n",
       " 'federated_clusters': [tensor(3), tensor(3), tensor(3), tensor(3), tensor(3)],\n",
       " 'samples_per_class_per_client': array([[[ 0.,  0.,  0.,  0.,  0.],\n",
       "         [ 8.,  9., 10., 13., 10.],\n",
       "         [10., 11., 10.,  9., 11.]],\n",
       " \n",
       "        [[23., 17., 19., 16., 23.],\n",
       "         [ 0.,  0.,  0.,  0.,  0.],\n",
       "         [10., 10., 11., 10.,  9.]],\n",
       " \n",
       "        [[ 9.,  5., 10., 10.,  9.],\n",
       "         [19., 24., 22., 23., 22.],\n",
       "         [11., 14.,  8.,  9.,  6.]],\n",
       " \n",
       "        [[11., 17., 10., 12.,  9.],\n",
       "         [10.,  4.,  9.,  7., 10.],\n",
       "         [ 9.,  9., 11., 11., 11.]]])}"
      ]
     },
     "execution_count": 3,
     "metadata": {},
     "output_type": "execute_result"
    }
   ],
   "source": [
    "# Load the Iris dataset\n",
    "iris = datasets.load_iris()\n",
    "\n",
    "X = iris.data\n",
    "y = iris.target\n",
    "\n",
    "num_clients = 4\n",
    "num_splits = 3\n",
    "num_repetitions = 10\n",
    "\n",
    "# Re-inserting the repetition of the experiment 10 times\n",
    "experiment_results = []\n",
    "for experiment in range(num_repetitions):\n",
    "    kf = KFold(n_splits=num_splits, shuffle=True, random_state=None)\n",
    "\n",
    "    # Initialize arrays to track samples per class for each client in each fold\n",
    "    samples_per_class_per_client = np.zeros((num_clients, local_model_params[\"num_classes\"], num_splits))\n",
    "\n",
    "    # Main loop for k-fold cross-validation\n",
    "    all_client_metrics = [[] for _ in range(num_clients)]\n",
    "    all_client_clusters = [[] for _ in range(num_clients)]\n",
    "\n",
    "    all_federated_metrics = []\n",
    "    all_federated_clusters = []\n",
    "\n",
    "    for i_fold, (train_index, test_index) in enumerate(kf.split(iris.data)):\n",
    "        # Split the data\n",
    "        train_data, test_data, all_data = prepare_k_fold_non_iid_dataset(X, y, train_index, test_index, num_clients)\n",
    "\n",
    "        # Create the models\n",
    "        local_models = [eGAUSSp(**local_model_params) for _ in range(num_clients)]\n",
    "        federated_model = eGAUSSp(**federated_model_params)\n",
    "\n",
    "        # Train and test the models\n",
    "        for client_idx, client_model in enumerate(local_models):\n",
    "            # Count the number of samples per class for this client in this fold\n",
    "            for class_idx in range(client_model.num_classes):\n",
    "                class_samples = torch.sum((train_data[client_idx][1] == class_idx).float(), dim=0)\n",
    "                samples_per_class_per_client[client_idx, class_idx, i_fold] = class_samples\n",
    "\n",
    "            # Supervised clustering\n",
    "            train_supervised(client_model, train_data[client_idx])\n",
    "\n",
    "            # Test the local models\n",
    "            _, pred, _ = test_model(client_model, test_data)\n",
    "            metrics = calculate_metrics(pred.cpu(), test_data, \"weighted\")\n",
    "            all_client_metrics[client_idx].append(metrics)\n",
    "\n",
    "            # Save the number of clusters\n",
    "            num_client_clusters = torch.sum(client_model.n[:client_model.c] > 1).cpu()\n",
    "            all_client_clusters[client_idx].append(num_client_clusters)\n",
    "\n",
    "        # Aggregate local models\n",
    "        for client_model in local_models:\n",
    "            federated_model.federal_agent.merge_model_privately(client_model, federated_model.kappa_n, 0)\n",
    "        \n",
    "        aggregated_model = copy.deepcopy(federated_model)\n",
    "        federated_model.federal_agent.federated_merging()\n",
    "        federated_model.score = torch.ones_like(federated_model.score)\n",
    "        federated_model.num_pred = torch.zeros_like(federated_model.num_pred)\n",
    "\n",
    "        num_federated_clusters = torch.sum(federated_model.n[:federated_model.c] > 0).cpu()\n",
    "        all_federated_clusters.append(num_federated_clusters)\n",
    "\n",
    "        # Test the federated model\n",
    "        _, pred_fed, _ = test_model(federated_model, test_data)\n",
    "        federated_metrics = calculate_metrics(pred_fed.cpu(), test_data, \"weighted\")\n",
    "        all_federated_metrics.append(federated_metrics)\n",
    "\n",
    "    # Store results of each experiment\n",
    "    experiment_results.append({\n",
    "        \"client_metrics\": all_client_metrics,\n",
    "        \"client_clusters\": all_client_clusters,\n",
    "        \"federated_metrics\": all_federated_metrics,\n",
    "        \"federated_clusters\": all_federated_clusters,\n",
    "        \"samples_per_class_per_client\": samples_per_class_per_client\n",
    "    })\n",
    "    \n",
    "# Displaying the result of the first experiment for brevity\n",
    "experiment_results[0]  # Replace with desired processing or analysis of experiment results\n"
   ]
  },
  {
   "cell_type": "code",
   "execution_count": 4,
   "metadata": {},
   "outputs": [
    {
     "name": "stdout",
     "output_type": "stream",
     "text": [
      "Aggregated Metrics for Client 1:\n",
      "accuracy: 0.58 ± 0.08\n",
      "precision: 0.45 ± 0.08\n",
      "recall: 0.58 ± 0.08\n",
      "f1_score: 0.48 ± 0.09\n",
      "Client 1:\n",
      "  Class 0: 0.00 samples\n",
      "  Class 1: 9.72 samples\n",
      "  Class 2: 10.60 samples\n",
      "Client 2:\n",
      "  Class 0: 19.92 samples\n",
      "  Class 1: 0.00 samples\n",
      "  Class 2: 9.68 samples\n",
      "Client 3:\n",
      "  Class 0: 9.88 samples\n",
      "  Class 1: 20.34 samples\n",
      "  Class 2: 9.86 samples\n",
      "Client 4:\n",
      "  Class 0: 10.20 samples\n",
      "  Class 1: 9.94 samples\n",
      "  Class 2: 9.86 samples\n"
     ]
    }
   ],
   "source": [
    "import numpy as np\n",
    "\n",
    "# Initialize variables to store aggregated data\n",
    "agg_client_metrics = [{} for _ in range(num_clients)]\n",
    "agg_federated_metrics = {}\n",
    "agg_client_clusters = [[] for _ in range(num_clients)]\n",
    "agg_federated_clusters = []\n",
    "\n",
    "# Process each experiment\n",
    "for result in experiment_results:\n",
    "    for client_idx, client_metrics in enumerate(result['client_metrics']):\n",
    "        for metric in client_metrics[0].keys():\n",
    "            if metric not in agg_client_metrics[client_idx]:\n",
    "                agg_client_metrics[client_idx][metric] = []\n",
    "            agg_client_metrics[client_idx][metric].extend([m[metric] for m in client_metrics])\n",
    "\n",
    "    for metric in result['federated_metrics'][0].keys():\n",
    "        if metric not in agg_federated_metrics:\n",
    "            agg_federated_metrics[metric] = []\n",
    "        agg_federated_metrics[metric].extend([m[metric] for m in result['federated_metrics']])\n",
    "\n",
    "    for client_idx, client_clusters in enumerate(result['client_clusters']):\n",
    "        agg_client_clusters[client_idx].extend(client_clusters)\n",
    "\n",
    "    agg_federated_clusters.extend(result['federated_clusters'])\n",
    "\n",
    "# Calculate averages and standard deviations\n",
    "for client_metrics in agg_client_metrics:\n",
    "    for metric, values in client_metrics.items():\n",
    "        mean = np.mean(values)\n",
    "        std = np.std(values, ddof=1)\n",
    "        client_metrics[metric] = (mean, std)\n",
    "\n",
    "for metric, values in agg_federated_metrics.items():\n",
    "    mean = np.mean(values)\n",
    "    std = np.std(values, ddof=1)\n",
    "    agg_federated_metrics[metric] = (mean, std)\n",
    "\n",
    "# Example of printing aggregated metrics for the first client\n",
    "print(\"Aggregated Metrics for Client 1:\")\n",
    "for metric, (mean, std) in agg_client_metrics[0].items():\n",
    "    print(f\"{metric}: {mean:.2f} ± {std:.2f}\")\n",
    "\n",
    "agg_samples = np.zeros((num_clients, num_classes, num_splits))\n",
    "\n",
    "# Aggregate data from each experiment\n",
    "for result in experiment_results:\n",
    "    samples_per_class_per_client = result['samples_per_class_per_client']\n",
    "    agg_samples += samples_per_class_per_client\n",
    "\n",
    "# Compute the average across all repetitions (and folds if required)\n",
    "avg_samples = agg_samples / len(experiment_results)\n",
    "\n",
    "# Calculate the average for each client and class across folds\n",
    "avg_samples_per_class_per_client = avg_samples.mean(axis=2)\n",
    "\n",
    "# Print the results\n",
    "for client_idx in range(num_clients):\n",
    "    print(f\"Client {client_idx + 1}:\")\n",
    "    for class_idx in range(num_classes):\n",
    "        avg_samples = avg_samples_per_class_per_client[client_idx, class_idx]\n",
    "        print(f\"  Class {class_idx}: {avg_samples:.2f} samples\")"
   ]
  },
  {
   "cell_type": "code",
   "execution_count": 11,
   "metadata": {},
   "outputs": [
    {
     "name": "stdout",
     "output_type": "stream",
     "text": [
      "\\begin{table}[ht]\n",
      "\\centering\n",
      "\\setlength{\\tabcolsep}{2pt}\n",
      "\\scriptsize\n",
      "\\caption{Performance metrics and average number of clusters on the Iris dataset.}\n",
      "\\label{tab:performance_clusters}\n",
      "\\begin{tabular}{lcccccc}\n",
      "\\toprule\n",
      "\\textbf{Metric} & \\textbf{Client 1} & \\textbf{Client 2} & \\textbf{Client 3} & \\textbf{Client 4} & \\textbf{Federated} \\\\\n",
      "Average Samples & 0.0/9.7/10.6 & 19.9/0.0/9.7 & 9.9/20.3/9.9 & 10.2/9.9/9.9 \\\\\n",
      "\\midrule\n",
      "Accuracy (\\%) $\\uparrow$ & 58.1 ± 8.4 & 66.2 ± 8.2 & 88.1 ± 6.2 & 85.4 ± 9.1 & \\bf{96.5 ± 3.0} \\\\\n",
      "Precision (\\%) $\\uparrow$ & 44.6 ± 8.5 & 49.5 ± 9.4 & 91.1 ± 4.4 & 87.1 ± 10.3 & \\bf{96.9 ± 2.5} \\\\\n",
      "Recall (\\%) $\\uparrow$ & 58.1 ± 8.4 & 66.2 ± 8.2 & 88.1 ± 6.2 & 85.4 ± 9.1 & \\bf{96.5 ± 3.0} \\\\\n",
      "F1 Score (\\%) $\\uparrow$ & 48.5 ± 8.6 & 55.2 ± 9.4 & 87.7 ± 6.9 & 84.4 ± 10.7 & \\bf{96.4 ± 3.0} \\\\\n",
      "\\#Clusters $\\downarrow$ & 4.8 ± 1.2 & 2.7 ± 0.8 & 4.3 ± 1.0 & 4.6 ± 1.2 & \\bf{3.0 ± 0.0} \\\\\n",
      "\\bottomrule\n",
      "\\end{tabular}\n",
      "\\end{table}\n",
      "\n"
     ]
    }
   ],
   "source": [
    "# Create a LaTeX table for the paper\n",
    "# Start the LaTeX table code\n",
    "latex_table = r\"\"\"\\begin{table}[ht]\n",
    "\\centering\n",
    "\\setlength{\\tabcolsep}{2pt}\n",
    "\\scriptsize\n",
    "\\caption{Performance metrics and average number of clusters on the Iris dataset.}\n",
    "\\label{tab:performance_clusters}\n",
    "\\begin{tabular}{lcccccc}\n",
    "\\toprule\n",
    "\\textbf{Metric} & \\textbf{Client 1} & \\textbf{Client 2} & \\textbf{Client 3} & \\textbf{Client 4} & \\textbf{Federated} \\\\\n",
    "\"\"\"\n",
    "\n",
    "# Add the header for average samples per class\n",
    "latex_table += r\"Average Samples\"\n",
    "\n",
    "# Add the average samples per class for each client\n",
    "samples_row = \"\"\n",
    "for samples in avg_samples_per_class_per_client:\n",
    "    samples_row += \" & \" + \"/\".join([f\"{x:.1f}\" for x in samples])\n",
    "latex_table += samples_row + \" \\\\\\\\\" + \"\\n\"\n",
    "\n",
    "latex_table += r\"\\midrule\" + \"\\n\"\n",
    "\n",
    "\n",
    "# Add rows for each metric\n",
    "metrics = ['accuracy', 'precision', 'recall', 'f1_score']\n",
    "metric_names = ['Accuracy (\\%)', 'Precision (\\%)', 'Recall (\\%)', 'F1 Score (\\%)']\n",
    "for i, metric in enumerate(metrics):\n",
    "    row = metric_names[i] + r' $\\uparrow$'\n",
    "    for client_metrics in agg_client_metrics:\n",
    "        mean, std = client_metrics[metric]\n",
    "        row += f' & {mean * 100:.1f} ± {std * 100:.1f}'\n",
    "    mean, std = agg_federated_metrics[metric]\n",
    "    row += r' & \\bf' + f'{{{mean * 100:.1f} ± {std * 100:.1f}}}'\n",
    "    latex_table += row + r' \\\\' + '\\n'\n",
    "\n",
    "# Add row for clusters\n",
    "cluster_row = r'\\#Clusters $\\downarrow$'\n",
    "for client_clusters in agg_client_clusters:\n",
    "    avg_clusters = np.mean(client_clusters)\n",
    "    std_clusters = np.std(client_clusters, ddof=1)\n",
    "    cluster_row += f' & {avg_clusters:.1f} ± {std_clusters:.1f}'\n",
    "\n",
    "# Assuming agg_federated_clusters is a list of cluster counts for the federated model\n",
    "avg_fed_clusters = np.mean(agg_federated_clusters)\n",
    "std_fed_clusters = np.std(agg_federated_clusters, ddof=1)\n",
    "cluster_row += r' & \\bf' + f'{{{avg_fed_clusters:.1f} ± {std_fed_clusters:.1f}}}'\n",
    "\n",
    "latex_table += cluster_row + r' \\\\' + '\\n'\n",
    "\n",
    "# End the LaTeX table code\n",
    "latex_table += r\"\"\"\\bottomrule\n",
    "\\end{tabular}\n",
    "\\end{table}\n",
    "\"\"\"\n",
    "\n",
    "# Print the complete LaTeX table\n",
    "print(latex_table)\n"
   ]
  },
  {
   "cell_type": "code",
   "execution_count": 6,
   "metadata": {},
   "outputs": [
    {
     "name": "stdout",
     "output_type": "stream",
     "text": [
      "Client 1: {1: 9, 2: 13}\n",
      "Client 2: {0: 19, 2: 12}\n",
      "Client 3: {0: 11, 1: 18, 2: 8}\n",
      "Client 4: {0: 10, 1: 9, 2: 11}\n",
      "Test Set: {0: 10, 1: 14, 2: 6}\n",
      "\n",
      "Combined Number of Samples per Class:\n",
      "Class 0: 50 samples\n",
      "Class 1: 50 samples\n",
      "Class 2: 50 samples\n",
      "\n",
      "Total Number of Samples Across All Datasets: 150\n",
      "Figure saved as .Images/iris_data_distribution.svg in svg format.\n"
     ]
    },
    {
     "data": {
      "image/png": "[encoded data removed]",
      "text/plain": [
       "<Figure size 500x300 with 1 Axes>"
      ]
     },
     "metadata": {},
     "output_type": "display_data"
    }
   ],
   "source": [
    "#Aditional plots of the data\n",
    "display_dataset_split(train_data, test_data)\n",
    "fig = plot_dataset_split(train_data, test_data)\n",
    "save_figure(fig, \".Images/iris_data_distribution.svg\",\"svg\")"
   ]
  },
  {
   "cell_type": "code",
   "execution_count": 7,
   "metadata": {},
   "outputs": [
    {
     "data": {
      "image/png": "[encoded data removed]",
      "text/plain": [
       "<Figure size 750x250 with 3 Axes>"
      ]
     },
     "metadata": {},
     "output_type": "display_data"
    },
    {
     "name": "stdout",
     "output_type": "stream",
     "text": [
      "Figure saved as .Images/iris_local_model.svg in svg format.\n",
      "Figure saved as .Images/iris_local_model.pdf in pdf format.\n"
     ]
    }
   ],
   "source": [
    "#Plot of the last local model\n",
    "fig = plot_first_feature_horizontal(train_data[client_idx], model=client_model, num_sigma=2, N_max=1, title=\"\",format='%d', legend = True, data_name = \"Class\")  \n",
    "save_figure(fig, \".Images/iris_local_model.svg\", \"svg\")\n",
    "save_figure(fig, \".Images/iris_local_model.pdf\",\"pdf\")"
   ]
  },
  {
   "cell_type": "code",
   "execution_count": 8,
   "metadata": {},
   "outputs": [
    {
     "data": {
      "image/png": "[encoded data removed]",
      "text/plain": [
       "<Figure size 750x250 with 3 Axes>"
      ]
     },
     "metadata": {},
     "output_type": "display_data"
    },
    {
     "name": "stdout",
     "output_type": "stream",
     "text": [
      "Number of clusters after merging = 3\n",
      "Figure saved as .Images/iris_federated_merged.svg in svg format.\n",
      "Figure saved as .Images/iris_federated_merged.pdf in pdf format.\n"
     ]
    }
   ],
   "source": [
    "#Plot of the last federated model\n",
    "fig = plot_first_feature_horizontal(test_data, model=federated_model.cpu(), num_sigma=2, N_max=0, title=\"\", format='%d')   \n",
    "print(f\"Number of clusters after merging = {federated_model.c}\")\n",
    "save_figure(fig, \".Images/iris_federated_merged.svg\",\"svg\")\n",
    "save_figure(fig, \".Images/iris_federated_merged.pdf\",\"pdf\")"
   ]
  },
  {
   "cell_type": "code",
   "execution_count": 9,
   "metadata": {},
   "outputs": [
    {
     "data": {
      "image/png": "[encoded data removed]",
      "text/plain": [
       "<Figure size 750x250 with 3 Axes>"
      ]
     },
     "metadata": {},
     "output_type": "display_data"
    },
    {
     "name": "stdout",
     "output_type": "stream",
     "text": [
      "Figure saved as .Images/iris_aggregated.svg in svg format.\n",
      "Figure saved as .Images/iris_aggregated.pdf in pdf format.\n"
     ]
    }
   ],
   "source": [
    "#Plot of the last aggregated model\n",
    "fig = plot_first_feature_horizontal(all_data, model= aggregated_model.cpu(), num_sigma=2, N_max=0, title=\"\", format='%d')   \n",
    "save_figure(fig, \".Images/iris_aggregated.svg\",\"svg\")\n",
    "save_figure(fig, \".Images/iris_aggregated.pdf\",\"pdf\")"
   ]
  },
  {
   "cell_type": "code",
   "execution_count": 10,
   "metadata": {},
   "outputs": [
    {
     "data": {
      "image/png": "[encoded data removed]",
      "text/plain": [
       "<Figure size 400x300 with 2 Axes>"
      ]
     },
     "metadata": {},
     "output_type": "display_data"
    }
   ],
   "source": [
    "plot_confusion_matrix(pred_fed.cpu(), test_data)"
   ]
  }
 ],
 "metadata": {
  "kernelspec": {
   "display_name": "Python 3",
   "language": "python",
   "name": "python3"
  },
  "language_info": {
   "codemirror_mode": {
    "name": "ipython",
    "version": 3
   },
   "file_extension": ".py",
   "mimetype": "text/x-python",
   "name": "python",
   "nbconvert_exporter": "python",
   "pygments_lexer": "ipython3",
   "version": "3.11.7"
  }
 },
 "nbformat": 4,
 "nbformat_minor": 2
}
