{
 "cells": [
  {
   "cell_type": "code",
   "execution_count": 1,
   "metadata": {},
   "outputs": [],
   "source": [
    "import pandas as pd\n",
    "import numpy as np\n",
    "import torch\n",
    "import importlib\n",
    "from utils.utils_dataset import prepare_k_fold_non_iid_dataset, plot_dataset_split, display_dataset_split\n",
    "from sklearn import datasets\n",
    "from sklearn.model_selection import KFold\n",
    "from utils.utils_train import train_supervised, test_model\n",
    "from utils.utils_plots import plot_first_feature_horizontal, save_figure\n",
    "from utils.utils_metrics import calculate_metrics_statistics, calculate_cluster_stats, calculate_metrics, plot_confusion_matrix\n",
    "import copy"
   ]
  },
  {
   "cell_type": "code",
   "execution_count": 2,
   "metadata": {},
   "outputs": [
    {
     "name": "stdout",
     "output_type": "stream",
     "text": [
      "PyTorch Version: 2.1.2\n",
      "CUDA Version: 11.8\n",
      "CUDA is available. Using GPU.\n"
     ]
    }
   ],
   "source": [
    "from model.eGauss_plus import eGAUSSp\n",
    "\n",
    "print(\"PyTorch Version:\", torch.__version__)\n",
    "print(\"CUDA Version:\", torch.version.cuda)\n",
    "\n",
    "# Check if CUDA is available\n",
    "if torch.cuda.is_available():\n",
    "    device = torch.device(\"cuda\")\n",
    "    print(\"CUDA is available. Using GPU.\")\n",
    "else:\n",
    "    device = torch.device(\"cpu\")\n",
    "    print(\"CUDA not available. Using CPU.\")\n",
    "\n",
    "feature_dim = 4\n",
    "num_classes = 3\n",
    "\n",
    "# Model parameters\n",
    "local_model_params = {\n",
    "    \"feature_dim\": feature_dim,\n",
    "    \"num_classes\": num_classes,\n",
    "    \"kappa_n\": 1,\n",
    "    \"num_sigma\": 3,\n",
    "    \"kappa_join\": 2,\n",
    "    \"S_0\": 1e-8,\n",
    "    \"N_r\": 8,\n",
    "    \"c_max\": 1000,\n",
    "    \"device\": device\n",
    "}\n",
    "federated_model_params = {\n",
    "    \"feature_dim\": feature_dim,\n",
    "    \"num_classes\": num_classes,\n",
    "    \"kappa_n\": 1,\n",
    "    \"num_sigma\": 10,\n",
    "    \"kappa_join\": 10,\n",
    "    \"S_0\": 1e-8,\n",
    "    \"N_r\": 8,\n",
    "    \"c_max\": 1000,\n",
    "    \"device\": device\n",
    "}"
   ]
  },
  {
   "cell_type": "code",
   "execution_count": 3,
   "metadata": {},
   "outputs": [
    {
     "name": "stdout",
     "output_type": "stream",
     "text": [
      "Evolving has been enabled.\n",
      "Evolving has been disabled.\n",
      "Evolving has been enabled.\n"
     ]
    },
    {
     "name": "stderr",
     "output_type": "stream",
     "text": [
      "c:\\Users\\Miha\\anaconda3\\envs\\pytorch_env\\Lib\\site-packages\\sklearn\\metrics\\_classification.py:1471: UndefinedMetricWarning: Precision is ill-defined and being set to 0.0 in labels with no predicted samples. Use `zero_division` parameter to control this behavior.\n",
      "  _warn_prf(average, modifier, msg_start, len(result))\n"
     ]
    },
    {
     "name": "stdout",
     "output_type": "stream",
     "text": [
      "Evolving has been disabled.\n",
      "Evolving has been enabled.\n"
     ]
    },
    {
     "name": "stderr",
     "output_type": "stream",
     "text": [
      "c:\\Users\\Miha\\anaconda3\\envs\\pytorch_env\\Lib\\site-packages\\sklearn\\metrics\\_classification.py:1471: UndefinedMetricWarning: Precision is ill-defined and being set to 0.0 in labels with no predicted samples. Use `zero_division` parameter to control this behavior.\n",
      "  _warn_prf(average, modifier, msg_start, len(result))\n"
     ]
    },
    {
     "name": "stdout",
     "output_type": "stream",
     "text": [
      "Evolving has been disabled.\n",
      "Evolving has been enabled.\n",
      "Evolving has been disabled.\n",
      "Updated var_glo values: tensor(0.3017, device='cuda:0')\n",
      "Updated var_glo values: tensor(0.6821, device='cuda:0')\n",
      "Updated var_glo values: tensor(0.6348, device='cuda:0')\n",
      "Updated var_glo values: tensor(0.6820, device='cuda:0')\n",
      "Evolving has been disabled.\n",
      "Evolving has been enabled.\n",
      "Evolving has been disabled.\n"
     ]
    },
    {
     "name": "stderr",
     "output_type": "stream",
     "text": [
      "c:\\Users\\Miha\\anaconda3\\envs\\pytorch_env\\Lib\\site-packages\\sklearn\\metrics\\_classification.py:1471: UndefinedMetricWarning: Precision is ill-defined and being set to 0.0 in labels with no predicted samples. Use `zero_division` parameter to control this behavior.\n",
      "  _warn_prf(average, modifier, msg_start, len(result))\n"
     ]
    },
    {
     "name": "stdout",
     "output_type": "stream",
     "text": [
      "Evolving has been enabled.\n",
      "Evolving has been disabled.\n",
      "Evolving has been enabled.\n"
     ]
    },
    {
     "name": "stderr",
     "output_type": "stream",
     "text": [
      "c:\\Users\\Miha\\anaconda3\\envs\\pytorch_env\\Lib\\site-packages\\sklearn\\metrics\\_classification.py:1471: UndefinedMetricWarning: Precision is ill-defined and being set to 0.0 in labels with no predicted samples. Use `zero_division` parameter to control this behavior.\n",
      "  _warn_prf(average, modifier, msg_start, len(result))\n"
     ]
    },
    {
     "name": "stdout",
     "output_type": "stream",
     "text": [
      "Evolving has been disabled.\n",
      "Evolving has been enabled.\n",
      "Evolving has been disabled.\n",
      "Updated var_glo values: tensor(0.1620, device='cuda:0')\n",
      "Updated var_glo values: tensor(0.6688, device='cuda:0')\n",
      "Updated var_glo values: tensor(0.6443, device='cuda:0')\n",
      "Updated var_glo values: tensor(0.6462, device='cuda:0')\n",
      "Evolving has been disabled.\n",
      "Evolving has been enabled.\n",
      "Evolving has been disabled.\n",
      "Evolving has been enabled.\n"
     ]
    },
    {
     "name": "stderr",
     "output_type": "stream",
     "text": [
      "c:\\Users\\Miha\\anaconda3\\envs\\pytorch_env\\Lib\\site-packages\\sklearn\\metrics\\_classification.py:1471: UndefinedMetricWarning: Precision is ill-defined and being set to 0.0 in labels with no predicted samples. Use `zero_division` parameter to control this behavior.\n",
      "  _warn_prf(average, modifier, msg_start, len(result))\n"
     ]
    },
    {
     "name": "stdout",
     "output_type": "stream",
     "text": [
      "Evolving has been disabled.\n",
      "Evolving has been enabled.\n"
     ]
    },
    {
     "name": "stderr",
     "output_type": "stream",
     "text": [
      "c:\\Users\\Miha\\anaconda3\\envs\\pytorch_env\\Lib\\site-packages\\sklearn\\metrics\\_classification.py:1471: UndefinedMetricWarning: Precision is ill-defined and being set to 0.0 in labels with no predicted samples. Use `zero_division` parameter to control this behavior.\n",
      "  _warn_prf(average, modifier, msg_start, len(result))\n"
     ]
    },
    {
     "name": "stdout",
     "output_type": "stream",
     "text": [
      "Evolving has been disabled.\n",
      "Evolving has been enabled.\n",
      "Evolving has been disabled.\n",
      "Updated var_glo values: tensor(0.4760, device='cuda:0')\n",
      "Updated var_glo values: tensor(0.7833, device='cuda:0')\n",
      "Updated var_glo values: tensor(0.7190, device='cuda:0')\n",
      "Updated var_glo values: tensor(0.6956, device='cuda:0')\n",
      "Evolving has been disabled.\n",
      "Evolving has been enabled.\n",
      "Evolving has been disabled.\n",
      "Evolving has been enabled.\n"
     ]
    },
    {
     "name": "stderr",
     "output_type": "stream",
     "text": [
      "c:\\Users\\Miha\\anaconda3\\envs\\pytorch_env\\Lib\\site-packages\\sklearn\\metrics\\_classification.py:1471: UndefinedMetricWarning: Precision is ill-defined and being set to 0.0 in labels with no predicted samples. Use `zero_division` parameter to control this behavior.\n",
      "  _warn_prf(average, modifier, msg_start, len(result))\n"
     ]
    },
    {
     "name": "stdout",
     "output_type": "stream",
     "text": [
      "Evolving has been disabled.\n",
      "Evolving has been enabled.\n"
     ]
    },
    {
     "name": "stderr",
     "output_type": "stream",
     "text": [
      "c:\\Users\\Miha\\anaconda3\\envs\\pytorch_env\\Lib\\site-packages\\sklearn\\metrics\\_classification.py:1471: UndefinedMetricWarning: Precision is ill-defined and being set to 0.0 in labels with no predicted samples. Use `zero_division` parameter to control this behavior.\n",
      "  _warn_prf(average, modifier, msg_start, len(result))\n"
     ]
    },
    {
     "name": "stdout",
     "output_type": "stream",
     "text": [
      "Evolving has been disabled.\n",
      "Evolving has been enabled.\n",
      "Evolving has been disabled.\n",
      "Updated var_glo values: tensor(0.4904, device='cuda:0')\n",
      "Updated var_glo values: tensor(0.7234, device='cuda:0')\n",
      "Updated var_glo values: tensor(0.7078, device='cuda:0')\n",
      "Updated var_glo values: tensor(0.6854, device='cuda:0')\n",
      "Evolving has been disabled.\n",
      "Evolving has been enabled.\n",
      "Evolving has been disabled.\n",
      "Evolving has been enabled.\n"
     ]
    },
    {
     "name": "stderr",
     "output_type": "stream",
     "text": [
      "c:\\Users\\Miha\\anaconda3\\envs\\pytorch_env\\Lib\\site-packages\\sklearn\\metrics\\_classification.py:1471: UndefinedMetricWarning: Precision is ill-defined and being set to 0.0 in labels with no predicted samples. Use `zero_division` parameter to control this behavior.\n",
      "  _warn_prf(average, modifier, msg_start, len(result))\n"
     ]
    },
    {
     "name": "stdout",
     "output_type": "stream",
     "text": [
      "Evolving has been disabled.\n",
      "Evolving has been enabled.\n"
     ]
    },
    {
     "name": "stderr",
     "output_type": "stream",
     "text": [
      "c:\\Users\\Miha\\anaconda3\\envs\\pytorch_env\\Lib\\site-packages\\sklearn\\metrics\\_classification.py:1471: UndefinedMetricWarning: Precision is ill-defined and being set to 0.0 in labels with no predicted samples. Use `zero_division` parameter to control this behavior.\n",
      "  _warn_prf(average, modifier, msg_start, len(result))\n"
     ]
    },
    {
     "name": "stdout",
     "output_type": "stream",
     "text": [
      "Evolving has been disabled.\n",
      "Evolving has been enabled.\n",
      "Evolving has been disabled.\n",
      "Updated var_glo values: tensor(0.4248, device='cuda:0')\n",
      "Updated var_glo values: tensor(0.5804, device='cuda:0')\n",
      "Updated var_glo values: tensor(0.6600, device='cuda:0')\n",
      "Updated var_glo values: tensor(0.6879, device='cuda:0')\n",
      "Evolving has been disabled.\n",
      "Evolving has been enabled.\n",
      "Evolving has been disabled.\n",
      "Evolving has been enabled.\n"
     ]
    },
    {
     "name": "stderr",
     "output_type": "stream",
     "text": [
      "c:\\Users\\Miha\\anaconda3\\envs\\pytorch_env\\Lib\\site-packages\\sklearn\\metrics\\_classification.py:1471: UndefinedMetricWarning: Precision is ill-defined and being set to 0.0 in labels with no predicted samples. Use `zero_division` parameter to control this behavior.\n",
      "  _warn_prf(average, modifier, msg_start, len(result))\n"
     ]
    },
    {
     "name": "stdout",
     "output_type": "stream",
     "text": [
      "Evolving has been disabled.\n",
      "Evolving has been enabled.\n"
     ]
    },
    {
     "name": "stderr",
     "output_type": "stream",
     "text": [
      "c:\\Users\\Miha\\anaconda3\\envs\\pytorch_env\\Lib\\site-packages\\sklearn\\metrics\\_classification.py:1471: UndefinedMetricWarning: Precision is ill-defined and being set to 0.0 in labels with no predicted samples. Use `zero_division` parameter to control this behavior.\n",
      "  _warn_prf(average, modifier, msg_start, len(result))\n"
     ]
    },
    {
     "name": "stdout",
     "output_type": "stream",
     "text": [
      "Evolving has been disabled.\n",
      "Evolving has been enabled.\n",
      "Evolving has been disabled.\n",
      "Updated var_glo values: tensor(0.3088, device='cuda:0')\n",
      "Updated var_glo values: tensor(0.6442, device='cuda:0')\n",
      "Updated var_glo values: tensor(0.6486, device='cuda:0')\n",
      "Updated var_glo values: tensor(0.6527, device='cuda:0')\n",
      "Evolving has been disabled.\n",
      "Evolving has been enabled.\n",
      "Evolving has been disabled.\n",
      "Evolving has been enabled.\n"
     ]
    },
    {
     "name": "stderr",
     "output_type": "stream",
     "text": [
      "c:\\Users\\Miha\\anaconda3\\envs\\pytorch_env\\Lib\\site-packages\\sklearn\\metrics\\_classification.py:1471: UndefinedMetricWarning: Precision is ill-defined and being set to 0.0 in labels with no predicted samples. Use `zero_division` parameter to control this behavior.\n",
      "  _warn_prf(average, modifier, msg_start, len(result))\n"
     ]
    },
    {
     "name": "stdout",
     "output_type": "stream",
     "text": [
      "Evolving has been disabled.\n",
      "Evolving has been enabled.\n"
     ]
    },
    {
     "name": "stderr",
     "output_type": "stream",
     "text": [
      "c:\\Users\\Miha\\anaconda3\\envs\\pytorch_env\\Lib\\site-packages\\sklearn\\metrics\\_classification.py:1471: UndefinedMetricWarning: Precision is ill-defined and being set to 0.0 in labels with no predicted samples. Use `zero_division` parameter to control this behavior.\n",
      "  _warn_prf(average, modifier, msg_start, len(result))\n"
     ]
    },
    {
     "name": "stdout",
     "output_type": "stream",
     "text": [
      "Evolving has been disabled.\n",
      "Evolving has been enabled.\n",
      "Evolving has been disabled.\n",
      "Updated var_glo values: tensor(0.2881, device='cuda:0')\n",
      "Updated var_glo values: tensor(0.7565, device='cuda:0')\n",
      "Updated var_glo values: tensor(0.6379, device='cuda:0')\n",
      "Updated var_glo values: tensor(0.6653, device='cuda:0')\n",
      "Evolving has been disabled.\n",
      "Evolving has been enabled.\n",
      "Evolving has been disabled.\n",
      "Evolving has been enabled.\n"
     ]
    },
    {
     "name": "stderr",
     "output_type": "stream",
     "text": [
      "c:\\Users\\Miha\\anaconda3\\envs\\pytorch_env\\Lib\\site-packages\\sklearn\\metrics\\_classification.py:1471: UndefinedMetricWarning: Precision is ill-defined and being set to 0.0 in labels with no predicted samples. Use `zero_division` parameter to control this behavior.\n",
      "  _warn_prf(average, modifier, msg_start, len(result))\n"
     ]
    },
    {
     "name": "stdout",
     "output_type": "stream",
     "text": [
      "Evolving has been disabled.\n",
      "Evolving has been enabled.\n"
     ]
    },
    {
     "name": "stderr",
     "output_type": "stream",
     "text": [
      "c:\\Users\\Miha\\anaconda3\\envs\\pytorch_env\\Lib\\site-packages\\sklearn\\metrics\\_classification.py:1471: UndefinedMetricWarning: Precision is ill-defined and being set to 0.0 in labels with no predicted samples. Use `zero_division` parameter to control this behavior.\n",
      "  _warn_prf(average, modifier, msg_start, len(result))\n"
     ]
    },
    {
     "name": "stdout",
     "output_type": "stream",
     "text": [
      "Evolving has been disabled.\n",
      "Evolving has been enabled.\n",
      "Evolving has been disabled.\n",
      "Updated var_glo values: tensor(0.4046, device='cuda:0')\n",
      "Updated var_glo values: tensor(0.7816, device='cuda:0')\n",
      "Updated var_glo values: tensor(0.6695, device='cuda:0')\n",
      "Updated var_glo values: tensor(0.6895, device='cuda:0')\n",
      "Evolving has been disabled.\n",
      "Evolving has been enabled.\n",
      "Evolving has been disabled.\n"
     ]
    },
    {
     "name": "stderr",
     "output_type": "stream",
     "text": [
      "c:\\Users\\Miha\\anaconda3\\envs\\pytorch_env\\Lib\\site-packages\\sklearn\\metrics\\_classification.py:1471: UndefinedMetricWarning: Precision is ill-defined and being set to 0.0 in labels with no predicted samples. Use `zero_division` parameter to control this behavior.\n",
      "  _warn_prf(average, modifier, msg_start, len(result))\n"
     ]
    },
    {
     "name": "stdout",
     "output_type": "stream",
     "text": [
      "Evolving has been enabled.\n",
      "Evolving has been disabled.\n",
      "Evolving has been enabled.\n"
     ]
    },
    {
     "name": "stderr",
     "output_type": "stream",
     "text": [
      "c:\\Users\\Miha\\anaconda3\\envs\\pytorch_env\\Lib\\site-packages\\sklearn\\metrics\\_classification.py:1471: UndefinedMetricWarning: Precision is ill-defined and being set to 0.0 in labels with no predicted samples. Use `zero_division` parameter to control this behavior.\n",
      "  _warn_prf(average, modifier, msg_start, len(result))\n"
     ]
    },
    {
     "name": "stdout",
     "output_type": "stream",
     "text": [
      "Evolving has been disabled.\n",
      "Evolving has been enabled.\n",
      "Evolving has been disabled.\n",
      "Updated var_glo values: tensor(0.6827, device='cuda:0')\n",
      "Updated var_glo values: tensor(0.7724, device='cuda:0')\n",
      "Updated var_glo values: tensor(0.6947, device='cuda:0')\n",
      "Updated var_glo values: tensor(0.6916, device='cuda:0')\n",
      "Evolving has been disabled.\n",
      "Evolving has been enabled.\n",
      "Evolving has been disabled.\n",
      "Evolving has been enabled.\n"
     ]
    },
    {
     "name": "stderr",
     "output_type": "stream",
     "text": [
      "c:\\Users\\Miha\\anaconda3\\envs\\pytorch_env\\Lib\\site-packages\\sklearn\\metrics\\_classification.py:1471: UndefinedMetricWarning: Precision is ill-defined and being set to 0.0 in labels with no predicted samples. Use `zero_division` parameter to control this behavior.\n",
      "  _warn_prf(average, modifier, msg_start, len(result))\n"
     ]
    },
    {
     "name": "stdout",
     "output_type": "stream",
     "text": [
      "Evolving has been disabled.\n",
      "Evolving has been enabled.\n"
     ]
    },
    {
     "name": "stderr",
     "output_type": "stream",
     "text": [
      "c:\\Users\\Miha\\anaconda3\\envs\\pytorch_env\\Lib\\site-packages\\sklearn\\metrics\\_classification.py:1471: UndefinedMetricWarning: Precision is ill-defined and being set to 0.0 in labels with no predicted samples. Use `zero_division` parameter to control this behavior.\n",
      "  _warn_prf(average, modifier, msg_start, len(result))\n"
     ]
    },
    {
     "name": "stdout",
     "output_type": "stream",
     "text": [
      "Evolving has been disabled.\n",
      "Evolving has been enabled.\n",
      "Evolving has been disabled.\n",
      "Updated var_glo values: tensor(0.3355, device='cuda:0')\n",
      "Updated var_glo values: tensor(0.5801, device='cuda:0')\n",
      "Updated var_glo values: tensor(0.6827, device='cuda:0')\n",
      "Updated var_glo values: tensor(0.7017, device='cuda:0')\n",
      "Evolving has been disabled.\n",
      "Evolving has been enabled.\n",
      "Evolving has been disabled.\n",
      "Evolving has been enabled.\n"
     ]
    },
    {
     "name": "stderr",
     "output_type": "stream",
     "text": [
      "c:\\Users\\Miha\\anaconda3\\envs\\pytorch_env\\Lib\\site-packages\\sklearn\\metrics\\_classification.py:1471: UndefinedMetricWarning: Precision is ill-defined and being set to 0.0 in labels with no predicted samples. Use `zero_division` parameter to control this behavior.\n",
      "  _warn_prf(average, modifier, msg_start, len(result))\n"
     ]
    },
    {
     "name": "stdout",
     "output_type": "stream",
     "text": [
      "Evolving has been disabled.\n",
      "Evolving has been enabled.\n"
     ]
    },
    {
     "name": "stderr",
     "output_type": "stream",
     "text": [
      "c:\\Users\\Miha\\anaconda3\\envs\\pytorch_env\\Lib\\site-packages\\sklearn\\metrics\\_classification.py:1471: UndefinedMetricWarning: Precision is ill-defined and being set to 0.0 in labels with no predicted samples. Use `zero_division` parameter to control this behavior.\n",
      "  _warn_prf(average, modifier, msg_start, len(result))\n"
     ]
    },
    {
     "name": "stdout",
     "output_type": "stream",
     "text": [
      "Evolving has been disabled.\n",
      "Evolving has been enabled.\n",
      "Evolving has been disabled.\n",
      "Updated var_glo values: tensor(0.4459, device='cuda:0')\n",
      "Updated var_glo values: tensor(1.0142, device='cuda:0')\n",
      "Updated var_glo values: tensor(0.7532, device='cuda:0')\n",
      "Updated var_glo values: tensor(0.7333, device='cuda:0')\n",
      "Evolving has been disabled.\n",
      "Evolving has been enabled.\n",
      "Evolving has been disabled.\n",
      "Evolving has been enabled.\n"
     ]
    },
    {
     "name": "stderr",
     "output_type": "stream",
     "text": [
      "c:\\Users\\Miha\\anaconda3\\envs\\pytorch_env\\Lib\\site-packages\\sklearn\\metrics\\_classification.py:1471: UndefinedMetricWarning: Precision is ill-defined and being set to 0.0 in labels with no predicted samples. Use `zero_division` parameter to control this behavior.\n",
      "  _warn_prf(average, modifier, msg_start, len(result))\n"
     ]
    },
    {
     "name": "stdout",
     "output_type": "stream",
     "text": [
      "Evolving has been disabled.\n",
      "Evolving has been enabled.\n"
     ]
    },
    {
     "name": "stderr",
     "output_type": "stream",
     "text": [
      "c:\\Users\\Miha\\anaconda3\\envs\\pytorch_env\\Lib\\site-packages\\sklearn\\metrics\\_classification.py:1471: UndefinedMetricWarning: Precision is ill-defined and being set to 0.0 in labels with no predicted samples. Use `zero_division` parameter to control this behavior.\n",
      "  _warn_prf(average, modifier, msg_start, len(result))\n"
     ]
    },
    {
     "name": "stdout",
     "output_type": "stream",
     "text": [
      "Evolving has been disabled.\n",
      "Evolving has been enabled.\n",
      "Evolving has been disabled.\n",
      "Updated var_glo values: tensor(0.4829, device='cuda:0')\n",
      "Updated var_glo values: tensor(0.8271, device='cuda:0')\n",
      "Updated var_glo values: tensor(0.6906, device='cuda:0')\n",
      "Updated var_glo values: tensor(0.6953, device='cuda:0')\n",
      "Evolving has been disabled.\n",
      "Evolving has been enabled.\n",
      "Evolving has been disabled.\n"
     ]
    },
    {
     "name": "stderr",
     "output_type": "stream",
     "text": [
      "c:\\Users\\Miha\\anaconda3\\envs\\pytorch_env\\Lib\\site-packages\\sklearn\\metrics\\_classification.py:1471: UndefinedMetricWarning: Precision is ill-defined and being set to 0.0 in labels with no predicted samples. Use `zero_division` parameter to control this behavior.\n",
      "  _warn_prf(average, modifier, msg_start, len(result))\n"
     ]
    },
    {
     "name": "stdout",
     "output_type": "stream",
     "text": [
      "Evolving has been enabled.\n",
      "Evolving has been disabled.\n",
      "Evolving has been enabled.\n"
     ]
    },
    {
     "name": "stderr",
     "output_type": "stream",
     "text": [
      "c:\\Users\\Miha\\anaconda3\\envs\\pytorch_env\\Lib\\site-packages\\sklearn\\metrics\\_classification.py:1471: UndefinedMetricWarning: Precision is ill-defined and being set to 0.0 in labels with no predicted samples. Use `zero_division` parameter to control this behavior.\n",
      "  _warn_prf(average, modifier, msg_start, len(result))\n"
     ]
    },
    {
     "name": "stdout",
     "output_type": "stream",
     "text": [
      "Evolving has been disabled.\n",
      "Evolving has been enabled.\n",
      "Evolving has been disabled.\n",
      "Updated var_glo values: tensor(0.4515, device='cuda:0')\n",
      "Updated var_glo values: tensor(0.8147, device='cuda:0')\n",
      "Updated var_glo values: tensor(0.7513, device='cuda:0')\n",
      "Updated var_glo values: tensor(0.7164, device='cuda:0')\n",
      "Evolving has been disabled.\n",
      "Evolving has been enabled.\n",
      "Evolving has been disabled.\n"
     ]
    },
    {
     "name": "stderr",
     "output_type": "stream",
     "text": [
      "c:\\Users\\Miha\\anaconda3\\envs\\pytorch_env\\Lib\\site-packages\\sklearn\\metrics\\_classification.py:1471: UndefinedMetricWarning: Precision is ill-defined and being set to 0.0 in labels with no predicted samples. Use `zero_division` parameter to control this behavior.\n",
      "  _warn_prf(average, modifier, msg_start, len(result))\n"
     ]
    },
    {
     "name": "stdout",
     "output_type": "stream",
     "text": [
      "Evolving has been enabled.\n",
      "Evolving has been disabled.\n",
      "Evolving has been enabled.\n"
     ]
    },
    {
     "name": "stderr",
     "output_type": "stream",
     "text": [
      "c:\\Users\\Miha\\anaconda3\\envs\\pytorch_env\\Lib\\site-packages\\sklearn\\metrics\\_classification.py:1471: UndefinedMetricWarning: Precision is ill-defined and being set to 0.0 in labels with no predicted samples. Use `zero_division` parameter to control this behavior.\n",
      "  _warn_prf(average, modifier, msg_start, len(result))\n"
     ]
    },
    {
     "name": "stdout",
     "output_type": "stream",
     "text": [
      "Evolving has been disabled.\n",
      "Evolving has been enabled.\n",
      "Evolving has been disabled.\n",
      "Updated var_glo values: tensor(0.2833, device='cuda:0')\n",
      "Updated var_glo values: tensor(0.6610, device='cuda:0')\n",
      "Updated var_glo values: tensor(0.6133, device='cuda:0')\n",
      "Updated var_glo values: tensor(0.5761, device='cuda:0')\n",
      "Evolving has been disabled.\n",
      "Evolving has been enabled.\n",
      "Evolving has been disabled.\n",
      "Evolving has been enabled.\n"
     ]
    },
    {
     "name": "stderr",
     "output_type": "stream",
     "text": [
      "c:\\Users\\Miha\\anaconda3\\envs\\pytorch_env\\Lib\\site-packages\\sklearn\\metrics\\_classification.py:1471: UndefinedMetricWarning: Precision is ill-defined and being set to 0.0 in labels with no predicted samples. Use `zero_division` parameter to control this behavior.\n",
      "  _warn_prf(average, modifier, msg_start, len(result))\n"
     ]
    },
    {
     "name": "stdout",
     "output_type": "stream",
     "text": [
      "Evolving has been disabled.\n",
      "Evolving has been enabled.\n"
     ]
    },
    {
     "name": "stderr",
     "output_type": "stream",
     "text": [
      "c:\\Users\\Miha\\anaconda3\\envs\\pytorch_env\\Lib\\site-packages\\sklearn\\metrics\\_classification.py:1471: UndefinedMetricWarning: Precision is ill-defined and being set to 0.0 in labels with no predicted samples. Use `zero_division` parameter to control this behavior.\n",
      "  _warn_prf(average, modifier, msg_start, len(result))\n"
     ]
    },
    {
     "name": "stdout",
     "output_type": "stream",
     "text": [
      "Evolving has been disabled.\n",
      "Evolving has been enabled.\n",
      "Evolving has been disabled.\n",
      "Updated var_glo values: tensor(0.6358, device='cuda:0')\n",
      "Updated var_glo values: tensor(0.7840, device='cuda:0')\n",
      "Updated var_glo values: tensor(0.6492, device='cuda:0')\n",
      "Updated var_glo values: tensor(0.6753, device='cuda:0')\n",
      "Evolving has been disabled.\n",
      "Evolving has been enabled.\n",
      "Evolving has been disabled.\n",
      "Evolving has been enabled.\n"
     ]
    },
    {
     "name": "stderr",
     "output_type": "stream",
     "text": [
      "c:\\Users\\Miha\\anaconda3\\envs\\pytorch_env\\Lib\\site-packages\\sklearn\\metrics\\_classification.py:1471: UndefinedMetricWarning: Precision is ill-defined and being set to 0.0 in labels with no predicted samples. Use `zero_division` parameter to control this behavior.\n",
      "  _warn_prf(average, modifier, msg_start, len(result))\n"
     ]
    },
    {
     "name": "stdout",
     "output_type": "stream",
     "text": [
      "Evolving has been disabled.\n",
      "Evolving has been enabled.\n"
     ]
    },
    {
     "name": "stderr",
     "output_type": "stream",
     "text": [
      "c:\\Users\\Miha\\anaconda3\\envs\\pytorch_env\\Lib\\site-packages\\sklearn\\metrics\\_classification.py:1471: UndefinedMetricWarning: Precision is ill-defined and being set to 0.0 in labels with no predicted samples. Use `zero_division` parameter to control this behavior.\n",
      "  _warn_prf(average, modifier, msg_start, len(result))\n"
     ]
    },
    {
     "name": "stdout",
     "output_type": "stream",
     "text": [
      "Evolving has been disabled.\n",
      "Evolving has been enabled.\n",
      "Evolving has been disabled.\n",
      "Updated var_glo values: tensor(0.2490, device='cuda:0')\n",
      "Updated var_glo values: tensor(0.5941, device='cuda:0')\n",
      "Updated var_glo values: tensor(0.6879, device='cuda:0')\n",
      "Updated var_glo values: tensor(0.6993, device='cuda:0')\n",
      "Evolving has been disabled.\n",
      "Evolving has been enabled.\n",
      "Evolving has been disabled.\n",
      "Evolving has been enabled.\n"
     ]
    },
    {
     "name": "stderr",
     "output_type": "stream",
     "text": [
      "c:\\Users\\Miha\\anaconda3\\envs\\pytorch_env\\Lib\\site-packages\\sklearn\\metrics\\_classification.py:1471: UndefinedMetricWarning: Precision is ill-defined and being set to 0.0 in labels with no predicted samples. Use `zero_division` parameter to control this behavior.\n",
      "  _warn_prf(average, modifier, msg_start, len(result))\n"
     ]
    },
    {
     "name": "stdout",
     "output_type": "stream",
     "text": [
      "Evolving has been disabled.\n",
      "Evolving has been enabled.\n"
     ]
    },
    {
     "name": "stderr",
     "output_type": "stream",
     "text": [
      "c:\\Users\\Miha\\anaconda3\\envs\\pytorch_env\\Lib\\site-packages\\sklearn\\metrics\\_classification.py:1471: UndefinedMetricWarning: Precision is ill-defined and being set to 0.0 in labels with no predicted samples. Use `zero_division` parameter to control this behavior.\n",
      "  _warn_prf(average, modifier, msg_start, len(result))\n"
     ]
    },
    {
     "name": "stdout",
     "output_type": "stream",
     "text": [
      "Evolving has been disabled.\n",
      "Evolving has been enabled.\n",
      "Evolving has been disabled.\n",
      "Updated var_glo values: tensor(0.3730, device='cuda:0')\n",
      "Updated var_glo values: tensor(0.7896, device='cuda:0')\n",
      "Updated var_glo values: tensor(0.6799, device='cuda:0')\n",
      "Updated var_glo values: tensor(0.6840, device='cuda:0')\n",
      "Evolving has been disabled.\n",
      "Evolving has been enabled.\n",
      "Evolving has been disabled.\n"
     ]
    },
    {
     "name": "stderr",
     "output_type": "stream",
     "text": [
      "c:\\Users\\Miha\\anaconda3\\envs\\pytorch_env\\Lib\\site-packages\\sklearn\\metrics\\_classification.py:1471: UndefinedMetricWarning: Precision is ill-defined and being set to 0.0 in labels with no predicted samples. Use `zero_division` parameter to control this behavior.\n",
      "  _warn_prf(average, modifier, msg_start, len(result))\n"
     ]
    },
    {
     "name": "stdout",
     "output_type": "stream",
     "text": [
      "Evolving has been enabled.\n",
      "Evolving has been disabled.\n",
      "Evolving has been enabled.\n"
     ]
    },
    {
     "name": "stderr",
     "output_type": "stream",
     "text": [
      "c:\\Users\\Miha\\anaconda3\\envs\\pytorch_env\\Lib\\site-packages\\sklearn\\metrics\\_classification.py:1471: UndefinedMetricWarning: Precision is ill-defined and being set to 0.0 in labels with no predicted samples. Use `zero_division` parameter to control this behavior.\n",
      "  _warn_prf(average, modifier, msg_start, len(result))\n"
     ]
    },
    {
     "name": "stdout",
     "output_type": "stream",
     "text": [
      "Evolving has been disabled.\n",
      "Evolving has been enabled.\n",
      "Evolving has been disabled.\n",
      "Updated var_glo values: tensor(0.4862, device='cuda:0')\n",
      "Updated var_glo values: tensor(0.8455, device='cuda:0')\n",
      "Updated var_glo values: tensor(0.7881, device='cuda:0')\n",
      "Updated var_glo values: tensor(0.7134, device='cuda:0')\n",
      "Evolving has been disabled.\n",
      "Evolving has been enabled.\n",
      "Evolving has been disabled.\n"
     ]
    },
    {
     "name": "stderr",
     "output_type": "stream",
     "text": [
      "c:\\Users\\Miha\\anaconda3\\envs\\pytorch_env\\Lib\\site-packages\\sklearn\\metrics\\_classification.py:1471: UndefinedMetricWarning: Precision is ill-defined and being set to 0.0 in labels with no predicted samples. Use `zero_division` parameter to control this behavior.\n",
      "  _warn_prf(average, modifier, msg_start, len(result))\n"
     ]
    },
    {
     "name": "stdout",
     "output_type": "stream",
     "text": [
      "Evolving has been enabled.\n",
      "Evolving has been disabled.\n",
      "Evolving has been enabled.\n"
     ]
    },
    {
     "name": "stderr",
     "output_type": "stream",
     "text": [
      "c:\\Users\\Miha\\anaconda3\\envs\\pytorch_env\\Lib\\site-packages\\sklearn\\metrics\\_classification.py:1471: UndefinedMetricWarning: Precision is ill-defined and being set to 0.0 in labels with no predicted samples. Use `zero_division` parameter to control this behavior.\n",
      "  _warn_prf(average, modifier, msg_start, len(result))\n"
     ]
    },
    {
     "name": "stdout",
     "output_type": "stream",
     "text": [
      "Evolving has been disabled.\n",
      "Evolving has been enabled.\n",
      "Evolving has been disabled.\n",
      "Updated var_glo values: tensor(0.2492, device='cuda:0')\n",
      "Updated var_glo values: tensor(0.6948, device='cuda:0')\n",
      "Updated var_glo values: tensor(0.5981, device='cuda:0')\n",
      "Updated var_glo values: tensor(0.6096, device='cuda:0')\n",
      "Evolving has been disabled.\n",
      "Evolving has been enabled.\n",
      "Evolving has been disabled.\n"
     ]
    },
    {
     "name": "stderr",
     "output_type": "stream",
     "text": [
      "c:\\Users\\Miha\\anaconda3\\envs\\pytorch_env\\Lib\\site-packages\\sklearn\\metrics\\_classification.py:1471: UndefinedMetricWarning: Precision is ill-defined and being set to 0.0 in labels with no predicted samples. Use `zero_division` parameter to control this behavior.\n",
      "  _warn_prf(average, modifier, msg_start, len(result))\n"
     ]
    },
    {
     "name": "stdout",
     "output_type": "stream",
     "text": [
      "Evolving has been enabled.\n",
      "Evolving has been disabled.\n",
      "Evolving has been enabled.\n"
     ]
    },
    {
     "name": "stderr",
     "output_type": "stream",
     "text": [
      "c:\\Users\\Miha\\anaconda3\\envs\\pytorch_env\\Lib\\site-packages\\sklearn\\metrics\\_classification.py:1471: UndefinedMetricWarning: Precision is ill-defined and being set to 0.0 in labels with no predicted samples. Use `zero_division` parameter to control this behavior.\n",
      "  _warn_prf(average, modifier, msg_start, len(result))\n"
     ]
    },
    {
     "name": "stdout",
     "output_type": "stream",
     "text": [
      "Evolving has been disabled.\n",
      "Evolving has been enabled.\n",
      "Evolving has been disabled.\n",
      "Updated var_glo values: tensor(0.5197, device='cuda:0')\n",
      "Updated var_glo values: tensor(0.8109, device='cuda:0')\n",
      "Updated var_glo values: tensor(0.6402, device='cuda:0')\n",
      "Updated var_glo values: tensor(0.6949, device='cuda:0')\n",
      "Evolving has been disabled.\n",
      "Evolving has been enabled.\n",
      "Evolving has been disabled.\n",
      "Evolving has been enabled.\n"
     ]
    },
    {
     "name": "stderr",
     "output_type": "stream",
     "text": [
      "c:\\Users\\Miha\\anaconda3\\envs\\pytorch_env\\Lib\\site-packages\\sklearn\\metrics\\_classification.py:1471: UndefinedMetricWarning: Precision is ill-defined and being set to 0.0 in labels with no predicted samples. Use `zero_division` parameter to control this behavior.\n",
      "  _warn_prf(average, modifier, msg_start, len(result))\n"
     ]
    },
    {
     "name": "stdout",
     "output_type": "stream",
     "text": [
      "Evolving has been disabled.\n",
      "Evolving has been enabled.\n"
     ]
    },
    {
     "name": "stderr",
     "output_type": "stream",
     "text": [
      "c:\\Users\\Miha\\anaconda3\\envs\\pytorch_env\\Lib\\site-packages\\sklearn\\metrics\\_classification.py:1471: UndefinedMetricWarning: Precision is ill-defined and being set to 0.0 in labels with no predicted samples. Use `zero_division` parameter to control this behavior.\n",
      "  _warn_prf(average, modifier, msg_start, len(result))\n"
     ]
    },
    {
     "name": "stdout",
     "output_type": "stream",
     "text": [
      "Evolving has been disabled.\n",
      "Evolving has been enabled.\n",
      "Evolving has been disabled.\n",
      "Updated var_glo values: tensor(0.3682, device='cuda:0')\n",
      "Updated var_glo values: tensor(0.7670, device='cuda:0')\n",
      "Updated var_glo values: tensor(0.7125, device='cuda:0')\n",
      "Updated var_glo values: tensor(0.7539, device='cuda:0')\n",
      "Evolving has been disabled.\n",
      "Evolving has been enabled.\n",
      "Evolving has been disabled.\n",
      "Evolving has been enabled.\n"
     ]
    },
    {
     "name": "stderr",
     "output_type": "stream",
     "text": [
      "c:\\Users\\Miha\\anaconda3\\envs\\pytorch_env\\Lib\\site-packages\\sklearn\\metrics\\_classification.py:1471: UndefinedMetricWarning: Precision is ill-defined and being set to 0.0 in labels with no predicted samples. Use `zero_division` parameter to control this behavior.\n",
      "  _warn_prf(average, modifier, msg_start, len(result))\n"
     ]
    },
    {
     "name": "stdout",
     "output_type": "stream",
     "text": [
      "Evolving has been disabled.\n",
      "Evolving has been enabled.\n"
     ]
    },
    {
     "name": "stderr",
     "output_type": "stream",
     "text": [
      "c:\\Users\\Miha\\anaconda3\\envs\\pytorch_env\\Lib\\site-packages\\sklearn\\metrics\\_classification.py:1471: UndefinedMetricWarning: Precision is ill-defined and being set to 0.0 in labels with no predicted samples. Use `zero_division` parameter to control this behavior.\n",
      "  _warn_prf(average, modifier, msg_start, len(result))\n"
     ]
    },
    {
     "name": "stdout",
     "output_type": "stream",
     "text": [
      "Evolving has been disabled.\n",
      "Evolving has been enabled.\n",
      "Evolving has been disabled.\n",
      "Updated var_glo values: tensor(0.3291, device='cuda:0')\n",
      "Updated var_glo values: tensor(0.7849, device='cuda:0')\n",
      "Updated var_glo values: tensor(0.6806, device='cuda:0')\n",
      "Updated var_glo values: tensor(0.6683, device='cuda:0')\n",
      "Evolving has been disabled.\n",
      "Evolving has been enabled.\n",
      "Evolving has been disabled.\n"
     ]
    },
    {
     "name": "stderr",
     "output_type": "stream",
     "text": [
      "c:\\Users\\Miha\\anaconda3\\envs\\pytorch_env\\Lib\\site-packages\\sklearn\\metrics\\_classification.py:1471: UndefinedMetricWarning: Precision is ill-defined and being set to 0.0 in labels with no predicted samples. Use `zero_division` parameter to control this behavior.\n",
      "  _warn_prf(average, modifier, msg_start, len(result))\n"
     ]
    },
    {
     "name": "stdout",
     "output_type": "stream",
     "text": [
      "Evolving has been enabled.\n",
      "Evolving has been disabled.\n",
      "Evolving has been enabled.\n"
     ]
    },
    {
     "name": "stderr",
     "output_type": "stream",
     "text": [
      "c:\\Users\\Miha\\anaconda3\\envs\\pytorch_env\\Lib\\site-packages\\sklearn\\metrics\\_classification.py:1471: UndefinedMetricWarning: Precision is ill-defined and being set to 0.0 in labels with no predicted samples. Use `zero_division` parameter to control this behavior.\n",
      "  _warn_prf(average, modifier, msg_start, len(result))\n"
     ]
    },
    {
     "name": "stdout",
     "output_type": "stream",
     "text": [
      "Evolving has been disabled.\n",
      "Evolving has been enabled.\n",
      "Evolving has been disabled.\n",
      "Updated var_glo values: tensor(0.7146, device='cuda:0')\n",
      "Updated var_glo values: tensor(0.9150, device='cuda:0')\n",
      "Updated var_glo values: tensor(0.6728, device='cuda:0')\n",
      "Updated var_glo values: tensor(0.6876, device='cuda:0')\n",
      "Evolving has been disabled.\n",
      "Evolving has been enabled.\n",
      "Evolving has been disabled.\n",
      "Evolving has been enabled.\n"
     ]
    },
    {
     "name": "stderr",
     "output_type": "stream",
     "text": [
      "c:\\Users\\Miha\\anaconda3\\envs\\pytorch_env\\Lib\\site-packages\\sklearn\\metrics\\_classification.py:1471: UndefinedMetricWarning: Precision is ill-defined and being set to 0.0 in labels with no predicted samples. Use `zero_division` parameter to control this behavior.\n",
      "  _warn_prf(average, modifier, msg_start, len(result))\n"
     ]
    },
    {
     "name": "stdout",
     "output_type": "stream",
     "text": [
      "Evolving has been disabled.\n",
      "Evolving has been enabled.\n"
     ]
    },
    {
     "name": "stderr",
     "output_type": "stream",
     "text": [
      "c:\\Users\\Miha\\anaconda3\\envs\\pytorch_env\\Lib\\site-packages\\sklearn\\metrics\\_classification.py:1471: UndefinedMetricWarning: Precision is ill-defined and being set to 0.0 in labels with no predicted samples. Use `zero_division` parameter to control this behavior.\n",
      "  _warn_prf(average, modifier, msg_start, len(result))\n"
     ]
    },
    {
     "name": "stdout",
     "output_type": "stream",
     "text": [
      "Evolving has been disabled.\n",
      "Evolving has been enabled.\n",
      "Evolving has been disabled.\n",
      "Updated var_glo values: tensor(0.5081, device='cuda:0')\n",
      "Updated var_glo values: tensor(0.7387, device='cuda:0')\n",
      "Updated var_glo values: tensor(0.6341, device='cuda:0')\n",
      "Updated var_glo values: tensor(0.6304, device='cuda:0')\n",
      "Evolving has been disabled.\n",
      "Evolving has been enabled.\n",
      "Evolving has been disabled.\n",
      "Evolving has been enabled.\n"
     ]
    },
    {
     "name": "stderr",
     "output_type": "stream",
     "text": [
      "c:\\Users\\Miha\\anaconda3\\envs\\pytorch_env\\Lib\\site-packages\\sklearn\\metrics\\_classification.py:1471: UndefinedMetricWarning: Precision is ill-defined and being set to 0.0 in labels with no predicted samples. Use `zero_division` parameter to control this behavior.\n",
      "  _warn_prf(average, modifier, msg_start, len(result))\n"
     ]
    },
    {
     "name": "stdout",
     "output_type": "stream",
     "text": [
      "Evolving has been disabled.\n",
      "Evolving has been enabled.\n"
     ]
    },
    {
     "name": "stderr",
     "output_type": "stream",
     "text": [
      "c:\\Users\\Miha\\anaconda3\\envs\\pytorch_env\\Lib\\site-packages\\sklearn\\metrics\\_classification.py:1471: UndefinedMetricWarning: Precision is ill-defined and being set to 0.0 in labels with no predicted samples. Use `zero_division` parameter to control this behavior.\n",
      "  _warn_prf(average, modifier, msg_start, len(result))\n"
     ]
    },
    {
     "name": "stdout",
     "output_type": "stream",
     "text": [
      "Evolving has been disabled.\n",
      "Evolving has been enabled.\n",
      "Evolving has been disabled.\n",
      "Updated var_glo values: tensor(0.3411, device='cuda:0')\n",
      "Updated var_glo values: tensor(0.6491, device='cuda:0')\n",
      "Updated var_glo values: tensor(0.6606, device='cuda:0')\n",
      "Updated var_glo values: tensor(0.6592, device='cuda:0')\n",
      "Evolving has been disabled.\n",
      "Evolving has been enabled.\n",
      "Evolving has been disabled.\n"
     ]
    },
    {
     "name": "stderr",
     "output_type": "stream",
     "text": [
      "c:\\Users\\Miha\\anaconda3\\envs\\pytorch_env\\Lib\\site-packages\\sklearn\\metrics\\_classification.py:1471: UndefinedMetricWarning: Precision is ill-defined and being set to 0.0 in labels with no predicted samples. Use `zero_division` parameter to control this behavior.\n",
      "  _warn_prf(average, modifier, msg_start, len(result))\n"
     ]
    },
    {
     "name": "stdout",
     "output_type": "stream",
     "text": [
      "Evolving has been enabled.\n",
      "Evolving has been disabled.\n",
      "Evolving has been enabled.\n"
     ]
    },
    {
     "name": "stderr",
     "output_type": "stream",
     "text": [
      "c:\\Users\\Miha\\anaconda3\\envs\\pytorch_env\\Lib\\site-packages\\sklearn\\metrics\\_classification.py:1471: UndefinedMetricWarning: Precision is ill-defined and being set to 0.0 in labels with no predicted samples. Use `zero_division` parameter to control this behavior.\n",
      "  _warn_prf(average, modifier, msg_start, len(result))\n"
     ]
    },
    {
     "name": "stdout",
     "output_type": "stream",
     "text": [
      "Evolving has been disabled.\n",
      "Evolving has been enabled.\n",
      "Evolving has been disabled.\n",
      "Updated var_glo values: tensor(0.2979, device='cuda:0')\n",
      "Updated var_glo values: tensor(0.6891, device='cuda:0')\n",
      "Updated var_glo values: tensor(0.6218, device='cuda:0')\n",
      "Updated var_glo values: tensor(0.6428, device='cuda:0')\n",
      "Evolving has been disabled.\n",
      "Evolving has been enabled.\n",
      "Evolving has been disabled.\n",
      "Evolving has been enabled.\n"
     ]
    },
    {
     "name": "stderr",
     "output_type": "stream",
     "text": [
      "c:\\Users\\Miha\\anaconda3\\envs\\pytorch_env\\Lib\\site-packages\\sklearn\\metrics\\_classification.py:1471: UndefinedMetricWarning: Precision is ill-defined and being set to 0.0 in labels with no predicted samples. Use `zero_division` parameter to control this behavior.\n",
      "  _warn_prf(average, modifier, msg_start, len(result))\n"
     ]
    },
    {
     "name": "stdout",
     "output_type": "stream",
     "text": [
      "Evolving has been disabled.\n",
      "Evolving has been enabled.\n"
     ]
    },
    {
     "name": "stderr",
     "output_type": "stream",
     "text": [
      "c:\\Users\\Miha\\anaconda3\\envs\\pytorch_env\\Lib\\site-packages\\sklearn\\metrics\\_classification.py:1471: UndefinedMetricWarning: Precision is ill-defined and being set to 0.0 in labels with no predicted samples. Use `zero_division` parameter to control this behavior.\n",
      "  _warn_prf(average, modifier, msg_start, len(result))\n"
     ]
    },
    {
     "name": "stdout",
     "output_type": "stream",
     "text": [
      "Evolving has been disabled.\n",
      "Evolving has been enabled.\n",
      "Evolving has been disabled.\n",
      "Updated var_glo values: tensor(0.1924, device='cuda:0')\n",
      "Updated var_glo values: tensor(0.5661, device='cuda:0')\n",
      "Updated var_glo values: tensor(0.6068, device='cuda:0')\n",
      "Updated var_glo values: tensor(0.6505, device='cuda:0')\n",
      "Evolving has been disabled.\n",
      "Evolving has been enabled.\n",
      "Evolving has been disabled.\n"
     ]
    },
    {
     "name": "stderr",
     "output_type": "stream",
     "text": [
      "c:\\Users\\Miha\\anaconda3\\envs\\pytorch_env\\Lib\\site-packages\\sklearn\\metrics\\_classification.py:1471: UndefinedMetricWarning: Precision is ill-defined and being set to 0.0 in labels with no predicted samples. Use `zero_division` parameter to control this behavior.\n",
      "  _warn_prf(average, modifier, msg_start, len(result))\n"
     ]
    },
    {
     "name": "stdout",
     "output_type": "stream",
     "text": [
      "Evolving has been enabled.\n",
      "Evolving has been disabled.\n",
      "Evolving has been enabled.\n"
     ]
    },
    {
     "name": "stderr",
     "output_type": "stream",
     "text": [
      "c:\\Users\\Miha\\anaconda3\\envs\\pytorch_env\\Lib\\site-packages\\sklearn\\metrics\\_classification.py:1471: UndefinedMetricWarning: Precision is ill-defined and being set to 0.0 in labels with no predicted samples. Use `zero_division` parameter to control this behavior.\n",
      "  _warn_prf(average, modifier, msg_start, len(result))\n"
     ]
    },
    {
     "name": "stdout",
     "output_type": "stream",
     "text": [
      "Evolving has been disabled.\n",
      "Evolving has been enabled.\n",
      "Evolving has been disabled.\n",
      "Updated var_glo values: tensor(0.2944, device='cuda:0')\n",
      "Updated var_glo values: tensor(0.6478, device='cuda:0')\n",
      "Updated var_glo values: tensor(0.6748, device='cuda:0')\n",
      "Updated var_glo values: tensor(0.7097, device='cuda:0')\n",
      "Evolving has been disabled.\n",
      "Evolving has been enabled.\n",
      "Evolving has been disabled.\n",
      "Evolving has been enabled.\n"
     ]
    },
    {
     "name": "stderr",
     "output_type": "stream",
     "text": [
      "c:\\Users\\Miha\\anaconda3\\envs\\pytorch_env\\Lib\\site-packages\\sklearn\\metrics\\_classification.py:1471: UndefinedMetricWarning: Precision is ill-defined and being set to 0.0 in labels with no predicted samples. Use `zero_division` parameter to control this behavior.\n",
      "  _warn_prf(average, modifier, msg_start, len(result))\n"
     ]
    },
    {
     "name": "stdout",
     "output_type": "stream",
     "text": [
      "Evolving has been disabled.\n",
      "Evolving has been enabled.\n"
     ]
    },
    {
     "name": "stderr",
     "output_type": "stream",
     "text": [
      "c:\\Users\\Miha\\anaconda3\\envs\\pytorch_env\\Lib\\site-packages\\sklearn\\metrics\\_classification.py:1471: UndefinedMetricWarning: Precision is ill-defined and being set to 0.0 in labels with no predicted samples. Use `zero_division` parameter to control this behavior.\n",
      "  _warn_prf(average, modifier, msg_start, len(result))\n"
     ]
    },
    {
     "name": "stdout",
     "output_type": "stream",
     "text": [
      "Evolving has been disabled.\n",
      "Evolving has been enabled.\n",
      "Evolving has been disabled.\n",
      "Updated var_glo values: tensor(0.3479, device='cuda:0')\n",
      "Updated var_glo values: tensor(0.7890, device='cuda:0')\n",
      "Updated var_glo values: tensor(0.6609, device='cuda:0')\n",
      "Updated var_glo values: tensor(0.6921, device='cuda:0')\n",
      "Evolving has been disabled.\n",
      "Evolving has been enabled.\n",
      "Evolving has been disabled.\n",
      "Evolving has been enabled.\n"
     ]
    },
    {
     "name": "stderr",
     "output_type": "stream",
     "text": [
      "c:\\Users\\Miha\\anaconda3\\envs\\pytorch_env\\Lib\\site-packages\\sklearn\\metrics\\_classification.py:1471: UndefinedMetricWarning: Precision is ill-defined and being set to 0.0 in labels with no predicted samples. Use `zero_division` parameter to control this behavior.\n",
      "  _warn_prf(average, modifier, msg_start, len(result))\n"
     ]
    },
    {
     "name": "stdout",
     "output_type": "stream",
     "text": [
      "Evolving has been disabled.\n",
      "Evolving has been enabled.\n"
     ]
    },
    {
     "name": "stderr",
     "output_type": "stream",
     "text": [
      "c:\\Users\\Miha\\anaconda3\\envs\\pytorch_env\\Lib\\site-packages\\sklearn\\metrics\\_classification.py:1471: UndefinedMetricWarning: Precision is ill-defined and being set to 0.0 in labels with no predicted samples. Use `zero_division` parameter to control this behavior.\n",
      "  _warn_prf(average, modifier, msg_start, len(result))\n"
     ]
    },
    {
     "name": "stdout",
     "output_type": "stream",
     "text": [
      "Evolving has been disabled.\n",
      "Evolving has been enabled.\n",
      "Evolving has been disabled.\n",
      "Updated var_glo values: tensor(0.3913, device='cuda:0')\n",
      "Updated var_glo values: tensor(0.7858, device='cuda:0')\n",
      "Updated var_glo values: tensor(0.7678, device='cuda:0')\n",
      "Updated var_glo values: tensor(0.7097, device='cuda:0')\n",
      "Evolving has been disabled.\n",
      "Evolving has been enabled.\n",
      "Evolving has been disabled.\n",
      "Evolving has been enabled.\n"
     ]
    },
    {
     "name": "stderr",
     "output_type": "stream",
     "text": [
      "c:\\Users\\Miha\\anaconda3\\envs\\pytorch_env\\Lib\\site-packages\\sklearn\\metrics\\_classification.py:1471: UndefinedMetricWarning: Precision is ill-defined and being set to 0.0 in labels with no predicted samples. Use `zero_division` parameter to control this behavior.\n",
      "  _warn_prf(average, modifier, msg_start, len(result))\n"
     ]
    },
    {
     "name": "stdout",
     "output_type": "stream",
     "text": [
      "Evolving has been disabled.\n",
      "Evolving has been enabled.\n"
     ]
    },
    {
     "name": "stderr",
     "output_type": "stream",
     "text": [
      "c:\\Users\\Miha\\anaconda3\\envs\\pytorch_env\\Lib\\site-packages\\sklearn\\metrics\\_classification.py:1471: UndefinedMetricWarning: Precision is ill-defined and being set to 0.0 in labels with no predicted samples. Use `zero_division` parameter to control this behavior.\n",
      "  _warn_prf(average, modifier, msg_start, len(result))\n"
     ]
    },
    {
     "name": "stdout",
     "output_type": "stream",
     "text": [
      "Evolving has been disabled.\n",
      "Evolving has been enabled.\n",
      "Evolving has been disabled.\n",
      "Updated var_glo values: tensor(0.3747, device='cuda:0')\n",
      "Updated var_glo values: tensor(0.6997, device='cuda:0')\n",
      "Updated var_glo values: tensor(0.7323, device='cuda:0')\n",
      "Updated var_glo values: tensor(0.7265, device='cuda:0')\n",
      "Evolving has been disabled.\n",
      "Evolving has been enabled.\n",
      "Evolving has been disabled.\n",
      "Evolving has been enabled.\n"
     ]
    },
    {
     "name": "stderr",
     "output_type": "stream",
     "text": [
      "c:\\Users\\Miha\\anaconda3\\envs\\pytorch_env\\Lib\\site-packages\\sklearn\\metrics\\_classification.py:1471: UndefinedMetricWarning: Precision is ill-defined and being set to 0.0 in labels with no predicted samples. Use `zero_division` parameter to control this behavior.\n",
      "  _warn_prf(average, modifier, msg_start, len(result))\n"
     ]
    },
    {
     "name": "stdout",
     "output_type": "stream",
     "text": [
      "Evolving has been disabled.\n",
      "Evolving has been enabled.\n"
     ]
    },
    {
     "name": "stderr",
     "output_type": "stream",
     "text": [
      "c:\\Users\\Miha\\anaconda3\\envs\\pytorch_env\\Lib\\site-packages\\sklearn\\metrics\\_classification.py:1471: UndefinedMetricWarning: Precision is ill-defined and being set to 0.0 in labels with no predicted samples. Use `zero_division` parameter to control this behavior.\n",
      "  _warn_prf(average, modifier, msg_start, len(result))\n"
     ]
    },
    {
     "name": "stdout",
     "output_type": "stream",
     "text": [
      "Evolving has been disabled.\n",
      "Evolving has been enabled.\n",
      "Evolving has been disabled.\n",
      "Updated var_glo values: tensor(0.2554, device='cuda:0')\n",
      "Updated var_glo values: tensor(0.7706, device='cuda:0')\n",
      "Updated var_glo values: tensor(0.7027, device='cuda:0')\n",
      "Updated var_glo values: tensor(0.6525, device='cuda:0')\n",
      "Evolving has been disabled.\n",
      "Evolving has been enabled.\n",
      "Evolving has been disabled.\n"
     ]
    },
    {
     "name": "stderr",
     "output_type": "stream",
     "text": [
      "c:\\Users\\Miha\\anaconda3\\envs\\pytorch_env\\Lib\\site-packages\\sklearn\\metrics\\_classification.py:1471: UndefinedMetricWarning: Precision is ill-defined and being set to 0.0 in labels with no predicted samples. Use `zero_division` parameter to control this behavior.\n",
      "  _warn_prf(average, modifier, msg_start, len(result))\n"
     ]
    },
    {
     "name": "stdout",
     "output_type": "stream",
     "text": [
      "Evolving has been enabled.\n",
      "Evolving has been disabled.\n",
      "Evolving has been enabled.\n"
     ]
    },
    {
     "name": "stderr",
     "output_type": "stream",
     "text": [
      "c:\\Users\\Miha\\anaconda3\\envs\\pytorch_env\\Lib\\site-packages\\sklearn\\metrics\\_classification.py:1471: UndefinedMetricWarning: Precision is ill-defined and being set to 0.0 in labels with no predicted samples. Use `zero_division` parameter to control this behavior.\n",
      "  _warn_prf(average, modifier, msg_start, len(result))\n"
     ]
    },
    {
     "name": "stdout",
     "output_type": "stream",
     "text": [
      "Evolving has been disabled.\n",
      "Evolving has been enabled.\n",
      "Evolving has been disabled.\n",
      "Updated var_glo values: tensor(0.3861, device='cuda:0')\n",
      "Updated var_glo values: tensor(0.6857, device='cuda:0')\n",
      "Updated var_glo values: tensor(0.7085, device='cuda:0')\n",
      "Updated var_glo values: tensor(0.6906, device='cuda:0')\n",
      "Evolving has been disabled.\n",
      "Evolving has been enabled.\n",
      "Evolving has been disabled.\n"
     ]
    },
    {
     "name": "stderr",
     "output_type": "stream",
     "text": [
      "c:\\Users\\Miha\\anaconda3\\envs\\pytorch_env\\Lib\\site-packages\\sklearn\\metrics\\_classification.py:1471: UndefinedMetricWarning: Precision is ill-defined and being set to 0.0 in labels with no predicted samples. Use `zero_division` parameter to control this behavior.\n",
      "  _warn_prf(average, modifier, msg_start, len(result))\n"
     ]
    },
    {
     "name": "stdout",
     "output_type": "stream",
     "text": [
      "Evolving has been enabled.\n",
      "Evolving has been disabled.\n",
      "Evolving has been enabled.\n"
     ]
    },
    {
     "name": "stderr",
     "output_type": "stream",
     "text": [
      "c:\\Users\\Miha\\anaconda3\\envs\\pytorch_env\\Lib\\site-packages\\sklearn\\metrics\\_classification.py:1471: UndefinedMetricWarning: Precision is ill-defined and being set to 0.0 in labels with no predicted samples. Use `zero_division` parameter to control this behavior.\n",
      "  _warn_prf(average, modifier, msg_start, len(result))\n"
     ]
    },
    {
     "name": "stdout",
     "output_type": "stream",
     "text": [
      "Evolving has been disabled.\n",
      "Evolving has been enabled.\n",
      "Evolving has been disabled.\n",
      "Updated var_glo values: tensor(0.2083, device='cuda:0')\n",
      "Updated var_glo values: tensor(0.7341, device='cuda:0')\n",
      "Updated var_glo values: tensor(0.6469, device='cuda:0')\n",
      "Updated var_glo values: tensor(0.6989, device='cuda:0')\n",
      "Evolving has been disabled.\n",
      "Evolving has been enabled.\n",
      "Evolving has been disabled.\n",
      "Evolving has been enabled.\n",
      "Evolving has been disabled.\n"
     ]
    },
    {
     "name": "stderr",
     "output_type": "stream",
     "text": [
      "c:\\Users\\Miha\\anaconda3\\envs\\pytorch_env\\Lib\\site-packages\\sklearn\\metrics\\_classification.py:1471: UndefinedMetricWarning: Precision is ill-defined and being set to 0.0 in labels with no predicted samples. Use `zero_division` parameter to control this behavior.\n",
      "  _warn_prf(average, modifier, msg_start, len(result))\n",
      "c:\\Users\\Miha\\anaconda3\\envs\\pytorch_env\\Lib\\site-packages\\sklearn\\metrics\\_classification.py:1471: UndefinedMetricWarning: Precision is ill-defined and being set to 0.0 in labels with no predicted samples. Use `zero_division` parameter to control this behavior.\n",
      "  _warn_prf(average, modifier, msg_start, len(result))\n"
     ]
    },
    {
     "name": "stdout",
     "output_type": "stream",
     "text": [
      "Evolving has been enabled.\n",
      "Evolving has been disabled.\n",
      "Evolving has been enabled.\n",
      "Evolving has been disabled.\n",
      "Updated var_glo values: tensor(0.4991, device='cuda:0')\n",
      "Updated var_glo values: tensor(0.8606, device='cuda:0')\n",
      "Updated var_glo values: tensor(0.6464, device='cuda:0')\n",
      "Updated var_glo values: tensor(0.6333, device='cuda:0')\n",
      "Evolving has been disabled.\n",
      "Evolving has been enabled.\n",
      "Evolving has been disabled.\n"
     ]
    },
    {
     "name": "stderr",
     "output_type": "stream",
     "text": [
      "c:\\Users\\Miha\\anaconda3\\envs\\pytorch_env\\Lib\\site-packages\\sklearn\\metrics\\_classification.py:1471: UndefinedMetricWarning: Precision is ill-defined and being set to 0.0 in labels with no predicted samples. Use `zero_division` parameter to control this behavior.\n",
      "  _warn_prf(average, modifier, msg_start, len(result))\n"
     ]
    },
    {
     "name": "stdout",
     "output_type": "stream",
     "text": [
      "Evolving has been enabled.\n",
      "Evolving has been disabled.\n",
      "Evolving has been enabled.\n"
     ]
    },
    {
     "name": "stderr",
     "output_type": "stream",
     "text": [
      "c:\\Users\\Miha\\anaconda3\\envs\\pytorch_env\\Lib\\site-packages\\sklearn\\metrics\\_classification.py:1471: UndefinedMetricWarning: Precision is ill-defined and being set to 0.0 in labels with no predicted samples. Use `zero_division` parameter to control this behavior.\n",
      "  _warn_prf(average, modifier, msg_start, len(result))\n"
     ]
    },
    {
     "name": "stdout",
     "output_type": "stream",
     "text": [
      "Evolving has been disabled.\n",
      "Evolving has been enabled.\n",
      "Evolving has been disabled.\n",
      "Updated var_glo values: tensor(0.4828, device='cuda:0')\n",
      "Updated var_glo values: tensor(0.7467, device='cuda:0')\n",
      "Updated var_glo values: tensor(0.6524, device='cuda:0')\n",
      "Updated var_glo values: tensor(0.7267, device='cuda:0')\n",
      "Evolving has been disabled.\n",
      "Evolving has been enabled.\n",
      "Evolving has been disabled.\n",
      "Evolving has been enabled.\n"
     ]
    },
    {
     "name": "stderr",
     "output_type": "stream",
     "text": [
      "c:\\Users\\Miha\\anaconda3\\envs\\pytorch_env\\Lib\\site-packages\\sklearn\\metrics\\_classification.py:1471: UndefinedMetricWarning: Precision is ill-defined and being set to 0.0 in labels with no predicted samples. Use `zero_division` parameter to control this behavior.\n",
      "  _warn_prf(average, modifier, msg_start, len(result))\n"
     ]
    },
    {
     "name": "stdout",
     "output_type": "stream",
     "text": [
      "Evolving has been disabled.\n",
      "Evolving has been enabled.\n"
     ]
    },
    {
     "name": "stderr",
     "output_type": "stream",
     "text": [
      "c:\\Users\\Miha\\anaconda3\\envs\\pytorch_env\\Lib\\site-packages\\sklearn\\metrics\\_classification.py:1471: UndefinedMetricWarning: Precision is ill-defined and being set to 0.0 in labels with no predicted samples. Use `zero_division` parameter to control this behavior.\n",
      "  _warn_prf(average, modifier, msg_start, len(result))\n"
     ]
    },
    {
     "name": "stdout",
     "output_type": "stream",
     "text": [
      "Evolving has been disabled.\n",
      "Evolving has been enabled.\n",
      "Evolving has been disabled.\n",
      "Updated var_glo values: tensor(0.3817, device='cuda:0')\n",
      "Updated var_glo values: tensor(0.7022, device='cuda:0')\n",
      "Updated var_glo values: tensor(0.6642, device='cuda:0')\n",
      "Updated var_glo values: tensor(0.6509, device='cuda:0')\n",
      "Evolving has been disabled.\n",
      "Evolving has been enabled.\n",
      "Evolving has been disabled.\n",
      "Evolving has been enabled.\n"
     ]
    },
    {
     "name": "stderr",
     "output_type": "stream",
     "text": [
      "c:\\Users\\Miha\\anaconda3\\envs\\pytorch_env\\Lib\\site-packages\\sklearn\\metrics\\_classification.py:1471: UndefinedMetricWarning: Precision is ill-defined and being set to 0.0 in labels with no predicted samples. Use `zero_division` parameter to control this behavior.\n",
      "  _warn_prf(average, modifier, msg_start, len(result))\n"
     ]
    },
    {
     "name": "stdout",
     "output_type": "stream",
     "text": [
      "Evolving has been disabled.\n",
      "Evolving has been enabled.\n"
     ]
    },
    {
     "name": "stderr",
     "output_type": "stream",
     "text": [
      "c:\\Users\\Miha\\anaconda3\\envs\\pytorch_env\\Lib\\site-packages\\sklearn\\metrics\\_classification.py:1471: UndefinedMetricWarning: Precision is ill-defined and being set to 0.0 in labels with no predicted samples. Use `zero_division` parameter to control this behavior.\n",
      "  _warn_prf(average, modifier, msg_start, len(result))\n"
     ]
    },
    {
     "name": "stdout",
     "output_type": "stream",
     "text": [
      "Evolving has been disabled.\n",
      "Evolving has been enabled.\n",
      "Evolving has been disabled.\n",
      "Updated var_glo values: tensor(0.5086, device='cuda:0')\n",
      "Updated var_glo values: tensor(0.7147, device='cuda:0')\n",
      "Updated var_glo values: tensor(0.6575, device='cuda:0')\n",
      "Updated var_glo values: tensor(0.6583, device='cuda:0')\n",
      "Evolving has been disabled.\n",
      "Evolving has been enabled.\n",
      "Evolving has been disabled.\n"
     ]
    },
    {
     "name": "stderr",
     "output_type": "stream",
     "text": [
      "c:\\Users\\Miha\\anaconda3\\envs\\pytorch_env\\Lib\\site-packages\\sklearn\\metrics\\_classification.py:1471: UndefinedMetricWarning: Precision is ill-defined and being set to 0.0 in labels with no predicted samples. Use `zero_division` parameter to control this behavior.\n",
      "  _warn_prf(average, modifier, msg_start, len(result))\n"
     ]
    },
    {
     "name": "stdout",
     "output_type": "stream",
     "text": [
      "Evolving has been enabled.\n",
      "Evolving has been disabled.\n",
      "Evolving has been enabled.\n"
     ]
    },
    {
     "name": "stderr",
     "output_type": "stream",
     "text": [
      "c:\\Users\\Miha\\anaconda3\\envs\\pytorch_env\\Lib\\site-packages\\sklearn\\metrics\\_classification.py:1471: UndefinedMetricWarning: Precision is ill-defined and being set to 0.0 in labels with no predicted samples. Use `zero_division` parameter to control this behavior.\n",
      "  _warn_prf(average, modifier, msg_start, len(result))\n"
     ]
    },
    {
     "name": "stdout",
     "output_type": "stream",
     "text": [
      "Evolving has been disabled.\n",
      "Evolving has been enabled.\n",
      "Evolving has been disabled.\n",
      "Updated var_glo values: tensor(0.2700, device='cuda:0')\n",
      "Updated var_glo values: tensor(0.7419, device='cuda:0')\n",
      "Updated var_glo values: tensor(0.6918, device='cuda:0')\n",
      "Updated var_glo values: tensor(0.7171, device='cuda:0')\n",
      "Evolving has been disabled.\n",
      "Evolving has been enabled.\n",
      "Evolving has been disabled.\n",
      "Evolving has been enabled.\n"
     ]
    },
    {
     "name": "stderr",
     "output_type": "stream",
     "text": [
      "c:\\Users\\Miha\\anaconda3\\envs\\pytorch_env\\Lib\\site-packages\\sklearn\\metrics\\_classification.py:1471: UndefinedMetricWarning: Precision is ill-defined and being set to 0.0 in labels with no predicted samples. Use `zero_division` parameter to control this behavior.\n",
      "  _warn_prf(average, modifier, msg_start, len(result))\n"
     ]
    },
    {
     "name": "stdout",
     "output_type": "stream",
     "text": [
      "Evolving has been disabled.\n",
      "Evolving has been enabled.\n"
     ]
    },
    {
     "name": "stderr",
     "output_type": "stream",
     "text": [
      "c:\\Users\\Miha\\anaconda3\\envs\\pytorch_env\\Lib\\site-packages\\sklearn\\metrics\\_classification.py:1471: UndefinedMetricWarning: Precision is ill-defined and being set to 0.0 in labels with no predicted samples. Use `zero_division` parameter to control this behavior.\n",
      "  _warn_prf(average, modifier, msg_start, len(result))\n"
     ]
    },
    {
     "name": "stdout",
     "output_type": "stream",
     "text": [
      "Evolving has been disabled.\n",
      "Evolving has been enabled.\n",
      "Evolving has been disabled.\n",
      "Updated var_glo values: tensor(0.3743, device='cuda:0')\n",
      "Updated var_glo values: tensor(0.6715, device='cuda:0')\n",
      "Updated var_glo values: tensor(0.6892, device='cuda:0')\n",
      "Updated var_glo values: tensor(0.6502, device='cuda:0')\n",
      "Evolving has been disabled.\n",
      "Evolving has been enabled.\n",
      "Evolving has been disabled.\n",
      "Evolving has been enabled.\n"
     ]
    },
    {
     "name": "stderr",
     "output_type": "stream",
     "text": [
      "c:\\Users\\Miha\\anaconda3\\envs\\pytorch_env\\Lib\\site-packages\\sklearn\\metrics\\_classification.py:1471: UndefinedMetricWarning: Precision is ill-defined and being set to 0.0 in labels with no predicted samples. Use `zero_division` parameter to control this behavior.\n",
      "  _warn_prf(average, modifier, msg_start, len(result))\n"
     ]
    },
    {
     "name": "stdout",
     "output_type": "stream",
     "text": [
      "Evolving has been disabled.\n",
      "Evolving has been enabled.\n"
     ]
    },
    {
     "name": "stderr",
     "output_type": "stream",
     "text": [
      "c:\\Users\\Miha\\anaconda3\\envs\\pytorch_env\\Lib\\site-packages\\sklearn\\metrics\\_classification.py:1471: UndefinedMetricWarning: Precision is ill-defined and being set to 0.0 in labels with no predicted samples. Use `zero_division` parameter to control this behavior.\n",
      "  _warn_prf(average, modifier, msg_start, len(result))\n"
     ]
    },
    {
     "name": "stdout",
     "output_type": "stream",
     "text": [
      "Evolving has been disabled.\n",
      "Evolving has been enabled.\n",
      "Evolving has been disabled.\n",
      "Updated var_glo values: tensor(0.5572, device='cuda:0')\n",
      "Updated var_glo values: tensor(0.6803, device='cuda:0')\n",
      "Updated var_glo values: tensor(0.6487, device='cuda:0')\n",
      "Updated var_glo values: tensor(0.7155, device='cuda:0')\n",
      "Evolving has been disabled.\n",
      "Evolving has been enabled.\n",
      "Evolving has been disabled.\n",
      "Evolving has been enabled.\n"
     ]
    },
    {
     "name": "stderr",
     "output_type": "stream",
     "text": [
      "c:\\Users\\Miha\\anaconda3\\envs\\pytorch_env\\Lib\\site-packages\\sklearn\\metrics\\_classification.py:1471: UndefinedMetricWarning: Precision is ill-defined and being set to 0.0 in labels with no predicted samples. Use `zero_division` parameter to control this behavior.\n",
      "  _warn_prf(average, modifier, msg_start, len(result))\n"
     ]
    },
    {
     "name": "stdout",
     "output_type": "stream",
     "text": [
      "Evolving has been disabled.\n",
      "Evolving has been enabled.\n"
     ]
    },
    {
     "name": "stderr",
     "output_type": "stream",
     "text": [
      "c:\\Users\\Miha\\anaconda3\\envs\\pytorch_env\\Lib\\site-packages\\sklearn\\metrics\\_classification.py:1471: UndefinedMetricWarning: Precision is ill-defined and being set to 0.0 in labels with no predicted samples. Use `zero_division` parameter to control this behavior.\n",
      "  _warn_prf(average, modifier, msg_start, len(result))\n"
     ]
    },
    {
     "name": "stdout",
     "output_type": "stream",
     "text": [
      "Evolving has been disabled.\n",
      "Evolving has been enabled.\n",
      "Evolving has been disabled.\n",
      "Updated var_glo values: tensor(0.4376, device='cuda:0')\n",
      "Updated var_glo values: tensor(0.6863, device='cuda:0')\n",
      "Updated var_glo values: tensor(0.6816, device='cuda:0')\n",
      "Updated var_glo values: tensor(0.7113, device='cuda:0')\n",
      "Evolving has been disabled.\n",
      "Evolving has been enabled.\n",
      "Evolving has been disabled.\n",
      "Evolving has been enabled.\n"
     ]
    },
    {
     "name": "stderr",
     "output_type": "stream",
     "text": [
      "c:\\Users\\Miha\\anaconda3\\envs\\pytorch_env\\Lib\\site-packages\\sklearn\\metrics\\_classification.py:1471: UndefinedMetricWarning: Precision is ill-defined and being set to 0.0 in labels with no predicted samples. Use `zero_division` parameter to control this behavior.\n",
      "  _warn_prf(average, modifier, msg_start, len(result))\n"
     ]
    },
    {
     "name": "stdout",
     "output_type": "stream",
     "text": [
      "Evolving has been disabled.\n",
      "Evolving has been enabled.\n"
     ]
    },
    {
     "name": "stderr",
     "output_type": "stream",
     "text": [
      "c:\\Users\\Miha\\anaconda3\\envs\\pytorch_env\\Lib\\site-packages\\sklearn\\metrics\\_classification.py:1471: UndefinedMetricWarning: Precision is ill-defined and being set to 0.0 in labels with no predicted samples. Use `zero_division` parameter to control this behavior.\n",
      "  _warn_prf(average, modifier, msg_start, len(result))\n"
     ]
    },
    {
     "name": "stdout",
     "output_type": "stream",
     "text": [
      "Evolving has been disabled.\n",
      "Evolving has been enabled.\n",
      "Evolving has been disabled.\n",
      "Updated var_glo values: tensor(0.3778, device='cuda:0')\n",
      "Updated var_glo values: tensor(0.7871, device='cuda:0')\n",
      "Updated var_glo values: tensor(0.6648, device='cuda:0')\n",
      "Updated var_glo values: tensor(0.6452, device='cuda:0')\n",
      "Evolving has been disabled.\n",
      "Evolving has been enabled.\n",
      "Evolving has been disabled.\n",
      "Evolving has been enabled.\n"
     ]
    },
    {
     "name": "stderr",
     "output_type": "stream",
     "text": [
      "c:\\Users\\Miha\\anaconda3\\envs\\pytorch_env\\Lib\\site-packages\\sklearn\\metrics\\_classification.py:1471: UndefinedMetricWarning: Precision is ill-defined and being set to 0.0 in labels with no predicted samples. Use `zero_division` parameter to control this behavior.\n",
      "  _warn_prf(average, modifier, msg_start, len(result))\n"
     ]
    },
    {
     "name": "stdout",
     "output_type": "stream",
     "text": [
      "Evolving has been disabled.\n",
      "Evolving has been enabled.\n"
     ]
    },
    {
     "name": "stderr",
     "output_type": "stream",
     "text": [
      "c:\\Users\\Miha\\anaconda3\\envs\\pytorch_env\\Lib\\site-packages\\sklearn\\metrics\\_classification.py:1471: UndefinedMetricWarning: Precision is ill-defined and being set to 0.0 in labels with no predicted samples. Use `zero_division` parameter to control this behavior.\n",
      "  _warn_prf(average, modifier, msg_start, len(result))\n"
     ]
    },
    {
     "name": "stdout",
     "output_type": "stream",
     "text": [
      "Evolving has been disabled.\n",
      "Evolving has been enabled.\n",
      "Evolving has been disabled.\n",
      "Updated var_glo values: tensor(0.3103, device='cuda:0')\n",
      "Updated var_glo values: tensor(0.7321, device='cuda:0')\n",
      "Updated var_glo values: tensor(0.6267, device='cuda:0')\n",
      "Updated var_glo values: tensor(0.6458, device='cuda:0')\n",
      "Evolving has been disabled.\n",
      "Evolving has been enabled.\n",
      "Evolving has been disabled.\n"
     ]
    },
    {
     "name": "stderr",
     "output_type": "stream",
     "text": [
      "c:\\Users\\Miha\\anaconda3\\envs\\pytorch_env\\Lib\\site-packages\\sklearn\\metrics\\_classification.py:1471: UndefinedMetricWarning: Precision is ill-defined and being set to 0.0 in labels with no predicted samples. Use `zero_division` parameter to control this behavior.\n",
      "  _warn_prf(average, modifier, msg_start, len(result))\n"
     ]
    },
    {
     "name": "stdout",
     "output_type": "stream",
     "text": [
      "Evolving has been enabled.\n",
      "Evolving has been disabled.\n",
      "Evolving has been enabled.\n"
     ]
    },
    {
     "name": "stderr",
     "output_type": "stream",
     "text": [
      "c:\\Users\\Miha\\anaconda3\\envs\\pytorch_env\\Lib\\site-packages\\sklearn\\metrics\\_classification.py:1471: UndefinedMetricWarning: Precision is ill-defined and being set to 0.0 in labels with no predicted samples. Use `zero_division` parameter to control this behavior.\n",
      "  _warn_prf(average, modifier, msg_start, len(result))\n"
     ]
    },
    {
     "name": "stdout",
     "output_type": "stream",
     "text": [
      "Evolving has been disabled.\n",
      "Evolving has been enabled.\n",
      "Evolving has been disabled.\n",
      "Updated var_glo values: tensor(0.3734, device='cuda:0')\n",
      "Updated var_glo values: tensor(0.5836, device='cuda:0')\n",
      "Updated var_glo values: tensor(0.6390, device='cuda:0')\n",
      "Updated var_glo values: tensor(0.6860, device='cuda:0')\n",
      "Evolving has been disabled.\n",
      "Evolving has been enabled.\n",
      "Evolving has been disabled.\n",
      "Evolving has been enabled.\n"
     ]
    },
    {
     "name": "stderr",
     "output_type": "stream",
     "text": [
      "c:\\Users\\Miha\\anaconda3\\envs\\pytorch_env\\Lib\\site-packages\\sklearn\\metrics\\_classification.py:1471: UndefinedMetricWarning: Precision is ill-defined and being set to 0.0 in labels with no predicted samples. Use `zero_division` parameter to control this behavior.\n",
      "  _warn_prf(average, modifier, msg_start, len(result))\n"
     ]
    },
    {
     "name": "stdout",
     "output_type": "stream",
     "text": [
      "Evolving has been disabled.\n",
      "Evolving has been enabled.\n"
     ]
    },
    {
     "name": "stderr",
     "output_type": "stream",
     "text": [
      "c:\\Users\\Miha\\anaconda3\\envs\\pytorch_env\\Lib\\site-packages\\sklearn\\metrics\\_classification.py:1471: UndefinedMetricWarning: Precision is ill-defined and being set to 0.0 in labels with no predicted samples. Use `zero_division` parameter to control this behavior.\n",
      "  _warn_prf(average, modifier, msg_start, len(result))\n"
     ]
    },
    {
     "name": "stdout",
     "output_type": "stream",
     "text": [
      "Evolving has been disabled.\n",
      "Evolving has been enabled.\n",
      "Evolving has been disabled.\n",
      "Updated var_glo values: tensor(0.5580, device='cuda:0')\n",
      "Updated var_glo values: tensor(0.8894, device='cuda:0')\n",
      "Updated var_glo values: tensor(0.7904, device='cuda:0')\n",
      "Updated var_glo values: tensor(0.7206, device='cuda:0')\n",
      "Evolving has been disabled.\n",
      "Evolving has been enabled.\n",
      "Evolving has been disabled.\n"
     ]
    },
    {
     "name": "stderr",
     "output_type": "stream",
     "text": [
      "c:\\Users\\Miha\\anaconda3\\envs\\pytorch_env\\Lib\\site-packages\\sklearn\\metrics\\_classification.py:1471: UndefinedMetricWarning: Precision is ill-defined and being set to 0.0 in labels with no predicted samples. Use `zero_division` parameter to control this behavior.\n",
      "  _warn_prf(average, modifier, msg_start, len(result))\n"
     ]
    },
    {
     "name": "stdout",
     "output_type": "stream",
     "text": [
      "Evolving has been enabled.\n",
      "Evolving has been disabled.\n",
      "Evolving has been enabled.\n"
     ]
    },
    {
     "name": "stderr",
     "output_type": "stream",
     "text": [
      "c:\\Users\\Miha\\anaconda3\\envs\\pytorch_env\\Lib\\site-packages\\sklearn\\metrics\\_classification.py:1471: UndefinedMetricWarning: Precision is ill-defined and being set to 0.0 in labels with no predicted samples. Use `zero_division` parameter to control this behavior.\n",
      "  _warn_prf(average, modifier, msg_start, len(result))\n"
     ]
    },
    {
     "name": "stdout",
     "output_type": "stream",
     "text": [
      "Evolving has been disabled.\n",
      "Evolving has been enabled.\n",
      "Evolving has been disabled.\n",
      "Updated var_glo values: tensor(0.3209, device='cuda:0')\n",
      "Updated var_glo values: tensor(0.6472, device='cuda:0')\n",
      "Updated var_glo values: tensor(0.6280, device='cuda:0')\n",
      "Updated var_glo values: tensor(0.6234, device='cuda:0')\n",
      "Evolving has been disabled.\n",
      "Evolving has been enabled.\n",
      "Evolving has been disabled.\n",
      "Evolving has been enabled.\n"
     ]
    },
    {
     "name": "stderr",
     "output_type": "stream",
     "text": [
      "c:\\Users\\Miha\\anaconda3\\envs\\pytorch_env\\Lib\\site-packages\\sklearn\\metrics\\_classification.py:1471: UndefinedMetricWarning: Precision is ill-defined and being set to 0.0 in labels with no predicted samples. Use `zero_division` parameter to control this behavior.\n",
      "  _warn_prf(average, modifier, msg_start, len(result))\n"
     ]
    },
    {
     "name": "stdout",
     "output_type": "stream",
     "text": [
      "Evolving has been disabled.\n",
      "Evolving has been enabled.\n"
     ]
    },
    {
     "name": "stderr",
     "output_type": "stream",
     "text": [
      "c:\\Users\\Miha\\anaconda3\\envs\\pytorch_env\\Lib\\site-packages\\sklearn\\metrics\\_classification.py:1471: UndefinedMetricWarning: Precision is ill-defined and being set to 0.0 in labels with no predicted samples. Use `zero_division` parameter to control this behavior.\n",
      "  _warn_prf(average, modifier, msg_start, len(result))\n"
     ]
    },
    {
     "name": "stdout",
     "output_type": "stream",
     "text": [
      "Evolving has been disabled.\n",
      "Evolving has been enabled.\n",
      "Evolving has been disabled.\n",
      "Updated var_glo values: tensor(0.4558, device='cuda:0')\n",
      "Updated var_glo values: tensor(0.7173, device='cuda:0')\n",
      "Updated var_glo values: tensor(0.6801, device='cuda:0')\n",
      "Updated var_glo values: tensor(0.6750, device='cuda:0')\n",
      "Evolving has been disabled.\n",
      "Evolving has been enabled.\n",
      "Evolving has been disabled.\n"
     ]
    },
    {
     "name": "stderr",
     "output_type": "stream",
     "text": [
      "c:\\Users\\Miha\\anaconda3\\envs\\pytorch_env\\Lib\\site-packages\\sklearn\\metrics\\_classification.py:1471: UndefinedMetricWarning: Precision is ill-defined and being set to 0.0 in labels with no predicted samples. Use `zero_division` parameter to control this behavior.\n",
      "  _warn_prf(average, modifier, msg_start, len(result))\n"
     ]
    },
    {
     "name": "stdout",
     "output_type": "stream",
     "text": [
      "Evolving has been enabled.\n",
      "Evolving has been disabled.\n",
      "Evolving has been enabled.\n"
     ]
    },
    {
     "name": "stderr",
     "output_type": "stream",
     "text": [
      "c:\\Users\\Miha\\anaconda3\\envs\\pytorch_env\\Lib\\site-packages\\sklearn\\metrics\\_classification.py:1471: UndefinedMetricWarning: Precision is ill-defined and being set to 0.0 in labels with no predicted samples. Use `zero_division` parameter to control this behavior.\n",
      "  _warn_prf(average, modifier, msg_start, len(result))\n"
     ]
    },
    {
     "name": "stdout",
     "output_type": "stream",
     "text": [
      "Evolving has been disabled.\n",
      "Evolving has been enabled.\n",
      "Evolving has been disabled.\n",
      "Updated var_glo values: tensor(0.5279, device='cuda:0')\n",
      "Updated var_glo values: tensor(0.8581, device='cuda:0')\n",
      "Updated var_glo values: tensor(0.7557, device='cuda:0')\n",
      "Updated var_glo values: tensor(0.6833, device='cuda:0')\n",
      "Evolving has been disabled.\n",
      "Evolving has been enabled.\n",
      "Evolving has been disabled.\n",
      "Evolving has been enabled.\n"
     ]
    },
    {
     "name": "stderr",
     "output_type": "stream",
     "text": [
      "c:\\Users\\Miha\\anaconda3\\envs\\pytorch_env\\Lib\\site-packages\\sklearn\\metrics\\_classification.py:1471: UndefinedMetricWarning: Precision is ill-defined and being set to 0.0 in labels with no predicted samples. Use `zero_division` parameter to control this behavior.\n",
      "  _warn_prf(average, modifier, msg_start, len(result))\n"
     ]
    },
    {
     "name": "stdout",
     "output_type": "stream",
     "text": [
      "Evolving has been disabled.\n",
      "Evolving has been enabled.\n"
     ]
    },
    {
     "name": "stderr",
     "output_type": "stream",
     "text": [
      "c:\\Users\\Miha\\anaconda3\\envs\\pytorch_env\\Lib\\site-packages\\sklearn\\metrics\\_classification.py:1471: UndefinedMetricWarning: Precision is ill-defined and being set to 0.0 in labels with no predicted samples. Use `zero_division` parameter to control this behavior.\n",
      "  _warn_prf(average, modifier, msg_start, len(result))\n"
     ]
    },
    {
     "name": "stdout",
     "output_type": "stream",
     "text": [
      "Evolving has been disabled.\n",
      "Evolving has been enabled.\n",
      "Evolving has been disabled.\n",
      "Updated var_glo values: tensor(0.3905, device='cuda:0')\n",
      "Updated var_glo values: tensor(0.6715, device='cuda:0')\n",
      "Updated var_glo values: tensor(0.6821, device='cuda:0')\n",
      "Updated var_glo values: tensor(0.6982, device='cuda:0')\n",
      "Evolving has been disabled.\n"
     ]
    },
    {
     "data": {
      "text/plain": [
       "{'client_metrics': [[{'accuracy': 0.5333333333333333,\n",
       "    'precision': 0.36363636363636365,\n",
       "    'recall': 0.5333333333333333,\n",
       "    'f1_score': 0.40888888888888886},\n",
       "   {'accuracy': 0.7,\n",
       "    'precision': 0.6222222222222222,\n",
       "    'recall': 0.7,\n",
       "    'f1_score': 0.644039270687237},\n",
       "   {'accuracy': 0.6666666666666666,\n",
       "    'precision': 0.5181818181818182,\n",
       "    'recall': 0.6666666666666666,\n",
       "    'f1_score': 0.5647058823529411},\n",
       "   {'accuracy': 0.6,\n",
       "    'precision': 0.42,\n",
       "    'recall': 0.6,\n",
       "    'f1_score': 0.4842105263157895},\n",
       "   {'accuracy': 0.6333333333333333,\n",
       "    'precision': 0.47536231884057967,\n",
       "    'recall': 0.6333333333333333,\n",
       "    'f1_score': 0.5231746031746032}],\n",
       "  [{'accuracy': 0.7333333333333333,\n",
       "    'precision': 0.6,\n",
       "    'recall': 0.7333333333333333,\n",
       "    'f1_score': 0.6444444444444444},\n",
       "   {'accuracy': 0.7333333333333333,\n",
       "    'precision': 0.5555555555555555,\n",
       "    'recall': 0.7333333333333333,\n",
       "    'f1_score': 0.6266666666666667},\n",
       "   {'accuracy': 0.6,\n",
       "    'precision': 0.375,\n",
       "    'recall': 0.6,\n",
       "    'f1_score': 0.45714285714285713},\n",
       "   {'accuracy': 0.6666666666666666,\n",
       "    'precision': 0.5087719298245614,\n",
       "    'recall': 0.6666666666666666,\n",
       "    'f1_score': 0.5595238095238095},\n",
       "   {'accuracy': 0.6,\n",
       "    'precision': 0.44,\n",
       "    'recall': 0.6,\n",
       "    'f1_score': 0.48571428571428577}],\n",
       "  [{'accuracy': 0.9,\n",
       "    'precision': 0.9272727272727274,\n",
       "    'recall': 0.9,\n",
       "    'f1_score': 0.8963562753036437},\n",
       "   {'accuracy': 0.8333333333333334,\n",
       "    'precision': 0.8296918767507003,\n",
       "    'recall': 0.8333333333333334,\n",
       "    'f1_score': 0.8303030303030302},\n",
       "   {'accuracy': 0.8,\n",
       "    'precision': 0.8311688311688312,\n",
       "    'recall': 0.8,\n",
       "    'f1_score': 0.7919780219780219},\n",
       "   {'accuracy': 0.9333333333333333,\n",
       "    'precision': 0.9454545454545454,\n",
       "    'recall': 0.9333333333333333,\n",
       "    'f1_score': 0.9329629629629629},\n",
       "   {'accuracy': 0.9,\n",
       "    'precision': 0.9043771043771043,\n",
       "    'recall': 0.9,\n",
       "    'f1_score': 0.90076726342711}],\n",
       "  [{'accuracy': 0.9,\n",
       "    'precision': 0.9026455026455026,\n",
       "    'recall': 0.9,\n",
       "    'f1_score': 0.899607843137255},\n",
       "   {'accuracy': 0.9,\n",
       "    'precision': 0.9074074074074073,\n",
       "    'recall': 0.9,\n",
       "    'f1_score': 0.9014260249554368},\n",
       "   {'accuracy': 0.8,\n",
       "    'precision': 0.8666666666666667,\n",
       "    'recall': 0.8,\n",
       "    'f1_score': 0.77},\n",
       "   {'accuracy': 0.9,\n",
       "    'precision': 0.9230769230769231,\n",
       "    'recall': 0.9,\n",
       "    'f1_score': 0.8965217391304349},\n",
       "   {'accuracy': 0.8666666666666667,\n",
       "    'precision': 0.8969696969696969,\n",
       "    'recall': 0.8666666666666667,\n",
       "    'f1_score': 0.8620217209690895}]],\n",
       " 'client_clusters': [[tensor(5), tensor(3), tensor(6), tensor(3), tensor(4)],\n",
       "  [tensor(4), tensor(3), tensor(3), tensor(3), tensor(4)],\n",
       "  [tensor(8), tensor(6), tensor(4), tensor(6), tensor(8)],\n",
       "  [tensor(7), tensor(5), tensor(7), tensor(9), tensor(8)]],\n",
       " 'federated_metrics': [{'accuracy': 0.9666666666666667,\n",
       "   'precision': 0.9703703703703703,\n",
       "   'recall': 0.9666666666666667,\n",
       "   'f1_score': 0.9665359477124185},\n",
       "  {'accuracy': 0.9666666666666667,\n",
       "   'precision': 0.9686274509803922,\n",
       "   'recall': 0.9666666666666667,\n",
       "   'f1_score': 0.9660606060606062},\n",
       "  {'accuracy': 0.9666666666666667,\n",
       "   'precision': 0.9692307692307692,\n",
       "   'recall': 0.9666666666666667,\n",
       "   'f1_score': 0.9663529411764706},\n",
       "  {'accuracy': 0.9666666666666667,\n",
       "   'precision': 0.9700000000000001,\n",
       "   'recall': 0.9666666666666667,\n",
       "   'f1_score': 0.9666666666666667},\n",
       "  {'accuracy': 0.9333333333333333,\n",
       "   'precision': 0.9466666666666667,\n",
       "   'recall': 0.9333333333333333,\n",
       "   'f1_score': 0.934006734006734}],\n",
       " 'federated_clusters': [tensor(3), tensor(3), tensor(3), tensor(3), tensor(3)],\n",
       " 'samples_per_class_per_client': array([[[ 0.,  0.,  0.,  0.,  0.],\n",
       "         [ 8., 15., 12.,  8.,  8.],\n",
       "         [ 9.,  6., 10., 11.,  8.]],\n",
       " \n",
       "        [[17., 21., 19., 21., 22.],\n",
       "         [ 0.,  0.,  0.,  0.,  0.],\n",
       "         [11.,  8.,  7., 10., 11.]],\n",
       " \n",
       "        [[ 9., 14., 11.,  7.,  6.],\n",
       "         [26., 15., 17., 22., 18.],\n",
       "         [10., 11., 14., 11., 17.]],\n",
       " \n",
       "        [[10.,  9., 11., 11., 12.],\n",
       "         [ 8., 12.,  9., 10., 12.],\n",
       "         [12.,  9., 10.,  9.,  6.]]])}"
      ]
     },
     "execution_count": 3,
     "metadata": {},
     "output_type": "execute_result"
    }
   ],
   "source": [
    "# Load the Iris dataset\n",
    "iris = datasets.load_iris()\n",
    "\n",
    "X = iris.data\n",
    "y = iris.target\n",
    "\n",
    "num_clients = 4\n",
    "num_splits = 5\n",
    "num_repetitions = 10\n",
    "\n",
    "# Re-inserting the repetition of the experiment 10 times\n",
    "experiment_results = []\n",
    "for experiment in range(num_repetitions):\n",
    "    kf = KFold(n_splits=num_splits, shuffle=True, random_state=None)\n",
    "\n",
    "    # Initialize arrays to track samples per class for each client in each fold\n",
    "    samples_per_class_per_client = np.zeros((num_clients, local_model_params[\"num_classes\"], num_splits))\n",
    "\n",
    "    # Main loop for k-fold cross-validation\n",
    "    all_client_metrics = [[] for _ in range(num_clients)]\n",
    "    all_client_clusters = [[] for _ in range(num_clients)]\n",
    "\n",
    "    all_federated_metrics = []\n",
    "    all_federated_clusters = []\n",
    "\n",
    "    for i_fold, (train_index, test_index) in enumerate(kf.split(iris.data)):\n",
    "        # Split the data\n",
    "        train_data, test_data, all_data = prepare_k_fold_non_iid_dataset(X, y, train_index, test_index, num_clients)\n",
    "\n",
    "        # Create the models\n",
    "        local_models = [eGAUSSp(**local_model_params) for _ in range(num_clients)]\n",
    "        federated_model = eGAUSSp(**federated_model_params)\n",
    "\n",
    "        # Train and test the models\n",
    "        for client_idx, client_model in enumerate(local_models):\n",
    "            # Count the number of samples per class for this client in this fold\n",
    "            for class_idx in range(client_model.num_classes):\n",
    "                class_samples = torch.sum((train_data[client_idx][1] == class_idx).float(), dim=0)\n",
    "                samples_per_class_per_client[client_idx, class_idx, i_fold] = class_samples\n",
    "\n",
    "            # Supervised clustering\n",
    "            train_supervised(client_model, train_data[client_idx])\n",
    "\n",
    "            # Test the local models\n",
    "            _, pred, _ = test_model(client_model, test_data)\n",
    "            metrics = calculate_metrics(pred.cpu(), test_data, \"weighted\")\n",
    "            all_client_metrics[client_idx].append(metrics)\n",
    "\n",
    "            # Save the number of clusters\n",
    "            num_client_clusters = torch.sum(client_model.n[:client_model.c] > 1).cpu()\n",
    "            all_client_clusters[client_idx].append(num_client_clusters)\n",
    "\n",
    "        # Aggregate local models\n",
    "        for client_model in local_models:\n",
    "            federated_model.federal_agent.merge_model_privately(client_model, federated_model.kappa_n, 0)\n",
    "        \n",
    "        aggregated_model = copy.deepcopy(federated_model)\n",
    "        federated_model.federal_agent.federated_merging()\n",
    "        federated_model.score = torch.ones_like(federated_model.score)\n",
    "        federated_model.num_pred = torch.zeros_like(federated_model.num_pred)\n",
    "\n",
    "        num_federated_clusters = torch.sum(federated_model.n[:federated_model.c] > 0).cpu()\n",
    "        all_federated_clusters.append(num_federated_clusters)\n",
    "\n",
    "        # Test the federated model\n",
    "        _, pred_fed, _ = test_model(federated_model, test_data)\n",
    "        federated_metrics = calculate_metrics(pred_fed.cpu(), test_data, \"weighted\")\n",
    "        all_federated_metrics.append(federated_metrics)\n",
    "\n",
    "    # Store results of each experiment\n",
    "    experiment_results.append({\n",
    "        \"client_metrics\": all_client_metrics,\n",
    "        \"client_clusters\": all_client_clusters,\n",
    "        \"federated_metrics\": all_federated_metrics,\n",
    "        \"federated_clusters\": all_federated_clusters,\n",
    "        \"samples_per_class_per_client\": samples_per_class_per_client\n",
    "    })\n",
    "    \n",
    "# Displaying the result of the first experiment for brevity\n",
    "experiment_results[0]  # Replace with desired processing or analysis of experiment results\n"
   ]
  },
  {
   "cell_type": "code",
   "execution_count": 4,
   "metadata": {},
   "outputs": [
    {
     "name": "stdout",
     "output_type": "stream",
     "text": [
      "Aggregated Metrics for Client 1:\n",
      "accuracy: 0.59 ± 0.09\n",
      "precision: 0.46 ± 0.10\n",
      "recall: 0.59 ± 0.09\n",
      "f1_score: 0.49 ± 0.10\n",
      "Client 1:\n",
      "  Class 0: 0.00 samples\n",
      "  Class 1: 9.96 samples\n",
      "  Class 2: 10.06 samples\n",
      "Client 2:\n",
      "  Class 0: 19.90 samples\n",
      "  Class 1: 0.00 samples\n",
      "  Class 2: 10.18 samples\n",
      "Client 3:\n",
      "  Class 0: 10.06 samples\n",
      "  Class 1: 19.64 samples\n",
      "  Class 2: 10.20 samples\n",
      "Client 4:\n",
      "  Class 0: 10.04 samples\n",
      "  Class 1: 10.40 samples\n",
      "  Class 2: 9.56 samples\n"
     ]
    }
   ],
   "source": [
    "import numpy as np\n",
    "\n",
    "# Initialize variables to store aggregated data\n",
    "agg_client_metrics = [{} for _ in range(num_clients)]\n",
    "agg_federated_metrics = {}\n",
    "agg_client_clusters = [[] for _ in range(num_clients)]\n",
    "agg_federated_clusters = []\n",
    "\n",
    "# Process each experiment\n",
    "for result in experiment_results:\n",
    "    for client_idx, client_metrics in enumerate(result['client_metrics']):\n",
    "        for metric in client_metrics[0].keys():\n",
    "            if metric not in agg_client_metrics[client_idx]:\n",
    "                agg_client_metrics[client_idx][metric] = []\n",
    "            agg_client_metrics[client_idx][metric].extend([m[metric] for m in client_metrics])\n",
    "\n",
    "    for metric in result['federated_metrics'][0].keys():\n",
    "        if metric not in agg_federated_metrics:\n",
    "            agg_federated_metrics[metric] = []\n",
    "        agg_federated_metrics[metric].extend([m[metric] for m in result['federated_metrics']])\n",
    "\n",
    "    for client_idx, client_clusters in enumerate(result['client_clusters']):\n",
    "        agg_client_clusters[client_idx].extend(client_clusters)\n",
    "\n",
    "    agg_federated_clusters.extend(result['federated_clusters'])\n",
    "\n",
    "# Calculate averages and standard deviations\n",
    "for client_metrics in agg_client_metrics:\n",
    "    for metric, values in client_metrics.items():\n",
    "        mean = np.mean(values)\n",
    "        std = np.std(values, ddof=1)\n",
    "        client_metrics[metric] = (mean, std)\n",
    "\n",
    "for metric, values in agg_federated_metrics.items():\n",
    "    mean = np.mean(values)\n",
    "    std = np.std(values, ddof=1)\n",
    "    agg_federated_metrics[metric] = (mean, std)\n",
    "\n",
    "# Example of printing aggregated metrics for the first client\n",
    "print(\"Aggregated Metrics for Client 1:\")\n",
    "for metric, (mean, std) in agg_client_metrics[0].items():\n",
    "    print(f\"{metric}: {mean:.2f} ± {std:.2f}\")\n",
    "\n",
    "agg_samples = np.zeros((num_clients, num_classes, num_splits))\n",
    "\n",
    "# Aggregate data from each experiment\n",
    "for result in experiment_results:\n",
    "    samples_per_class_per_client = result['samples_per_class_per_client']\n",
    "    agg_samples += samples_per_class_per_client\n",
    "\n",
    "# Compute the average across all repetitions (and folds if required)\n",
    "avg_samples = agg_samples / len(experiment_results)\n",
    "\n",
    "# Calculate the average for each client and class across folds\n",
    "avg_samples_per_class_per_client = avg_samples.mean(axis=2)\n",
    "\n",
    "# Print the results\n",
    "for client_idx in range(num_clients):\n",
    "    print(f\"Client {client_idx + 1}:\")\n",
    "    for class_idx in range(num_classes):\n",
    "        avg_samples = avg_samples_per_class_per_client[client_idx, class_idx]\n",
    "        print(f\"  Class {class_idx}: {avg_samples:.2f} samples\")"
   ]
  },
  {
   "cell_type": "code",
   "execution_count": 5,
   "metadata": {},
   "outputs": [
    {
     "name": "stdout",
     "output_type": "stream",
     "text": [
      "\\begin{table}[ht]\n",
      "\\centering\n",
      "\\setlength{\\tabcolsep}{2pt}\n",
      "\\scriptsize\n",
      "\\caption{Performance metrics and average number of clusters on the Iris dataset.}\n",
      "\\label{tab:performance_clusters}\n",
      "\\begin{tabular}{lcccccc}\n",
      "\\toprule\n",
      "\\textbf{Metric} & \\textbf{Client 1} & \\textbf{Client 2} & \\textbf{Client 3} & \\textbf{Client 4} & \\textbf{Federated} \\\\\n",
      "Average Samples & & 0.0/10.0/10.1 & 19.9/0.0/10.2 & 10.1/19.6/10.2 & 10.0/10.4/9.6 \\\\\n",
      "\\midrule\n",
      "Accuracy (\\%) $\\uparrow$ & 58.9 ± 9.3 & 66.5 ± 7.9 & 89.9 ± 6.0 & 89.1 ± 7.1 & \\bf{96.2 ± 3.8} \\\\\n",
      "Precision (\\%) $\\uparrow$ & 45.5 ± 10.0 & 49.4 ± 9.5 & 91.9 ± 4.5 & 91.4 ± 4.9 & \\bf{96.7 ± 3.2} \\\\\n",
      "Recall (\\%) $\\uparrow$ & 58.9 ± 9.3 & 66.5 ± 7.9 & 89.9 ± 6.0 & 89.1 ± 7.1 & \\bf{96.2 ± 3.8} \\\\\n",
      "F1 Score (\\%) $\\uparrow$ & 49.4 ± 10.0 & 55.3 ± 9.4 & 89.6 ± 6.5 & 88.8 ± 7.5 & \\bf{96.2 ± 3.8} \\\\\n",
      "\\#Clusters $\\downarrow$ & 4.6 ± 1.2 & 3.5 ± 0.9 & 6.9 ± 1.5 & 6.5 ± 1.5 & \\bf{3.0 ± 0.0} \\\\\n",
      "\\bottomrule\n",
      "\\end{tabular}\n",
      "\\end{table}\n",
      "\n"
     ]
    }
   ],
   "source": [
    "# Create a LaTeX table for the paper\n",
    "# Start the LaTeX table code\n",
    "latex_table = r\"\"\"\\begin{table}[ht]\n",
    "\\centering\n",
    "\\setlength{\\tabcolsep}{2pt}\n",
    "\\scriptsize\n",
    "\\caption{Performance metrics and average number of clusters on the Iris dataset.}\n",
    "\\label{tab:performance_clusters}\n",
    "\\begin{tabular}{lcccccc}\n",
    "\\toprule\n",
    "\\textbf{Metric} & \\textbf{Client 1} & \\textbf{Client 2} & \\textbf{Client 3} & \\textbf{Client 4} & \\textbf{Federated} \\\\\n",
    "\"\"\"\n",
    "\n",
    "# Add the header for average samples per class\n",
    "latex_table += r\"Average Samples &\"\n",
    "\n",
    "# Add the average samples per class for each client\n",
    "samples_row = \"\"\n",
    "for samples in avg_samples_per_class_per_client:\n",
    "    samples_row += \" & \" + \"/\".join([f\"{x:.1f}\" for x in samples])\n",
    "latex_table += samples_row + \" \\\\\\\\\" + \"\\n\"\n",
    "\n",
    "latex_table += r\"\\midrule\" + \"\\n\"\n",
    "\n",
    "\n",
    "# Add rows for each metric\n",
    "metrics = ['accuracy', 'precision', 'recall', 'f1_score']\n",
    "metric_names = ['Accuracy (\\%)', 'Precision (\\%)', 'Recall (\\%)', 'F1 Score (\\%)']\n",
    "for i, metric in enumerate(metrics):\n",
    "    row = metric_names[i] + r' $\\uparrow$'\n",
    "    for client_metrics in agg_client_metrics:\n",
    "        mean, std = client_metrics[metric]\n",
    "        row += f' & {mean * 100:.1f} ± {std * 100:.1f}'\n",
    "    mean, std = agg_federated_metrics[metric]\n",
    "    row += r' & \\bf' + f'{{{mean * 100:.1f} ± {std * 100:.1f}}}'\n",
    "    latex_table += row + r' \\\\' + '\\n'\n",
    "\n",
    "# Add row for clusters\n",
    "cluster_row = r'\\#Clusters $\\downarrow$'\n",
    "for client_clusters in agg_client_clusters:\n",
    "    avg_clusters = np.mean(client_clusters)\n",
    "    std_clusters = np.std(client_clusters, ddof=1)\n",
    "    cluster_row += f' & {avg_clusters:.1f} ± {std_clusters:.1f}'\n",
    "\n",
    "# Assuming agg_federated_clusters is a list of cluster counts for the federated model\n",
    "avg_fed_clusters = np.mean(agg_federated_clusters)\n",
    "std_fed_clusters = np.std(agg_federated_clusters, ddof=1)\n",
    "cluster_row += r' & \\bf' + f'{{{avg_fed_clusters:.1f} ± {std_fed_clusters:.1f}}}'\n",
    "\n",
    "latex_table += cluster_row + r' \\\\' + '\\n'\n",
    "\n",
    "# End the LaTeX table code\n",
    "latex_table += r\"\"\"\\bottomrule\n",
    "\\end{tabular}\n",
    "\\end{table}\n",
    "\"\"\"\n",
    "\n",
    "# Print the complete LaTeX table\n",
    "print(latex_table)\n"
   ]
  },
  {
   "cell_type": "code",
   "execution_count": 6,
   "metadata": {},
   "outputs": [
    {
     "name": "stdout",
     "output_type": "stream",
     "text": [
      "Client 1: {1: 8, 2: 12}\n",
      "Client 2: {0: 23, 2: 7}\n",
      "Client 3: {0: 10, 1: 18, 2: 12}\n",
      "Client 4: {0: 9, 1: 13, 2: 8}\n",
      "Test Set: {0: 8, 1: 11, 2: 11}\n",
      "\n",
      "Combined Number of Samples per Class:\n",
      "Class 0: 50 samples\n",
      "Class 1: 50 samples\n",
      "Class 2: 50 samples\n",
      "\n",
      "Total Number of Samples Across All Datasets: 150\n",
      "Figure saved as .Images/iris_data_distribution.svg in svg format.\n"
     ]
    },
    {
     "data": {
      "image/png": "[encoded data removed]",
      "text/plain": [
       "<Figure size 500x300 with 1 Axes>"
      ]
     },
     "metadata": {},
     "output_type": "display_data"
    }
   ],
   "source": [
    "#Aditional plots of the data\n",
    "display_dataset_split(train_data, test_data)\n",
    "fig = plot_dataset_split(train_data, test_data)\n",
    "save_figure(fig, \".Images/iris_data_distribution.svg\",\"svg\")"
   ]
  },
  {
   "cell_type": "code",
   "execution_count": 7,
   "metadata": {},
   "outputs": [
    {
     "data": {
      "image/png": "[encoded data removed]",
      "text/plain": [
       "<Figure size 750x250 with 3 Axes>"
      ]
     },
     "metadata": {},
     "output_type": "display_data"
    },
    {
     "name": "stdout",
     "output_type": "stream",
     "text": [
      "Figure saved as .Images/iris_local_model.svg in svg format.\n",
      "Figure saved as .Images/iris_local_model.pdf in pdf format.\n"
     ]
    }
   ],
   "source": [
    "#Plot of the last local model\n",
    "fig = plot_first_feature_horizontal(train_data[client_idx], model=client_model, num_sigma=2, N_max=1, title=\"\",format='%d', legend = True, data_name = \"Class\")  \n",
    "save_figure(fig, \".Images/iris_local_model.svg\", \"svg\")\n",
    "save_figure(fig, \".Images/iris_local_model.pdf\",\"pdf\")"
   ]
  },
  {
   "cell_type": "code",
   "execution_count": 8,
   "metadata": {},
   "outputs": [
    {
     "data": {
      "image/png": "[encoded data removed]",
      "text/plain": [
       "<Figure size 750x250 with 3 Axes>"
      ]
     },
     "metadata": {},
     "output_type": "display_data"
    },
    {
     "name": "stdout",
     "output_type": "stream",
     "text": [
      "Number of clusters after merging = 3\n",
      "Figure saved as .Images/iris_federated_merged.svg in svg format.\n",
      "Figure saved as .Images/iris_federated_merged.pdf in pdf format.\n"
     ]
    }
   ],
   "source": [
    "#Plot of the last federated model\n",
    "fig = plot_first_feature_horizontal(test_data, model=federated_model.cpu(), num_sigma=2, N_max=0, title=\"\", format='%d')   \n",
    "print(f\"Number of clusters after merging = {federated_model.c}\")\n",
    "save_figure(fig, \".Images/iris_federated_merged.svg\",\"svg\")\n",
    "save_figure(fig, \".Images/iris_federated_merged.pdf\",\"pdf\")"
   ]
  },
  {
   "cell_type": "code",
   "execution_count": 9,
   "metadata": {},
   "outputs": [
    {
     "data": {
      "image/png": "[encoded data removed]",
      "text/plain": [
       "<Figure size 750x250 with 3 Axes>"
      ]
     },
     "metadata": {},
     "output_type": "display_data"
    },
    {
     "name": "stdout",
     "output_type": "stream",
     "text": [
      "Figure saved as .Images/iris_aggregated.svg in svg format.\n",
      "Figure saved as .Images/iris_aggregated.pdf in pdf format.\n"
     ]
    }
   ],
   "source": [
    "#Plot of the last aggregated model\n",
    "fig = plot_first_feature_horizontal(all_data, model= aggregated_model.cpu(), num_sigma=2, N_max=0, title=\"\", format='%d')   \n",
    "save_figure(fig, \".Images/iris_aggregated.svg\",\"svg\")\n",
    "save_figure(fig, \".Images/iris_aggregated.pdf\",\"pdf\")"
   ]
  },
  {
   "cell_type": "code",
   "execution_count": 10,
   "metadata": {},
   "outputs": [
    {
     "data": {
      "image/png": "[encoded data removed]",
      "text/plain": [
       "<Figure size 400x300 with 2 Axes>"
      ]
     },
     "metadata": {},
     "output_type": "display_data"
    }
   ],
   "source": [
    "plot_confusion_matrix(pred_fed.cpu(), test_data)"
   ]
  }
 ],
 "metadata": {
  "kernelspec": {
   "display_name": "Python 3",
   "language": "python",
   "name": "python3"
  },
  "language_info": {
   "codemirror_mode": {
    "name": "ipython",
    "version": 3
   },
   "file_extension": ".py",
   "mimetype": "text/x-python",
   "name": "python",
   "nbconvert_exporter": "python",
   "pygments_lexer": "ipython3",
   "version": "3.11.7"
  }
 },
 "nbformat": 4,
 "nbformat_minor": 2
}
